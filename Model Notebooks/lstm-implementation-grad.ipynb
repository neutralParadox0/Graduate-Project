{
 "cells": [
  {
   "cell_type": "code",
   "execution_count": 1,
   "id": "7d5b3b91",
   "metadata": {
    "_cell_guid": "b1076dfc-b9ad-4769-8c92-a6c4dae69d19",
    "_uuid": "8f2839f25d086af736a60e9eeb907d3b93b6e0e5",
    "execution": {
     "iopub.execute_input": "2022-12-03T22:58:54.079582Z",
     "iopub.status.busy": "2022-12-03T22:58:54.079016Z",
     "iopub.status.idle": "2022-12-03T22:59:00.972792Z",
     "shell.execute_reply": "2022-12-03T22:59:00.971738Z"
    },
    "papermill": {
     "duration": 6.903842,
     "end_time": "2022-12-03T22:59:00.975329",
     "exception": false,
     "start_time": "2022-12-03T22:58:54.071487",
     "status": "completed"
    },
    "tags": []
   },
   "outputs": [],
   "source": [
    "import matplotlib.pyplot as plt\n",
    "\n",
    "#for loading and visualizing audio files\n",
    "import librosa\n",
    "import librosa.display\n",
    "from tqdm import tqdm\n",
    "#to play audio\n",
    "import IPython.display as ipd\n",
    "import pandas as pd # data processing, CSV file I/O (e.g. pd.read_csv)\n",
    "import tensorflow as tf\n",
    "import cv2\n",
    "from keras.preprocessing.image import ImageDataGenerator\n",
    "from keras import backend as K\n",
    "import keras\n",
    "from keras.models import Sequential, Model,load_model\n",
    "from tensorflow.keras.optimizers import SGD, Adam\n",
    "from keras.callbacks import EarlyStopping,ModelCheckpoint\n",
    "from keras.layers import Input, Dense, Dropout, LSTM, Embedding, Flatten, Bidirectional\n",
    "from keras.preprocessing import image\n",
    "from keras.initializers import glorot_uniform\n",
    "from tensorflow.keras.applications import inception_v3\n",
    "from tensorflow.keras.models import Sequential\n",
    "from tensorflow.keras.preprocessing.image import ImageDataGenerator\n",
    "import numpy as np\n",
    "from sklearn.model_selection import train_test_split\n",
    "from keras.callbacks import ReduceLROnPlateau, EarlyStopping\n",
    "from tensorflow.keras.metrics import AUC\n",
    "import os\n",
    "import shutil\n",
    "label_csv = '../input/gtzan-dataset-music-genre-classification/Data/features_3_sec.csv'\n",
    "audio_fpath = \"../input/gtzan-dataset-music-genre-classification/Data/genres_original/\""
   ]
  },
  {
   "cell_type": "code",
   "execution_count": 2,
   "id": "cdf7dc69",
   "metadata": {
    "execution": {
     "iopub.execute_input": "2022-12-03T22:59:00.987765Z",
     "iopub.status.busy": "2022-12-03T22:59:00.985968Z",
     "iopub.status.idle": "2022-12-03T22:59:00.993758Z",
     "shell.execute_reply": "2022-12-03T22:59:00.992774Z"
    },
    "papermill": {
     "duration": 0.015492,
     "end_time": "2022-12-03T22:59:00.995678",
     "exception": false,
     "start_time": "2022-12-03T22:59:00.980186",
     "status": "completed"
    },
    "tags": []
   },
   "outputs": [],
   "source": [
    "class AudioAugmentation:   \n",
    "    def add_noise(self, data):\n",
    "        noise = np.random.randn(len(data))\n",
    "        data_noise = data + 0.005 * noise\n",
    "        return data_noise\n",
    "    \n",
    "    def shift(self, data):\n",
    "        return np.roll(data, 6614)\n",
    "    \n",
    "    def stretch(self, data, rate=1):\n",
    "        input_length = 16000\n",
    "        data = librosa.effects.time_stretch(data, rate)\n",
    "        if len(data) > input_length:\n",
    "            data = data[:input_length]\n",
    "        else:\n",
    "            data = np.pad(data, (0, max(0, input_length - len(data))), \"constant\")\n",
    "        return data\n",
    "        "
   ]
  },
  {
   "cell_type": "code",
   "execution_count": 3,
   "id": "c8256389",
   "metadata": {
    "execution": {
     "iopub.execute_input": "2022-12-03T22:59:01.006059Z",
     "iopub.status.busy": "2022-12-03T22:59:01.005781Z",
     "iopub.status.idle": "2022-12-03T22:59:01.331524Z",
     "shell.execute_reply": "2022-12-03T22:59:01.330406Z"
    },
    "papermill": {
     "duration": 0.333373,
     "end_time": "2022-12-03T22:59:01.333734",
     "exception": false,
     "start_time": "2022-12-03T22:59:01.000361",
     "status": "completed"
    },
    "tags": []
   },
   "outputs": [
    {
     "name": "stdout",
     "output_type": "stream",
     "text": [
      "No. of .wav files in audio folder =  10\n",
      "            filename  length  chroma_stft_mean  chroma_stft_var  rms_mean  \\\n",
      "0  blues.00000.0.wav   66149          0.335406         0.091048  0.130405   \n",
      "1  blues.00000.1.wav   66149          0.343065         0.086147  0.112699   \n",
      "2  blues.00000.2.wav   66149          0.346815         0.092243  0.132003   \n",
      "3  blues.00000.3.wav   66149          0.363639         0.086856  0.132565   \n",
      "4  blues.00000.4.wav   66149          0.335579         0.088129  0.143289   \n",
      "\n",
      "    rms_var  spectral_centroid_mean  spectral_centroid_var  \\\n",
      "0  0.003521             1773.065032          167541.630869   \n",
      "1  0.001450             1816.693777           90525.690866   \n",
      "2  0.004620             1788.539719          111407.437613   \n",
      "3  0.002448             1655.289045          111952.284517   \n",
      "4  0.001701             1630.656199           79667.267654   \n",
      "\n",
      "   spectral_bandwidth_mean  spectral_bandwidth_var  ...  mfcc16_var  \\\n",
      "0              1972.744388           117335.771563  ...   39.687145   \n",
      "1              2010.051501            65671.875673  ...   64.748276   \n",
      "2              2084.565132            75124.921716  ...   67.336563   \n",
      "3              1960.039988            82913.639269  ...   47.739452   \n",
      "4              1948.503884            60204.020268  ...   30.336359   \n",
      "\n",
      "   mfcc17_mean  mfcc17_var  mfcc18_mean  mfcc18_var  mfcc19_mean  mfcc19_var  \\\n",
      "0    -3.241280   36.488243     0.722209   38.099152    -5.050335   33.618073   \n",
      "1    -6.055294   40.677654     0.159015   51.264091    -2.837699   97.030830   \n",
      "2    -1.768610   28.348579     2.378768   45.717648    -1.938424   53.050835   \n",
      "3    -3.841155   28.337118     1.218588   34.770935    -3.580352   50.836224   \n",
      "4     0.664582   45.880913     1.689446   51.363583    -3.392489   26.738789   \n",
      "\n",
      "   mfcc20_mean  mfcc20_var  label  \n",
      "0    -0.243027   43.771767  blues  \n",
      "1     5.784063   59.943081  blues  \n",
      "2     2.517375   33.105122  blues  \n",
      "3     3.630866   32.023678  blues  \n",
      "4     0.536961   29.146694  blues  \n",
      "\n",
      "[5 rows x 60 columns]\n"
     ]
    },
    {
     "data": {
      "text/plain": [
       "(9990, 60)"
      ]
     },
     "execution_count": 3,
     "metadata": {},
     "output_type": "execute_result"
    }
   ],
   "source": [
    "\n",
    "audio_clips = os.listdir(audio_fpath)\n",
    "print(\"No. of .wav files in audio folder = \",len(audio_clips))\n",
    "df = pd.read_csv(label_csv)\n",
    "\n",
    "print(df.head())\n",
    "df.shape"
   ]
  },
  {
   "cell_type": "code",
   "execution_count": 4,
   "id": "1f2d9cb7",
   "metadata": {
    "execution": {
     "iopub.execute_input": "2022-12-03T22:59:01.345841Z",
     "iopub.status.busy": "2022-12-03T22:59:01.344802Z",
     "iopub.status.idle": "2022-12-03T22:59:01.994176Z",
     "shell.execute_reply": "2022-12-03T22:59:01.991876Z"
    },
    "papermill": {
     "duration": 0.657876,
     "end_time": "2022-12-03T22:59:01.996528",
     "exception": false,
     "start_time": "2022-12-03T22:59:01.338652",
     "status": "completed"
    },
    "tags": []
   },
   "outputs": [
    {
     "name": "stdout",
     "output_type": "stream",
     "text": [
      "<class 'numpy.ndarray'> <class 'int'>\n",
      "(661794,) 22050\n"
     ]
    }
   ],
   "source": [
    "x, sr = librosa.load('../input/gtzan-dataset-music-genre-classification/Data/genres_original/blues/blues.00000.wav')\n",
    "\n",
    "print(type(x), type(sr))\n",
    "print(x.shape, sr)"
   ]
  },
  {
   "cell_type": "code",
   "execution_count": 5,
   "id": "5855e646",
   "metadata": {
    "execution": {
     "iopub.execute_input": "2022-12-03T22:59:02.008344Z",
     "iopub.status.busy": "2022-12-03T22:59:02.007686Z",
     "iopub.status.idle": "2022-12-03T22:59:02.013375Z",
     "shell.execute_reply": "2022-12-03T22:59:02.012505Z"
    },
    "papermill": {
     "duration": 0.013638,
     "end_time": "2022-12-03T22:59:02.015348",
     "exception": false,
     "start_time": "2022-12-03T22:59:02.001710",
     "status": "completed"
    },
    "tags": []
   },
   "outputs": [],
   "source": [
    "audio_duration = x.shape[0] / sr"
   ]
  },
  {
   "cell_type": "code",
   "execution_count": 6,
   "id": "75ff16e9",
   "metadata": {
    "execution": {
     "iopub.execute_input": "2022-12-03T22:59:02.026483Z",
     "iopub.status.busy": "2022-12-03T22:59:02.025623Z",
     "iopub.status.idle": "2022-12-03T22:59:03.408879Z",
     "shell.execute_reply": "2022-12-03T22:59:03.407765Z"
    },
    "papermill": {
     "duration": 1.391842,
     "end_time": "2022-12-03T22:59:03.411777",
     "exception": false,
     "start_time": "2022-12-03T22:59:02.019935",
     "status": "completed"
    },
    "tags": []
   },
   "outputs": [
    {
     "name": "stderr",
     "output_type": "stream",
     "text": [
      "9990it [00:01, 7288.07it/s]"
     ]
    },
    {
     "name": "stdout",
     "output_type": "stream",
     "text": [
      "[-118.62791442871094, 125.08362579345705, -23.443723678588867, 41.32148361206055, -5.976108074188232, 20.115140914916992, -16.04541015625, 17.85519790649414, -14.633434295654297, 10.270526885986328, -9.70827865600586, 10.18387508392334, -4.681614398956299, 8.417439460754395, -7.233476638793945, -2.8536033630371094, -3.2412803173065186, 0.7222089767456055, -5.05033540725708, -0.2430267930030822]\n"
     ]
    },
    {
     "name": "stderr",
     "output_type": "stream",
     "text": [
      "\n"
     ]
    }
   ],
   "source": [
    "extracted_data = []\n",
    "for index, row in tqdm(df.iterrows()):\n",
    "    mfcc = []\n",
    "    class_labels = row['label']\n",
    "    for i in range(1,21):\n",
    "        mfcc.append(row['mfcc'+ str(i)+'_mean'])\n",
    "    extracted_data.append([mfcc, class_labels])\n",
    "print(extracted_data[0][0])"
   ]
  },
  {
   "cell_type": "code",
   "execution_count": 7,
   "id": "3a29c956",
   "metadata": {
    "execution": {
     "iopub.execute_input": "2022-12-03T22:59:03.425292Z",
     "iopub.status.busy": "2022-12-03T22:59:03.424789Z",
     "iopub.status.idle": "2022-12-03T22:59:03.442500Z",
     "shell.execute_reply": "2022-12-03T22:59:03.441601Z"
    },
    "papermill": {
     "duration": 0.026428,
     "end_time": "2022-12-03T22:59:03.444685",
     "exception": false,
     "start_time": "2022-12-03T22:59:03.418257",
     "status": "completed"
    },
    "tags": []
   },
   "outputs": [
    {
     "name": "stderr",
     "output_type": "stream",
     "text": [
      "/opt/conda/lib/python3.7/site-packages/ipykernel_launcher.py:1: VisibleDeprecationWarning: Creating an ndarray from ragged nested sequences (which is a list-or-tuple of lists-or-tuples-or ndarrays with different lengths or shapes) is deprecated. If you meant to do this, you must specify 'dtype=object' when creating the ndarray.\n",
      "  \"\"\"Entry point for launching an IPython kernel.\n"
     ]
    },
    {
     "data": {
      "text/plain": [
       "(9990, 2)"
      ]
     },
     "execution_count": 7,
     "metadata": {},
     "output_type": "execute_result"
    }
   ],
   "source": [
    "np.array(extracted_data).shape"
   ]
  },
  {
   "cell_type": "code",
   "execution_count": 8,
   "id": "5c079d12",
   "metadata": {
    "execution": {
     "iopub.execute_input": "2022-12-03T22:59:03.457311Z",
     "iopub.status.busy": "2022-12-03T22:59:03.457020Z",
     "iopub.status.idle": "2022-12-03T22:59:03.473929Z",
     "shell.execute_reply": "2022-12-03T22:59:03.472902Z"
    },
    "papermill": {
     "duration": 0.025743,
     "end_time": "2022-12-03T22:59:03.476068",
     "exception": false,
     "start_time": "2022-12-03T22:59:03.450325",
     "status": "completed"
    },
    "tags": []
   },
   "outputs": [
    {
     "data": {
      "text/html": [
       "<div>\n",
       "<style scoped>\n",
       "    .dataframe tbody tr th:only-of-type {\n",
       "        vertical-align: middle;\n",
       "    }\n",
       "\n",
       "    .dataframe tbody tr th {\n",
       "        vertical-align: top;\n",
       "    }\n",
       "\n",
       "    .dataframe thead th {\n",
       "        text-align: right;\n",
       "    }\n",
       "</style>\n",
       "<table border=\"1\" class=\"dataframe\">\n",
       "  <thead>\n",
       "    <tr style=\"text-align: right;\">\n",
       "      <th></th>\n",
       "      <th>feature</th>\n",
       "      <th>class</th>\n",
       "    </tr>\n",
       "  </thead>\n",
       "  <tbody>\n",
       "    <tr>\n",
       "      <th>0</th>\n",
       "      <td>[-118.62791442871094, 125.08362579345705, -23....</td>\n",
       "      <td>blues</td>\n",
       "    </tr>\n",
       "    <tr>\n",
       "      <th>1</th>\n",
       "      <td>[-125.59070587158205, 122.42122650146484, -20....</td>\n",
       "      <td>blues</td>\n",
       "    </tr>\n",
       "    <tr>\n",
       "      <th>2</th>\n",
       "      <td>[-132.4419403076172, 115.08517456054688, -14.8...</td>\n",
       "      <td>blues</td>\n",
       "    </tr>\n",
       "    <tr>\n",
       "      <th>3</th>\n",
       "      <td>[-118.23108673095705, 132.1165008544922, -18.7...</td>\n",
       "      <td>blues</td>\n",
       "    </tr>\n",
       "    <tr>\n",
       "      <th>4</th>\n",
       "      <td>[-105.96837615966795, 134.64364624023438, -19....</td>\n",
       "      <td>blues</td>\n",
       "    </tr>\n",
       "  </tbody>\n",
       "</table>\n",
       "</div>"
      ],
      "text/plain": [
       "                                             feature  class\n",
       "0  [-118.62791442871094, 125.08362579345705, -23....  blues\n",
       "1  [-125.59070587158205, 122.42122650146484, -20....  blues\n",
       "2  [-132.4419403076172, 115.08517456054688, -14.8...  blues\n",
       "3  [-118.23108673095705, 132.1165008544922, -18.7...  blues\n",
       "4  [-105.96837615966795, 134.64364624023438, -19....  blues"
      ]
     },
     "execution_count": 8,
     "metadata": {},
     "output_type": "execute_result"
    }
   ],
   "source": [
    "feature_df = pd.DataFrame(extracted_data, columns=['feature','class'])\n",
    "\n",
    "feature_df.head()"
   ]
  },
  {
   "cell_type": "code",
   "execution_count": 9,
   "id": "1b81dd95",
   "metadata": {
    "execution": {
     "iopub.execute_input": "2022-12-03T22:59:03.489358Z",
     "iopub.status.busy": "2022-12-03T22:59:03.488502Z",
     "iopub.status.idle": "2022-12-03T22:59:03.513639Z",
     "shell.execute_reply": "2022-12-03T22:59:03.512549Z"
    },
    "papermill": {
     "duration": 0.034024,
     "end_time": "2022-12-03T22:59:03.515884",
     "exception": false,
     "start_time": "2022-12-03T22:59:03.481860",
     "status": "completed"
    },
    "tags": []
   },
   "outputs": [
    {
     "data": {
      "text/plain": [
       "(9990, 20)"
      ]
     },
     "execution_count": 9,
     "metadata": {},
     "output_type": "execute_result"
    }
   ],
   "source": [
    "x = np.array(feature_df['feature'].tolist())\n",
    "\n",
    "x.shape"
   ]
  },
  {
   "cell_type": "code",
   "execution_count": 10,
   "id": "42b0fc96",
   "metadata": {
    "execution": {
     "iopub.execute_input": "2022-12-03T22:59:03.529625Z",
     "iopub.status.busy": "2022-12-03T22:59:03.529259Z",
     "iopub.status.idle": "2022-12-03T22:59:03.535776Z",
     "shell.execute_reply": "2022-12-03T22:59:03.534680Z"
    },
    "papermill": {
     "duration": 0.016116,
     "end_time": "2022-12-03T22:59:03.538246",
     "exception": false,
     "start_time": "2022-12-03T22:59:03.522130",
     "status": "completed"
    },
    "tags": []
   },
   "outputs": [],
   "source": [
    "target = np.array(feature_df['class'].tolist())"
   ]
  },
  {
   "cell_type": "code",
   "execution_count": 11,
   "id": "23a197eb",
   "metadata": {
    "execution": {
     "iopub.execute_input": "2022-12-03T22:59:03.554034Z",
     "iopub.status.busy": "2022-12-03T22:59:03.553681Z",
     "iopub.status.idle": "2022-12-03T22:59:03.573743Z",
     "shell.execute_reply": "2022-12-03T22:59:03.572162Z"
    },
    "papermill": {
     "duration": 0.032086,
     "end_time": "2022-12-03T22:59:03.576463",
     "exception": false,
     "start_time": "2022-12-03T22:59:03.544377",
     "status": "completed"
    },
    "tags": []
   },
   "outputs": [
    {
     "name": "stdout",
     "output_type": "stream",
     "text": [
      "(9990, 10)\n"
     ]
    },
    {
     "data": {
      "text/html": [
       "<div>\n",
       "<style scoped>\n",
       "    .dataframe tbody tr th:only-of-type {\n",
       "        vertical-align: middle;\n",
       "    }\n",
       "\n",
       "    .dataframe tbody tr th {\n",
       "        vertical-align: top;\n",
       "    }\n",
       "\n",
       "    .dataframe thead th {\n",
       "        text-align: right;\n",
       "    }\n",
       "</style>\n",
       "<table border=\"1\" class=\"dataframe\">\n",
       "  <thead>\n",
       "    <tr style=\"text-align: right;\">\n",
       "      <th></th>\n",
       "      <th>blues</th>\n",
       "      <th>classical</th>\n",
       "      <th>country</th>\n",
       "      <th>disco</th>\n",
       "      <th>hiphop</th>\n",
       "      <th>jazz</th>\n",
       "      <th>metal</th>\n",
       "      <th>pop</th>\n",
       "      <th>reggae</th>\n",
       "      <th>rock</th>\n",
       "    </tr>\n",
       "  </thead>\n",
       "  <tbody>\n",
       "    <tr>\n",
       "      <th>0</th>\n",
       "      <td>1</td>\n",
       "      <td>0</td>\n",
       "      <td>0</td>\n",
       "      <td>0</td>\n",
       "      <td>0</td>\n",
       "      <td>0</td>\n",
       "      <td>0</td>\n",
       "      <td>0</td>\n",
       "      <td>0</td>\n",
       "      <td>0</td>\n",
       "    </tr>\n",
       "    <tr>\n",
       "      <th>1</th>\n",
       "      <td>1</td>\n",
       "      <td>0</td>\n",
       "      <td>0</td>\n",
       "      <td>0</td>\n",
       "      <td>0</td>\n",
       "      <td>0</td>\n",
       "      <td>0</td>\n",
       "      <td>0</td>\n",
       "      <td>0</td>\n",
       "      <td>0</td>\n",
       "    </tr>\n",
       "    <tr>\n",
       "      <th>2</th>\n",
       "      <td>1</td>\n",
       "      <td>0</td>\n",
       "      <td>0</td>\n",
       "      <td>0</td>\n",
       "      <td>0</td>\n",
       "      <td>0</td>\n",
       "      <td>0</td>\n",
       "      <td>0</td>\n",
       "      <td>0</td>\n",
       "      <td>0</td>\n",
       "    </tr>\n",
       "    <tr>\n",
       "      <th>3</th>\n",
       "      <td>1</td>\n",
       "      <td>0</td>\n",
       "      <td>0</td>\n",
       "      <td>0</td>\n",
       "      <td>0</td>\n",
       "      <td>0</td>\n",
       "      <td>0</td>\n",
       "      <td>0</td>\n",
       "      <td>0</td>\n",
       "      <td>0</td>\n",
       "    </tr>\n",
       "    <tr>\n",
       "      <th>4</th>\n",
       "      <td>1</td>\n",
       "      <td>0</td>\n",
       "      <td>0</td>\n",
       "      <td>0</td>\n",
       "      <td>0</td>\n",
       "      <td>0</td>\n",
       "      <td>0</td>\n",
       "      <td>0</td>\n",
       "      <td>0</td>\n",
       "      <td>0</td>\n",
       "    </tr>\n",
       "  </tbody>\n",
       "</table>\n",
       "</div>"
      ],
      "text/plain": [
       "   blues  classical  country  disco  hiphop  jazz  metal  pop  reggae  rock\n",
       "0      1          0        0      0       0     0      0    0       0     0\n",
       "1      1          0        0      0       0     0      0    0       0     0\n",
       "2      1          0        0      0       0     0      0    0       0     0\n",
       "3      1          0        0      0       0     0      0    0       0     0\n",
       "4      1          0        0      0       0     0      0    0       0     0"
      ]
     },
     "execution_count": 11,
     "metadata": {},
     "output_type": "execute_result"
    }
   ],
   "source": [
    "y_new = pd.get_dummies(target)\n",
    "print(y_new.shape)\n",
    "y_new.head()"
   ]
  },
  {
   "cell_type": "code",
   "execution_count": 12,
   "id": "df2b1b02",
   "metadata": {
    "execution": {
     "iopub.execute_input": "2022-12-03T22:59:03.591666Z",
     "iopub.status.busy": "2022-12-03T22:59:03.590519Z",
     "iopub.status.idle": "2022-12-03T22:59:03.604404Z",
     "shell.execute_reply": "2022-12-03T22:59:03.603404Z"
    },
    "papermill": {
     "duration": 0.023517,
     "end_time": "2022-12-03T22:59:03.606597",
     "exception": false,
     "start_time": "2022-12-03T22:59:03.583080",
     "status": "completed"
    },
    "tags": []
   },
   "outputs": [
    {
     "name": "stdout",
     "output_type": "stream",
     "text": [
      "(7992, 20), (1998, 20)\n"
     ]
    },
    {
     "data": {
      "text/plain": [
       "array([[[-3.24867615e+02,  1.77975204e+02,  2.40419998e+01, ...,\n",
       "         -4.34563017e+00, -1.80160451e+00, -3.90213466e+00]],\n",
       "\n",
       "       [[-2.58889618e+02,  1.16611534e+02,  1.84107578e+00, ...,\n",
       "          5.05907498e-02,  4.80156851e+00,  7.27069259e-01]],\n",
       "\n",
       "       [[-5.71014290e+01,  7.48747330e+01, -4.52312965e+01, ...,\n",
       "          9.32623744e-01,  1.13561332e+00,  2.13897491e+00]],\n",
       "\n",
       "       ...,\n",
       "\n",
       "       [[-1.89605316e+02,  1.17735802e+02, -1.24772348e+01, ...,\n",
       "          4.06341553e+00, -2.26114249e+00, -2.24034995e-01]],\n",
       "\n",
       "       [[-1.76899078e+02,  1.19373657e+02, -2.55092049e+00, ...,\n",
       "         -8.90102625e-01, -6.22514772e+00, -3.14809155e+00]],\n",
       "\n",
       "       [[-1.38830536e+02,  1.23055527e+02, -6.22227848e-01, ...,\n",
       "         -1.04806509e+01, -1.19253898e+00,  2.82588601e+00]]])"
      ]
     },
     "execution_count": 12,
     "metadata": {},
     "output_type": "execute_result"
    }
   ],
   "source": [
    "X_train, X_test, y_train, y_test = train_test_split(x, \n",
    "                                                    y_new, \n",
    "                                                    test_size=0.2, \n",
    "                                                    random_state=15)\n",
    "\n",
    "print(str(X_train.shape)+ ', ' + str(X_test.shape))\n",
    "inp = (1, 20)\n",
    "np.array(X_train).reshape(7992, 1, 20)"
   ]
  },
  {
   "cell_type": "code",
   "execution_count": 13,
   "id": "30020546",
   "metadata": {
    "execution": {
     "iopub.execute_input": "2022-12-03T22:59:03.621090Z",
     "iopub.status.busy": "2022-12-03T22:59:03.620101Z",
     "iopub.status.idle": "2022-12-03T22:59:03.628460Z",
     "shell.execute_reply": "2022-12-03T22:59:03.627440Z"
    },
    "papermill": {
     "duration": 0.017487,
     "end_time": "2022-12-03T22:59:03.630462",
     "exception": false,
     "start_time": "2022-12-03T22:59:03.612975",
     "status": "completed"
    },
    "tags": []
   },
   "outputs": [
    {
     "data": {
      "text/plain": [
       "array([[[-3.24867615e+02,  1.77975204e+02,  2.40419998e+01, ...,\n",
       "         -4.34563017e+00, -1.80160451e+00, -3.90213466e+00]],\n",
       "\n",
       "       [[-2.58889618e+02,  1.16611534e+02,  1.84107578e+00, ...,\n",
       "          5.05907498e-02,  4.80156851e+00,  7.27069259e-01]],\n",
       "\n",
       "       [[-5.71014290e+01,  7.48747330e+01, -4.52312965e+01, ...,\n",
       "          9.32623744e-01,  1.13561332e+00,  2.13897491e+00]],\n",
       "\n",
       "       ...,\n",
       "\n",
       "       [[-1.89605316e+02,  1.17735802e+02, -1.24772348e+01, ...,\n",
       "          4.06341553e+00, -2.26114249e+00, -2.24034995e-01]],\n",
       "\n",
       "       [[-1.76899078e+02,  1.19373657e+02, -2.55092049e+00, ...,\n",
       "         -8.90102625e-01, -6.22514772e+00, -3.14809155e+00]],\n",
       "\n",
       "       [[-1.38830536e+02,  1.23055527e+02, -6.22227848e-01, ...,\n",
       "         -1.04806509e+01, -1.19253898e+00,  2.82588601e+00]]])"
      ]
     },
     "execution_count": 13,
     "metadata": {},
     "output_type": "execute_result"
    }
   ],
   "source": [
    "np.array(X_train).reshape(7992,1,20)"
   ]
  },
  {
   "cell_type": "code",
   "execution_count": 14,
   "id": "c8c83d26",
   "metadata": {
    "execution": {
     "iopub.execute_input": "2022-12-03T22:59:03.645024Z",
     "iopub.status.busy": "2022-12-03T22:59:03.644189Z",
     "iopub.status.idle": "2022-12-03T22:59:07.399179Z",
     "shell.execute_reply": "2022-12-03T22:59:07.398077Z"
    },
    "papermill": {
     "duration": 3.764426,
     "end_time": "2022-12-03T22:59:07.401369",
     "exception": false,
     "start_time": "2022-12-03T22:59:03.636943",
     "status": "completed"
    },
    "tags": []
   },
   "outputs": [
    {
     "name": "stderr",
     "output_type": "stream",
     "text": [
      "2022-12-03 22:59:03.743687: I tensorflow/stream_executor/cuda/cuda_gpu_executor.cc:937] successful NUMA node read from SysFS had negative value (-1), but there must be at least one NUMA node, so returning NUMA node zero\n",
      "2022-12-03 22:59:03.891361: I tensorflow/stream_executor/cuda/cuda_gpu_executor.cc:937] successful NUMA node read from SysFS had negative value (-1), but there must be at least one NUMA node, so returning NUMA node zero\n",
      "2022-12-03 22:59:03.892299: I tensorflow/stream_executor/cuda/cuda_gpu_executor.cc:937] successful NUMA node read from SysFS had negative value (-1), but there must be at least one NUMA node, so returning NUMA node zero\n",
      "2022-12-03 22:59:03.894386: I tensorflow/core/platform/cpu_feature_guard.cc:142] This TensorFlow binary is optimized with oneAPI Deep Neural Network Library (oneDNN) to use the following CPU instructions in performance-critical operations:  AVX2 AVX512F FMA\n",
      "To enable them in other operations, rebuild TensorFlow with the appropriate compiler flags.\n",
      "2022-12-03 22:59:03.894782: I tensorflow/stream_executor/cuda/cuda_gpu_executor.cc:937] successful NUMA node read from SysFS had negative value (-1), but there must be at least one NUMA node, so returning NUMA node zero\n",
      "2022-12-03 22:59:03.895516: I tensorflow/stream_executor/cuda/cuda_gpu_executor.cc:937] successful NUMA node read from SysFS had negative value (-1), but there must be at least one NUMA node, so returning NUMA node zero\n",
      "2022-12-03 22:59:03.896268: I tensorflow/stream_executor/cuda/cuda_gpu_executor.cc:937] successful NUMA node read from SysFS had negative value (-1), but there must be at least one NUMA node, so returning NUMA node zero\n",
      "2022-12-03 22:59:06.302464: I tensorflow/stream_executor/cuda/cuda_gpu_executor.cc:937] successful NUMA node read from SysFS had negative value (-1), but there must be at least one NUMA node, so returning NUMA node zero\n",
      "2022-12-03 22:59:06.303764: I tensorflow/stream_executor/cuda/cuda_gpu_executor.cc:937] successful NUMA node read from SysFS had negative value (-1), but there must be at least one NUMA node, so returning NUMA node zero\n",
      "2022-12-03 22:59:06.304844: I tensorflow/stream_executor/cuda/cuda_gpu_executor.cc:937] successful NUMA node read from SysFS had negative value (-1), but there must be at least one NUMA node, so returning NUMA node zero\n",
      "2022-12-03 22:59:06.305764: I tensorflow/core/common_runtime/gpu/gpu_device.cc:1510] Created device /job:localhost/replica:0/task:0/device:GPU:0 with 15401 MB memory:  -> device: 0, name: Tesla P100-PCIE-16GB, pci bus id: 0000:00:04.0, compute capability: 6.0\n"
     ]
    },
    {
     "name": "stdout",
     "output_type": "stream",
     "text": [
      "Model: \"sequential\"\n",
      "_________________________________________________________________\n",
      "Layer (type)                 Output Shape              Param #   \n",
      "=================================================================\n",
      "bidirectional (Bidirectional (None, 1, 1024)           2183168   \n",
      "_________________________________________________________________\n",
      "flatten (Flatten)            (None, 1024)              0         \n",
      "_________________________________________________________________\n",
      "dense (Dense)                (None, 10)                10250     \n",
      "=================================================================\n",
      "Total params: 2,193,418\n",
      "Trainable params: 2,193,418\n",
      "Non-trainable params: 0\n",
      "_________________________________________________________________\n",
      "None\n"
     ]
    }
   ],
   "source": [
    "model = Sequential()\n",
    "model.add(Input(shape = (1,20)))\n",
    "model.add(Bidirectional(LSTM(512, return_sequences = True, recurrent_dropout = 0.2, dropout = 0.2)))\n",
    "model.add(Flatten())\n",
    "model.add(Dense(10, activation='softmax'))\n",
    "model.compile(\n",
    "    loss = 'categorical_crossentropy',\n",
    "    optimizer='adam',\n",
    "    metrics=['accuracy', AUC()]\n",
    ")\n",
    "print(model.summary())"
   ]
  },
  {
   "cell_type": "code",
   "execution_count": 15,
   "id": "77c665df",
   "metadata": {
    "execution": {
     "iopub.execute_input": "2022-12-03T22:59:07.417798Z",
     "iopub.status.busy": "2022-12-03T22:59:07.416099Z",
     "iopub.status.idle": "2022-12-03T23:00:39.221659Z",
     "shell.execute_reply": "2022-12-03T23:00:39.220663Z"
    },
    "papermill": {
     "duration": 91.816203,
     "end_time": "2022-12-03T23:00:39.224289",
     "exception": false,
     "start_time": "2022-12-03T22:59:07.408086",
     "status": "completed"
    },
    "tags": []
   },
   "outputs": [
    {
     "name": "stdout",
     "output_type": "stream",
     "text": [
      "Epoch 1/500\n"
     ]
    },
    {
     "name": "stderr",
     "output_type": "stream",
     "text": [
      "2022-12-03 22:59:07.473510: I tensorflow/compiler/mlir/mlir_graph_optimization_pass.cc:185] None of the MLIR Optimization Passes are enabled (registered 2)\n"
     ]
    },
    {
     "name": "stdout",
     "output_type": "stream",
     "text": [
      "16/16 [==============================] - 6s 54ms/step - loss: 1.9060 - accuracy: 0.3199 - auc: 0.7645 - val_loss: 1.5206 - val_accuracy: 0.4439 - val_auc: 0.8636\n",
      "Epoch 2/500\n",
      "16/16 [==============================] - 0s 17ms/step - loss: 1.5621 - accuracy: 0.4447 - auc: 0.8564 - val_loss: 1.3664 - val_accuracy: 0.4955 - val_auc: 0.8927\n",
      "Epoch 3/500\n",
      "16/16 [==============================] - 0s 18ms/step - loss: 1.4349 - accuracy: 0.4945 - auc: 0.8820 - val_loss: 1.2534 - val_accuracy: 0.5546 - val_auc: 0.9106\n",
      "Epoch 4/500\n",
      "16/16 [==============================] - 0s 17ms/step - loss: 1.3533 - accuracy: 0.5135 - auc: 0.8965 - val_loss: 1.2173 - val_accuracy: 0.5621 - val_auc: 0.9150\n",
      "Epoch 5/500\n",
      "16/16 [==============================] - 0s 17ms/step - loss: 1.3017 - accuracy: 0.5425 - auc: 0.9048 - val_loss: 1.1647 - val_accuracy: 0.5881 - val_auc: 0.9228\n",
      "Epoch 6/500\n",
      "16/16 [==============================] - 0s 16ms/step - loss: 1.2548 - accuracy: 0.5561 - auc: 0.9120 - val_loss: 1.1342 - val_accuracy: 0.5931 - val_auc: 0.9266\n",
      "Epoch 7/500\n",
      "16/16 [==============================] - 0s 18ms/step - loss: 1.2224 - accuracy: 0.5649 - auc: 0.9163 - val_loss: 1.1025 - val_accuracy: 0.6126 - val_auc: 0.9308\n",
      "Epoch 8/500\n",
      "16/16 [==============================] - 0s 16ms/step - loss: 1.2028 - accuracy: 0.5767 - auc: 0.9187 - val_loss: 1.1103 - val_accuracy: 0.6046 - val_auc: 0.9296\n",
      "Epoch 9/500\n",
      "16/16 [==============================] - 0s 18ms/step - loss: 1.1781 - accuracy: 0.5831 - auc: 0.9226 - val_loss: 1.0828 - val_accuracy: 0.6131 - val_auc: 0.9326\n",
      "Epoch 10/500\n",
      "16/16 [==============================] - 0s 17ms/step - loss: 1.1508 - accuracy: 0.5987 - auc: 0.9263 - val_loss: 1.0539 - val_accuracy: 0.6241 - val_auc: 0.9368\n",
      "Epoch 11/500\n",
      "16/16 [==============================] - 0s 18ms/step - loss: 1.1267 - accuracy: 0.6047 - auc: 0.9297 - val_loss: 1.0403 - val_accuracy: 0.6351 - val_auc: 0.9378\n",
      "Epoch 12/500\n",
      "16/16 [==============================] - 0s 17ms/step - loss: 1.1065 - accuracy: 0.6132 - auc: 0.9326 - val_loss: 1.0053 - val_accuracy: 0.6512 - val_auc: 0.9423\n",
      "Epoch 13/500\n",
      "16/16 [==============================] - 0s 17ms/step - loss: 1.0848 - accuracy: 0.6205 - auc: 0.9348 - val_loss: 0.9947 - val_accuracy: 0.6582 - val_auc: 0.9438\n",
      "Epoch 14/500\n",
      "16/16 [==============================] - 0s 16ms/step - loss: 1.0745 - accuracy: 0.6202 - auc: 0.9360 - val_loss: 0.9603 - val_accuracy: 0.6687 - val_auc: 0.9468\n",
      "Epoch 15/500\n",
      "16/16 [==============================] - 0s 16ms/step - loss: 1.0483 - accuracy: 0.6313 - auc: 0.9397 - val_loss: 0.9557 - val_accuracy: 0.6607 - val_auc: 0.9483\n",
      "Epoch 16/500\n",
      "16/16 [==============================] - 0s 17ms/step - loss: 1.0403 - accuracy: 0.6338 - auc: 0.9406 - val_loss: 0.9450 - val_accuracy: 0.6672 - val_auc: 0.9486\n",
      "Epoch 17/500\n",
      "16/16 [==============================] - 0s 17ms/step - loss: 1.0374 - accuracy: 0.6324 - auc: 0.9408 - val_loss: 0.9392 - val_accuracy: 0.6672 - val_auc: 0.9492\n",
      "Epoch 18/500\n",
      "16/16 [==============================] - 0s 17ms/step - loss: 1.0112 - accuracy: 0.6444 - auc: 0.9442 - val_loss: 0.9310 - val_accuracy: 0.6802 - val_auc: 0.9497\n",
      "Epoch 19/500\n",
      "16/16 [==============================] - 0s 18ms/step - loss: 1.0056 - accuracy: 0.6491 - auc: 0.9441 - val_loss: 0.9261 - val_accuracy: 0.6732 - val_auc: 0.9507\n",
      "Epoch 20/500\n",
      "16/16 [==============================] - 0s 19ms/step - loss: 0.9982 - accuracy: 0.6523 - auc: 0.9452 - val_loss: 0.8875 - val_accuracy: 0.6952 - val_auc: 0.9542\n",
      "Epoch 21/500\n",
      "16/16 [==============================] - 0s 18ms/step - loss: 0.9731 - accuracy: 0.6635 - auc: 0.9480 - val_loss: 0.8984 - val_accuracy: 0.6997 - val_auc: 0.9534\n",
      "Epoch 22/500\n",
      "16/16 [==============================] - 0s 28ms/step - loss: 0.9644 - accuracy: 0.6567 - auc: 0.9494 - val_loss: 0.8839 - val_accuracy: 0.7017 - val_auc: 0.9549\n",
      "Epoch 23/500\n",
      "16/16 [==============================] - 0s 21ms/step - loss: 0.9596 - accuracy: 0.6624 - auc: 0.9494 - val_loss: 0.8751 - val_accuracy: 0.6962 - val_auc: 0.9557\n",
      "Epoch 24/500\n",
      "16/16 [==============================] - 0s 17ms/step - loss: 0.9387 - accuracy: 0.6714 - auc: 0.9518 - val_loss: 0.8617 - val_accuracy: 0.7082 - val_auc: 0.9566\n",
      "Epoch 25/500\n",
      "16/16 [==============================] - 0s 18ms/step - loss: 0.9471 - accuracy: 0.6658 - auc: 0.9510 - val_loss: 0.8526 - val_accuracy: 0.7162 - val_auc: 0.9576\n",
      "Epoch 26/500\n",
      "16/16 [==============================] - 0s 16ms/step - loss: 0.9277 - accuracy: 0.6753 - auc: 0.9529 - val_loss: 0.8549 - val_accuracy: 0.7107 - val_auc: 0.9576\n",
      "Epoch 27/500\n",
      "16/16 [==============================] - 0s 17ms/step - loss: 0.9245 - accuracy: 0.6767 - auc: 0.9533 - val_loss: 0.8458 - val_accuracy: 0.7147 - val_auc: 0.9585\n",
      "Epoch 28/500\n",
      "16/16 [==============================] - 0s 18ms/step - loss: 0.9015 - accuracy: 0.6869 - auc: 0.9558 - val_loss: 0.8533 - val_accuracy: 0.7147 - val_auc: 0.9576\n",
      "Epoch 29/500\n",
      "16/16 [==============================] - 0s 17ms/step - loss: 0.8917 - accuracy: 0.6891 - auc: 0.9566 - val_loss: 0.8243 - val_accuracy: 0.7242 - val_auc: 0.9597\n",
      "Epoch 30/500\n",
      "16/16 [==============================] - 0s 17ms/step - loss: 0.8875 - accuracy: 0.6932 - auc: 0.9569 - val_loss: 0.8162 - val_accuracy: 0.7177 - val_auc: 0.9599\n",
      "Epoch 31/500\n",
      "16/16 [==============================] - 0s 18ms/step - loss: 0.8826 - accuracy: 0.6941 - auc: 0.9576 - val_loss: 0.8076 - val_accuracy: 0.7302 - val_auc: 0.9618\n",
      "Epoch 32/500\n",
      "16/16 [==============================] - 0s 18ms/step - loss: 0.8717 - accuracy: 0.6977 - auc: 0.9587 - val_loss: 0.7985 - val_accuracy: 0.7397 - val_auc: 0.9624\n",
      "Epoch 33/500\n",
      "16/16 [==============================] - 0s 18ms/step - loss: 0.8653 - accuracy: 0.6996 - auc: 0.9590 - val_loss: 0.8112 - val_accuracy: 0.7167 - val_auc: 0.9611\n",
      "Epoch 34/500\n",
      "16/16 [==============================] - 0s 17ms/step - loss: 0.8589 - accuracy: 0.7036 - auc: 0.9598 - val_loss: 0.7935 - val_accuracy: 0.7327 - val_auc: 0.9627\n",
      "Epoch 35/500\n",
      "16/16 [==============================] - 0s 18ms/step - loss: 0.8494 - accuracy: 0.7047 - auc: 0.9608 - val_loss: 0.8147 - val_accuracy: 0.7257 - val_auc: 0.9607\n",
      "Epoch 36/500\n",
      "16/16 [==============================] - 0s 17ms/step - loss: 0.8455 - accuracy: 0.7050 - auc: 0.9609 - val_loss: 0.7740 - val_accuracy: 0.7462 - val_auc: 0.9641\n",
      "Epoch 37/500\n",
      "16/16 [==============================] - 0s 17ms/step - loss: 0.8427 - accuracy: 0.7133 - auc: 0.9610 - val_loss: 0.7909 - val_accuracy: 0.7372 - val_auc: 0.9627\n",
      "Epoch 38/500\n",
      "16/16 [==============================] - 0s 16ms/step - loss: 0.8381 - accuracy: 0.7092 - auc: 0.9614 - val_loss: 0.7860 - val_accuracy: 0.7362 - val_auc: 0.9632\n",
      "Epoch 39/500\n",
      "16/16 [==============================] - 0s 16ms/step - loss: 0.8239 - accuracy: 0.7171 - auc: 0.9633 - val_loss: 0.7921 - val_accuracy: 0.7252 - val_auc: 0.9630\n",
      "Epoch 40/500\n",
      "16/16 [==============================] - 0s 18ms/step - loss: 0.8242 - accuracy: 0.7118 - auc: 0.9629 - val_loss: 0.7399 - val_accuracy: 0.7538 - val_auc: 0.9667\n",
      "Epoch 41/500\n",
      "16/16 [==============================] - 0s 17ms/step - loss: 0.8086 - accuracy: 0.7225 - auc: 0.9644 - val_loss: 0.7383 - val_accuracy: 0.7538 - val_auc: 0.9671\n",
      "Epoch 42/500\n",
      "16/16 [==============================] - 0s 19ms/step - loss: 0.8041 - accuracy: 0.7237 - auc: 0.9649 - val_loss: 0.7677 - val_accuracy: 0.7392 - val_auc: 0.9641\n",
      "Epoch 43/500\n",
      "16/16 [==============================] - 0s 17ms/step - loss: 0.8059 - accuracy: 0.7247 - auc: 0.9645 - val_loss: 0.7753 - val_accuracy: 0.7437 - val_auc: 0.9640\n",
      "Epoch 44/500\n",
      "16/16 [==============================] - 0s 18ms/step - loss: 0.7950 - accuracy: 0.7274 - auc: 0.9655 - val_loss: 0.7715 - val_accuracy: 0.7407 - val_auc: 0.9645\n",
      "Epoch 45/500\n",
      "16/16 [==============================] - 0s 17ms/step - loss: 0.7912 - accuracy: 0.7250 - auc: 0.9659 - val_loss: 0.7704 - val_accuracy: 0.7352 - val_auc: 0.9645\n",
      "Epoch 46/500\n",
      "16/16 [==============================] - 0s 17ms/step - loss: 0.7810 - accuracy: 0.7319 - auc: 0.9665 - val_loss: 0.7489 - val_accuracy: 0.7392 - val_auc: 0.9661\n",
      "Epoch 47/500\n",
      "16/16 [==============================] - 0s 17ms/step - loss: 0.7819 - accuracy: 0.7335 - auc: 0.9666 - val_loss: 0.7554 - val_accuracy: 0.7497 - val_auc: 0.9660\n",
      "Epoch 48/500\n",
      "16/16 [==============================] - 0s 16ms/step - loss: 0.7849 - accuracy: 0.7332 - auc: 0.9659 - val_loss: 0.7251 - val_accuracy: 0.7477 - val_auc: 0.9687\n",
      "Epoch 49/500\n",
      "16/16 [==============================] - 0s 17ms/step - loss: 0.7629 - accuracy: 0.7396 - auc: 0.9683 - val_loss: 0.7210 - val_accuracy: 0.7558 - val_auc: 0.9681\n",
      "Epoch 50/500\n",
      "16/16 [==============================] - 0s 17ms/step - loss: 0.7574 - accuracy: 0.7417 - auc: 0.9689 - val_loss: 0.7278 - val_accuracy: 0.7538 - val_auc: 0.9679\n",
      "Epoch 51/500\n",
      "16/16 [==============================] - 0s 17ms/step - loss: 0.7592 - accuracy: 0.7372 - auc: 0.9684 - val_loss: 0.7426 - val_accuracy: 0.7482 - val_auc: 0.9670\n",
      "Epoch 52/500\n",
      "16/16 [==============================] - 0s 16ms/step - loss: 0.7548 - accuracy: 0.7387 - auc: 0.9686 - val_loss: 0.7447 - val_accuracy: 0.7462 - val_auc: 0.9668\n",
      "Epoch 53/500\n",
      "16/16 [==============================] - 0s 17ms/step - loss: 0.7485 - accuracy: 0.7394 - auc: 0.9693 - val_loss: 0.7380 - val_accuracy: 0.7543 - val_auc: 0.9673\n",
      "Epoch 54/500\n",
      "16/16 [==============================] - 0s 18ms/step - loss: 0.7454 - accuracy: 0.7430 - auc: 0.9695 - val_loss: 0.7363 - val_accuracy: 0.7578 - val_auc: 0.9668\n",
      "Epoch 55/500\n",
      "16/16 [==============================] - 0s 17ms/step - loss: 0.7397 - accuracy: 0.7424 - auc: 0.9703 - val_loss: 0.7009 - val_accuracy: 0.7583 - val_auc: 0.9692\n",
      "Epoch 56/500\n",
      "16/16 [==============================] - 0s 18ms/step - loss: 0.7410 - accuracy: 0.7457 - auc: 0.9700 - val_loss: 0.7313 - val_accuracy: 0.7598 - val_auc: 0.9677\n",
      "Epoch 57/500\n",
      "16/16 [==============================] - 0s 17ms/step - loss: 0.7250 - accuracy: 0.7539 - auc: 0.9715 - val_loss: 0.7102 - val_accuracy: 0.7593 - val_auc: 0.9689\n",
      "Epoch 58/500\n",
      "16/16 [==============================] - 0s 17ms/step - loss: 0.7219 - accuracy: 0.7545 - auc: 0.9715 - val_loss: 0.7257 - val_accuracy: 0.7568 - val_auc: 0.9683\n",
      "Epoch 59/500\n",
      "16/16 [==============================] - 0s 17ms/step - loss: 0.7165 - accuracy: 0.7556 - auc: 0.9720 - val_loss: 0.7122 - val_accuracy: 0.7673 - val_auc: 0.9687\n",
      "Epoch 60/500\n",
      "16/16 [==============================] - 1s 33ms/step - loss: 0.7174 - accuracy: 0.7513 - auc: 0.9718 - val_loss: 0.6898 - val_accuracy: 0.7733 - val_auc: 0.9701\n",
      "Epoch 61/500\n",
      "16/16 [==============================] - 0s 20ms/step - loss: 0.7153 - accuracy: 0.7564 - auc: 0.9720 - val_loss: 0.7240 - val_accuracy: 0.7573 - val_auc: 0.9673\n",
      "Epoch 62/500\n",
      "16/16 [==============================] - 0s 18ms/step - loss: 0.7173 - accuracy: 0.7586 - auc: 0.9716 - val_loss: 0.7112 - val_accuracy: 0.7623 - val_auc: 0.9696\n",
      "Epoch 63/500\n",
      "16/16 [==============================] - 0s 16ms/step - loss: 0.7135 - accuracy: 0.7525 - auc: 0.9722 - val_loss: 0.7197 - val_accuracy: 0.7538 - val_auc: 0.9684\n",
      "Epoch 64/500\n",
      "16/16 [==============================] - 0s 18ms/step - loss: 0.7026 - accuracy: 0.7590 - auc: 0.9733 - val_loss: 0.6899 - val_accuracy: 0.7663 - val_auc: 0.9713\n",
      "Epoch 65/500\n",
      "16/16 [==============================] - 0s 17ms/step - loss: 0.7019 - accuracy: 0.7580 - auc: 0.9731 - val_loss: 0.6805 - val_accuracy: 0.7718 - val_auc: 0.9705\n",
      "Epoch 66/500\n",
      "16/16 [==============================] - 0s 17ms/step - loss: 0.6943 - accuracy: 0.7649 - auc: 0.9735 - val_loss: 0.6933 - val_accuracy: 0.7703 - val_auc: 0.9698\n",
      "Epoch 67/500\n",
      "16/16 [==============================] - 0s 16ms/step - loss: 0.6927 - accuracy: 0.7616 - auc: 0.9738 - val_loss: 0.6839 - val_accuracy: 0.7763 - val_auc: 0.9703\n",
      "Epoch 68/500\n",
      "16/16 [==============================] - 0s 19ms/step - loss: 0.6897 - accuracy: 0.7608 - auc: 0.9741 - val_loss: 0.7093 - val_accuracy: 0.7623 - val_auc: 0.9694\n",
      "Epoch 69/500\n",
      "16/16 [==============================] - 0s 17ms/step - loss: 0.6865 - accuracy: 0.7664 - auc: 0.9739 - val_loss: 0.6978 - val_accuracy: 0.7673 - val_auc: 0.9699\n",
      "Epoch 70/500\n",
      "16/16 [==============================] - 0s 17ms/step - loss: 0.6856 - accuracy: 0.7643 - auc: 0.9743 - val_loss: 0.6619 - val_accuracy: 0.7833 - val_auc: 0.9725\n",
      "Epoch 71/500\n",
      "16/16 [==============================] - 0s 18ms/step - loss: 0.6842 - accuracy: 0.7668 - auc: 0.9744 - val_loss: 0.6811 - val_accuracy: 0.7723 - val_auc: 0.9707\n",
      "Epoch 72/500\n",
      "16/16 [==============================] - 0s 17ms/step - loss: 0.6862 - accuracy: 0.7608 - auc: 0.9743 - val_loss: 0.6761 - val_accuracy: 0.7698 - val_auc: 0.9718\n",
      "Epoch 73/500\n",
      "16/16 [==============================] - 0s 18ms/step - loss: 0.6855 - accuracy: 0.7653 - auc: 0.9741 - val_loss: 0.6861 - val_accuracy: 0.7703 - val_auc: 0.9701\n",
      "Epoch 74/500\n",
      "16/16 [==============================] - 0s 18ms/step - loss: 0.6851 - accuracy: 0.7689 - auc: 0.9739 - val_loss: 0.6830 - val_accuracy: 0.7758 - val_auc: 0.9714\n",
      "Epoch 75/500\n",
      "16/16 [==============================] - 0s 18ms/step - loss: 0.6705 - accuracy: 0.7636 - auc: 0.9753 - val_loss: 0.6784 - val_accuracy: 0.7763 - val_auc: 0.9715\n",
      "Epoch 76/500\n",
      "16/16 [==============================] - 0s 19ms/step - loss: 0.6597 - accuracy: 0.7736 - auc: 0.9761 - val_loss: 0.6866 - val_accuracy: 0.7713 - val_auc: 0.9701\n",
      "Epoch 77/500\n",
      "16/16 [==============================] - 0s 17ms/step - loss: 0.6568 - accuracy: 0.7797 - auc: 0.9761 - val_loss: 0.6587 - val_accuracy: 0.7763 - val_auc: 0.9727\n",
      "Epoch 78/500\n",
      "16/16 [==============================] - 0s 18ms/step - loss: 0.6602 - accuracy: 0.7721 - auc: 0.9760 - val_loss: 0.6767 - val_accuracy: 0.7753 - val_auc: 0.9719\n",
      "Epoch 79/500\n",
      "16/16 [==============================] - 0s 18ms/step - loss: 0.6574 - accuracy: 0.7719 - auc: 0.9761 - val_loss: 0.6616 - val_accuracy: 0.7858 - val_auc: 0.9720\n",
      "Epoch 80/500\n",
      "16/16 [==============================] - 0s 17ms/step - loss: 0.6594 - accuracy: 0.7703 - auc: 0.9759 - val_loss: 0.6685 - val_accuracy: 0.7813 - val_auc: 0.9719\n",
      "Epoch 81/500\n",
      "16/16 [==============================] - 0s 17ms/step - loss: 0.6734 - accuracy: 0.7686 - auc: 0.9748 - val_loss: 0.6446 - val_accuracy: 0.7893 - val_auc: 0.9736\n",
      "Epoch 82/500\n",
      "16/16 [==============================] - 0s 18ms/step - loss: 0.6641 - accuracy: 0.7759 - auc: 0.9754 - val_loss: 0.6876 - val_accuracy: 0.7733 - val_auc: 0.9707\n",
      "Epoch 83/500\n",
      "16/16 [==============================] - 0s 17ms/step - loss: 0.6586 - accuracy: 0.7767 - auc: 0.9758 - val_loss: 0.6558 - val_accuracy: 0.7813 - val_auc: 0.9729\n",
      "Epoch 84/500\n",
      "16/16 [==============================] - 0s 29ms/step - loss: 0.6439 - accuracy: 0.7772 - auc: 0.9774 - val_loss: 0.6652 - val_accuracy: 0.7748 - val_auc: 0.9721\n",
      "Epoch 85/500\n",
      "16/16 [==============================] - 1s 34ms/step - loss: 0.6457 - accuracy: 0.7817 - auc: 0.9767 - val_loss: 0.6516 - val_accuracy: 0.7868 - val_auc: 0.9728\n",
      "Epoch 86/500\n",
      "16/16 [==============================] - 1s 33ms/step - loss: 0.6429 - accuracy: 0.7815 - auc: 0.9771 - val_loss: 0.6750 - val_accuracy: 0.7793 - val_auc: 0.9714\n",
      "Epoch 87/500\n",
      "16/16 [==============================] - 0s 17ms/step - loss: 0.6290 - accuracy: 0.7792 - auc: 0.9786 - val_loss: 0.6649 - val_accuracy: 0.7868 - val_auc: 0.9720\n",
      "Epoch 88/500\n",
      "16/16 [==============================] - 0s 17ms/step - loss: 0.6224 - accuracy: 0.7888 - auc: 0.9788 - val_loss: 0.6777 - val_accuracy: 0.7793 - val_auc: 0.9709\n",
      "Epoch 89/500\n",
      "16/16 [==============================] - 0s 18ms/step - loss: 0.6334 - accuracy: 0.7849 - auc: 0.9776 - val_loss: 0.6869 - val_accuracy: 0.7733 - val_auc: 0.9709\n",
      "Epoch 90/500\n",
      "16/16 [==============================] - 0s 17ms/step - loss: 0.6334 - accuracy: 0.7785 - auc: 0.9776 - val_loss: 0.6688 - val_accuracy: 0.7713 - val_auc: 0.9724\n",
      "Epoch 91/500\n",
      "16/16 [==============================] - 0s 19ms/step - loss: 0.6375 - accuracy: 0.7817 - auc: 0.9776 - val_loss: 0.6688 - val_accuracy: 0.7833 - val_auc: 0.9717\n",
      "Epoch 92/500\n",
      "16/16 [==============================] - 0s 19ms/step - loss: 0.6135 - accuracy: 0.7889 - auc: 0.9794 - val_loss: 0.6622 - val_accuracy: 0.7798 - val_auc: 0.9726\n",
      "Epoch 93/500\n",
      "16/16 [==============================] - 0s 18ms/step - loss: 0.6274 - accuracy: 0.7877 - auc: 0.9782 - val_loss: 0.6613 - val_accuracy: 0.7728 - val_auc: 0.9729\n",
      "Epoch 94/500\n",
      "16/16 [==============================] - 0s 18ms/step - loss: 0.6264 - accuracy: 0.7850 - auc: 0.9783 - val_loss: 0.6504 - val_accuracy: 0.7893 - val_auc: 0.9729\n",
      "Epoch 95/500\n",
      "16/16 [==============================] - 1s 36ms/step - loss: 0.6234 - accuracy: 0.7870 - auc: 0.9786 - val_loss: 0.6362 - val_accuracy: 0.7808 - val_auc: 0.9748\n",
      "Epoch 96/500\n",
      "16/16 [==============================] - 0s 22ms/step - loss: 0.6146 - accuracy: 0.7849 - auc: 0.9792 - val_loss: 0.6385 - val_accuracy: 0.7868 - val_auc: 0.9742\n",
      "Epoch 97/500\n",
      "16/16 [==============================] - 0s 17ms/step - loss: 0.6135 - accuracy: 0.7935 - auc: 0.9791 - val_loss: 0.6385 - val_accuracy: 0.7848 - val_auc: 0.9738\n",
      "Epoch 98/500\n",
      "16/16 [==============================] - 0s 16ms/step - loss: 0.6035 - accuracy: 0.7919 - auc: 0.9799 - val_loss: 0.6544 - val_accuracy: 0.7798 - val_auc: 0.9730\n",
      "Epoch 99/500\n",
      "16/16 [==============================] - 0s 19ms/step - loss: 0.6100 - accuracy: 0.7937 - auc: 0.9793 - val_loss: 0.6414 - val_accuracy: 0.7853 - val_auc: 0.9742\n",
      "Epoch 100/500\n",
      "16/16 [==============================] - 0s 16ms/step - loss: 0.5997 - accuracy: 0.7932 - auc: 0.9801 - val_loss: 0.6098 - val_accuracy: 0.7968 - val_auc: 0.9761\n",
      "Epoch 101/500\n",
      "16/16 [==============================] - 0s 18ms/step - loss: 0.5992 - accuracy: 0.7902 - auc: 0.9804 - val_loss: 0.6448 - val_accuracy: 0.7858 - val_auc: 0.9737\n",
      "Epoch 102/500\n",
      "16/16 [==============================] - 0s 18ms/step - loss: 0.6078 - accuracy: 0.7888 - auc: 0.9796 - val_loss: 0.6277 - val_accuracy: 0.7903 - val_auc: 0.9754\n",
      "Epoch 103/500\n",
      "16/16 [==============================] - 0s 17ms/step - loss: 0.5991 - accuracy: 0.7959 - auc: 0.9802 - val_loss: 0.6557 - val_accuracy: 0.7788 - val_auc: 0.9733\n",
      "Epoch 104/500\n",
      "16/16 [==============================] - 0s 16ms/step - loss: 0.6010 - accuracy: 0.7950 - auc: 0.9800 - val_loss: 0.6223 - val_accuracy: 0.7893 - val_auc: 0.9758\n",
      "Epoch 105/500\n",
      "16/16 [==============================] - 0s 17ms/step - loss: 0.5929 - accuracy: 0.7939 - auc: 0.9808 - val_loss: 0.6410 - val_accuracy: 0.7873 - val_auc: 0.9735\n",
      "Epoch 106/500\n",
      "16/16 [==============================] - 0s 16ms/step - loss: 0.5852 - accuracy: 0.8032 - auc: 0.9810 - val_loss: 0.6354 - val_accuracy: 0.7893 - val_auc: 0.9744\n",
      "Epoch 107/500\n",
      "16/16 [==============================] - 0s 16ms/step - loss: 0.5870 - accuracy: 0.7983 - auc: 0.9810 - val_loss: 0.6356 - val_accuracy: 0.7953 - val_auc: 0.9736\n",
      "Epoch 108/500\n",
      "16/16 [==============================] - 0s 19ms/step - loss: 0.5787 - accuracy: 0.8056 - auc: 0.9815 - val_loss: 0.6450 - val_accuracy: 0.7853 - val_auc: 0.9735\n",
      "Epoch 109/500\n",
      "16/16 [==============================] - 0s 18ms/step - loss: 0.5806 - accuracy: 0.7979 - auc: 0.9816 - val_loss: 0.6226 - val_accuracy: 0.7953 - val_auc: 0.9750\n",
      "Epoch 110/500\n",
      "16/16 [==============================] - 0s 18ms/step - loss: 0.5831 - accuracy: 0.7960 - auc: 0.9811 - val_loss: 0.6278 - val_accuracy: 0.7913 - val_auc: 0.9744\n",
      "Epoch 111/500\n",
      "16/16 [==============================] - 0s 17ms/step - loss: 0.5842 - accuracy: 0.7973 - auc: 0.9811 - val_loss: 0.6169 - val_accuracy: 0.7938 - val_auc: 0.9751\n",
      "Epoch 112/500\n",
      "16/16 [==============================] - 0s 19ms/step - loss: 0.5845 - accuracy: 0.7988 - auc: 0.9810 - val_loss: 0.6604 - val_accuracy: 0.7863 - val_auc: 0.9722\n",
      "Epoch 113/500\n",
      "16/16 [==============================] - 0s 16ms/step - loss: 0.5851 - accuracy: 0.7967 - auc: 0.9811 - val_loss: 0.6372 - val_accuracy: 0.7988 - val_auc: 0.9736\n",
      "Epoch 114/500\n",
      "16/16 [==============================] - 0s 18ms/step - loss: 0.5823 - accuracy: 0.7999 - auc: 0.9812 - val_loss: 0.6321 - val_accuracy: 0.7843 - val_auc: 0.9747\n",
      "Epoch 115/500\n",
      "16/16 [==============================] - 0s 18ms/step - loss: 0.5875 - accuracy: 0.7958 - auc: 0.9807 - val_loss: 0.6558 - val_accuracy: 0.7893 - val_auc: 0.9728\n",
      "Epoch 116/500\n",
      "16/16 [==============================] - 0s 19ms/step - loss: 0.5849 - accuracy: 0.8016 - auc: 0.9808 - val_loss: 0.6401 - val_accuracy: 0.7898 - val_auc: 0.9736\n",
      "Epoch 117/500\n",
      "16/16 [==============================] - 0s 17ms/step - loss: 0.5829 - accuracy: 0.7975 - auc: 0.9810 - val_loss: 0.6254 - val_accuracy: 0.7923 - val_auc: 0.9753\n",
      "Epoch 118/500\n",
      "16/16 [==============================] - 0s 18ms/step - loss: 0.5788 - accuracy: 0.8017 - auc: 0.9814 - val_loss: 0.6325 - val_accuracy: 0.7933 - val_auc: 0.9740\n",
      "Epoch 119/500\n",
      "16/16 [==============================] - 0s 17ms/step - loss: 0.5658 - accuracy: 0.8027 - auc: 0.9825 - val_loss: 0.6283 - val_accuracy: 0.7918 - val_auc: 0.9739\n",
      "Epoch 120/500\n",
      "16/16 [==============================] - 0s 18ms/step - loss: 0.5592 - accuracy: 0.8092 - auc: 0.9827 - val_loss: 0.6244 - val_accuracy: 0.7933 - val_auc: 0.9750\n",
      "Epoch 121/500\n",
      "16/16 [==============================] - 0s 19ms/step - loss: 0.5687 - accuracy: 0.8072 - auc: 0.9818 - val_loss: 0.6187 - val_accuracy: 0.7953 - val_auc: 0.9754\n",
      "Epoch 122/500\n",
      "16/16 [==============================] - 0s 17ms/step - loss: 0.5623 - accuracy: 0.8074 - auc: 0.9825 - val_loss: 0.6062 - val_accuracy: 0.7968 - val_auc: 0.9760\n",
      "Epoch 123/500\n",
      "16/16 [==============================] - 0s 16ms/step - loss: 0.5614 - accuracy: 0.8099 - auc: 0.9821 - val_loss: 0.6256 - val_accuracy: 0.7903 - val_auc: 0.9753\n",
      "Epoch 124/500\n",
      "16/16 [==============================] - 0s 17ms/step - loss: 0.5685 - accuracy: 0.8036 - auc: 0.9818 - val_loss: 0.6104 - val_accuracy: 0.7978 - val_auc: 0.9761\n",
      "Epoch 125/500\n",
      "16/16 [==============================] - 0s 19ms/step - loss: 0.5629 - accuracy: 0.8058 - auc: 0.9823 - val_loss: 0.6135 - val_accuracy: 0.7933 - val_auc: 0.9762\n",
      "Epoch 126/500\n",
      "16/16 [==============================] - 0s 18ms/step - loss: 0.5622 - accuracy: 0.8037 - auc: 0.9824 - val_loss: 0.6247 - val_accuracy: 0.7933 - val_auc: 0.9753\n",
      "Epoch 127/500\n",
      "16/16 [==============================] - 0s 16ms/step - loss: 0.5406 - accuracy: 0.8118 - auc: 0.9841 - val_loss: 0.6043 - val_accuracy: 0.7948 - val_auc: 0.9755\n",
      "Epoch 128/500\n",
      "16/16 [==============================] - 0s 18ms/step - loss: 0.5597 - accuracy: 0.8089 - auc: 0.9824 - val_loss: 0.6210 - val_accuracy: 0.8033 - val_auc: 0.9750\n",
      "Epoch 129/500\n",
      "16/16 [==============================] - 0s 19ms/step - loss: 0.5600 - accuracy: 0.8017 - auc: 0.9824 - val_loss: 0.6368 - val_accuracy: 0.7898 - val_auc: 0.9744\n",
      "Epoch 130/500\n",
      "16/16 [==============================] - 0s 16ms/step - loss: 0.5513 - accuracy: 0.8117 - auc: 0.9831 - val_loss: 0.6234 - val_accuracy: 0.7973 - val_auc: 0.9741\n",
      "Epoch 131/500\n",
      "16/16 [==============================] - 0s 17ms/step - loss: 0.5559 - accuracy: 0.8074 - auc: 0.9829 - val_loss: 0.5924 - val_accuracy: 0.8073 - val_auc: 0.9761\n",
      "Epoch 132/500\n",
      "16/16 [==============================] - 0s 31ms/step - loss: 0.5459 - accuracy: 0.8106 - auc: 0.9833 - val_loss: 0.6256 - val_accuracy: 0.7918 - val_auc: 0.9747\n",
      "Epoch 133/500\n",
      "16/16 [==============================] - 0s 26ms/step - loss: 0.5515 - accuracy: 0.8081 - auc: 0.9830 - val_loss: 0.6323 - val_accuracy: 0.7923 - val_auc: 0.9740\n",
      "Epoch 134/500\n",
      "16/16 [==============================] - 0s 16ms/step - loss: 0.5376 - accuracy: 0.8147 - auc: 0.9842 - val_loss: 0.6004 - val_accuracy: 0.8078 - val_auc: 0.9757\n",
      "Epoch 135/500\n",
      "16/16 [==============================] - 0s 16ms/step - loss: 0.5369 - accuracy: 0.8202 - auc: 0.9838 - val_loss: 0.5906 - val_accuracy: 0.8068 - val_auc: 0.9763\n",
      "Epoch 136/500\n",
      "16/16 [==============================] - 0s 17ms/step - loss: 0.5274 - accuracy: 0.8203 - auc: 0.9846 - val_loss: 0.6061 - val_accuracy: 0.7983 - val_auc: 0.9764\n",
      "Epoch 137/500\n",
      "16/16 [==============================] - 0s 16ms/step - loss: 0.5418 - accuracy: 0.8136 - auc: 0.9836 - val_loss: 0.6243 - val_accuracy: 0.7908 - val_auc: 0.9744\n",
      "Epoch 138/500\n",
      "16/16 [==============================] - 0s 16ms/step - loss: 0.5332 - accuracy: 0.8139 - auc: 0.9844 - val_loss: 0.6118 - val_accuracy: 0.7988 - val_auc: 0.9755\n",
      "Epoch 139/500\n",
      "16/16 [==============================] - 0s 17ms/step - loss: 0.5428 - accuracy: 0.8157 - auc: 0.9835 - val_loss: 0.6234 - val_accuracy: 0.7943 - val_auc: 0.9737\n",
      "Epoch 140/500\n",
      "16/16 [==============================] - 0s 19ms/step - loss: 0.5277 - accuracy: 0.8199 - auc: 0.9845 - val_loss: 0.5918 - val_accuracy: 0.8088 - val_auc: 0.9765\n",
      "Epoch 141/500\n",
      "16/16 [==============================] - 0s 20ms/step - loss: 0.5392 - accuracy: 0.8212 - auc: 0.9835 - val_loss: 0.5996 - val_accuracy: 0.7943 - val_auc: 0.9756\n",
      "Epoch 142/500\n",
      "16/16 [==============================] - 0s 16ms/step - loss: 0.5225 - accuracy: 0.8287 - auc: 0.9845 - val_loss: 0.5883 - val_accuracy: 0.8068 - val_auc: 0.9768\n",
      "Epoch 143/500\n",
      "16/16 [==============================] - 0s 18ms/step - loss: 0.5232 - accuracy: 0.8171 - auc: 0.9844 - val_loss: 0.6084 - val_accuracy: 0.8078 - val_auc: 0.9762\n",
      "Epoch 144/500\n",
      "16/16 [==============================] - 0s 19ms/step - loss: 0.5144 - accuracy: 0.8228 - auc: 0.9854 - val_loss: 0.5961 - val_accuracy: 0.8023 - val_auc: 0.9767\n",
      "Epoch 145/500\n",
      "16/16 [==============================] - 0s 20ms/step - loss: 0.5371 - accuracy: 0.8114 - auc: 0.9838 - val_loss: 0.6060 - val_accuracy: 0.7998 - val_auc: 0.9757\n",
      "Epoch 146/500\n",
      "16/16 [==============================] - 0s 19ms/step - loss: 0.5279 - accuracy: 0.8187 - auc: 0.9844 - val_loss: 0.6494 - val_accuracy: 0.7898 - val_auc: 0.9730\n",
      "Epoch 147/500\n",
      "16/16 [==============================] - 0s 21ms/step - loss: 0.5239 - accuracy: 0.8212 - auc: 0.9846 - val_loss: 0.5940 - val_accuracy: 0.8098 - val_auc: 0.9763\n",
      "Epoch 148/500\n",
      "16/16 [==============================] - 0s 18ms/step - loss: 0.5234 - accuracy: 0.8167 - auc: 0.9847 - val_loss: 0.6136 - val_accuracy: 0.7983 - val_auc: 0.9758\n",
      "Epoch 149/500\n",
      "16/16 [==============================] - 0s 20ms/step - loss: 0.5280 - accuracy: 0.8157 - auc: 0.9843 - val_loss: 0.5976 - val_accuracy: 0.8048 - val_auc: 0.9760\n",
      "Epoch 150/500\n",
      "16/16 [==============================] - 0s 18ms/step - loss: 0.5244 - accuracy: 0.8181 - auc: 0.9844 - val_loss: 0.6011 - val_accuracy: 0.8038 - val_auc: 0.9753\n",
      "Epoch 151/500\n",
      "16/16 [==============================] - 0s 17ms/step - loss: 0.5188 - accuracy: 0.8173 - auc: 0.9851 - val_loss: 0.6016 - val_accuracy: 0.8068 - val_auc: 0.9758\n",
      "Epoch 152/500\n",
      "16/16 [==============================] - 0s 21ms/step - loss: 0.5175 - accuracy: 0.8208 - auc: 0.9850 - val_loss: 0.6204 - val_accuracy: 0.8008 - val_auc: 0.9751\n",
      "Epoch 153/500\n",
      "16/16 [==============================] - 0s 20ms/step - loss: 0.5122 - accuracy: 0.8244 - auc: 0.9853 - val_loss: 0.6054 - val_accuracy: 0.8088 - val_auc: 0.9760\n",
      "Epoch 154/500\n",
      "16/16 [==============================] - 0s 18ms/step - loss: 0.5254 - accuracy: 0.8136 - auc: 0.9846 - val_loss: 0.6087 - val_accuracy: 0.7988 - val_auc: 0.9760\n",
      "Epoch 155/500\n",
      "16/16 [==============================] - 0s 19ms/step - loss: 0.5205 - accuracy: 0.8182 - auc: 0.9847 - val_loss: 0.6108 - val_accuracy: 0.8033 - val_auc: 0.9757\n",
      "Epoch 156/500\n",
      "16/16 [==============================] - 0s 19ms/step - loss: 0.5175 - accuracy: 0.8203 - auc: 0.9848 - val_loss: 0.6091 - val_accuracy: 0.8038 - val_auc: 0.9762\n",
      "Epoch 157/500\n",
      "16/16 [==============================] - 0s 20ms/step - loss: 0.5181 - accuracy: 0.8219 - auc: 0.9848 - val_loss: 0.5903 - val_accuracy: 0.8058 - val_auc: 0.9767\n",
      "Epoch 158/500\n",
      "16/16 [==============================] - 0s 17ms/step - loss: 0.5162 - accuracy: 0.8258 - auc: 0.9851 - val_loss: 0.5933 - val_accuracy: 0.8073 - val_auc: 0.9766\n",
      "Epoch 159/500\n",
      "16/16 [==============================] - 0s 18ms/step - loss: 0.5084 - accuracy: 0.8261 - auc: 0.9855 - val_loss: 0.6117 - val_accuracy: 0.8053 - val_auc: 0.9754\n",
      "Epoch 160/500\n",
      "16/16 [==============================] - 0s 19ms/step - loss: 0.5099 - accuracy: 0.8234 - auc: 0.9852 - val_loss: 0.6204 - val_accuracy: 0.8053 - val_auc: 0.9742\n",
      "Epoch 161/500\n",
      "16/16 [==============================] - 0s 18ms/step - loss: 0.5083 - accuracy: 0.8242 - auc: 0.9855 - val_loss: 0.5885 - val_accuracy: 0.8088 - val_auc: 0.9773\n",
      "Epoch 162/500\n",
      "16/16 [==============================] - 0s 20ms/step - loss: 0.5103 - accuracy: 0.8243 - auc: 0.9853 - val_loss: 0.5925 - val_accuracy: 0.8103 - val_auc: 0.9768\n",
      "Epoch 163/500\n",
      "16/16 [==============================] - 0s 18ms/step - loss: 0.5140 - accuracy: 0.8207 - auc: 0.9851 - val_loss: 0.5988 - val_accuracy: 0.8108 - val_auc: 0.9769\n",
      "Epoch 164/500\n",
      "16/16 [==============================] - 0s 19ms/step - loss: 0.4949 - accuracy: 0.8318 - auc: 0.9863 - val_loss: 0.5985 - val_accuracy: 0.8083 - val_auc: 0.9764\n",
      "Epoch 165/500\n",
      "16/16 [==============================] - 0s 19ms/step - loss: 0.5020 - accuracy: 0.8243 - auc: 0.9860 - val_loss: 0.5895 - val_accuracy: 0.8153 - val_auc: 0.9768\n",
      "Epoch 166/500\n",
      "16/16 [==============================] - 0s 18ms/step - loss: 0.4950 - accuracy: 0.8310 - auc: 0.9864 - val_loss: 0.6083 - val_accuracy: 0.8028 - val_auc: 0.9760\n",
      "Epoch 167/500\n",
      "16/16 [==============================] - 0s 22ms/step - loss: 0.5000 - accuracy: 0.8321 - auc: 0.9860 - val_loss: 0.6119 - val_accuracy: 0.8038 - val_auc: 0.9755\n",
      "Epoch 168/500\n",
      "16/16 [==============================] - 1s 35ms/step - loss: 0.5076 - accuracy: 0.8282 - auc: 0.9854 - val_loss: 0.6078 - val_accuracy: 0.8023 - val_auc: 0.9761\n",
      "Epoch 169/500\n",
      "16/16 [==============================] - 0s 19ms/step - loss: 0.4987 - accuracy: 0.8258 - auc: 0.9861 - val_loss: 0.6153 - val_accuracy: 0.8018 - val_auc: 0.9764\n",
      "Epoch 170/500\n",
      "16/16 [==============================] - 0s 17ms/step - loss: 0.5003 - accuracy: 0.8298 - auc: 0.9857 - val_loss: 0.6183 - val_accuracy: 0.8013 - val_auc: 0.9753\n",
      "Epoch 171/500\n",
      "16/16 [==============================] - 0s 19ms/step - loss: 0.4975 - accuracy: 0.8285 - auc: 0.9858 - val_loss: 0.6083 - val_accuracy: 0.8073 - val_auc: 0.9751\n",
      "Epoch 172/500\n",
      "16/16 [==============================] - 0s 19ms/step - loss: 0.5003 - accuracy: 0.8302 - auc: 0.9855 - val_loss: 0.6144 - val_accuracy: 0.8033 - val_auc: 0.9750\n",
      "Epoch 173/500\n",
      "16/16 [==============================] - 0s 19ms/step - loss: 0.5052 - accuracy: 0.8236 - auc: 0.9856 - val_loss: 0.5865 - val_accuracy: 0.8133 - val_auc: 0.9769\n",
      "Epoch 174/500\n",
      "16/16 [==============================] - 0s 19ms/step - loss: 0.5062 - accuracy: 0.8221 - auc: 0.9854 - val_loss: 0.6000 - val_accuracy: 0.8038 - val_auc: 0.9760\n",
      "Epoch 175/500\n",
      "16/16 [==============================] - 0s 18ms/step - loss: 0.4949 - accuracy: 0.8283 - auc: 0.9860 - val_loss: 0.5817 - val_accuracy: 0.8123 - val_auc: 0.9780\n",
      "Epoch 176/500\n",
      "16/16 [==============================] - 0s 19ms/step - loss: 0.4989 - accuracy: 0.8238 - auc: 0.9860 - val_loss: 0.5862 - val_accuracy: 0.8118 - val_auc: 0.9771\n",
      "Epoch 177/500\n",
      "16/16 [==============================] - 0s 19ms/step - loss: 0.5021 - accuracy: 0.8278 - auc: 0.9856 - val_loss: 0.6107 - val_accuracy: 0.8103 - val_auc: 0.9767\n",
      "Epoch 178/500\n",
      "16/16 [==============================] - 0s 19ms/step - loss: 0.4854 - accuracy: 0.8338 - auc: 0.9866 - val_loss: 0.5825 - val_accuracy: 0.8143 - val_auc: 0.9779\n",
      "Epoch 179/500\n",
      "16/16 [==============================] - 0s 19ms/step - loss: 0.4946 - accuracy: 0.8262 - auc: 0.9862 - val_loss: 0.5713 - val_accuracy: 0.8193 - val_auc: 0.9777\n",
      "Epoch 180/500\n",
      "16/16 [==============================] - 0s 19ms/step - loss: 0.4939 - accuracy: 0.8286 - auc: 0.9862 - val_loss: 0.6259 - val_accuracy: 0.7953 - val_auc: 0.9751\n",
      "Epoch 181/500\n",
      "16/16 [==============================] - 0s 23ms/step - loss: 0.4977 - accuracy: 0.8290 - auc: 0.9858 - val_loss: 0.6131 - val_accuracy: 0.7978 - val_auc: 0.9759\n",
      "Epoch 182/500\n",
      "16/16 [==============================] - 0s 19ms/step - loss: 0.4812 - accuracy: 0.8335 - auc: 0.9869 - val_loss: 0.5917 - val_accuracy: 0.8118 - val_auc: 0.9769\n",
      "Epoch 183/500\n",
      "16/16 [==============================] - 0s 18ms/step - loss: 0.4830 - accuracy: 0.8313 - auc: 0.9871 - val_loss: 0.5884 - val_accuracy: 0.8158 - val_auc: 0.9771\n",
      "Epoch 184/500\n",
      "16/16 [==============================] - 0s 18ms/step - loss: 0.4847 - accuracy: 0.8326 - auc: 0.9869 - val_loss: 0.5873 - val_accuracy: 0.8128 - val_auc: 0.9776\n",
      "Epoch 185/500\n",
      "16/16 [==============================] - 0s 18ms/step - loss: 0.4855 - accuracy: 0.8345 - auc: 0.9864 - val_loss: 0.5849 - val_accuracy: 0.8093 - val_auc: 0.9769\n",
      "Epoch 186/500\n",
      "16/16 [==============================] - 1s 40ms/step - loss: 0.4826 - accuracy: 0.8331 - auc: 0.9864 - val_loss: 0.5739 - val_accuracy: 0.8218 - val_auc: 0.9777\n",
      "Epoch 187/500\n",
      "16/16 [==============================] - 1s 40ms/step - loss: 0.4860 - accuracy: 0.8317 - auc: 0.9866 - val_loss: 0.5822 - val_accuracy: 0.8178 - val_auc: 0.9771\n",
      "Epoch 188/500\n",
      "16/16 [==============================] - 0s 18ms/step - loss: 0.4801 - accuracy: 0.8342 - auc: 0.9867 - val_loss: 0.5790 - val_accuracy: 0.8178 - val_auc: 0.9775\n",
      "Epoch 189/500\n",
      "16/16 [==============================] - 0s 17ms/step - loss: 0.4840 - accuracy: 0.8345 - auc: 0.9866 - val_loss: 0.5848 - val_accuracy: 0.8133 - val_auc: 0.9777\n",
      "Epoch 190/500\n",
      "16/16 [==============================] - 0s 18ms/step - loss: 0.4818 - accuracy: 0.8323 - auc: 0.9869 - val_loss: 0.5859 - val_accuracy: 0.8183 - val_auc: 0.9759\n",
      "Epoch 191/500\n",
      "16/16 [==============================] - 0s 19ms/step - loss: 0.4799 - accuracy: 0.8325 - auc: 0.9871 - val_loss: 0.6161 - val_accuracy: 0.8073 - val_auc: 0.9741\n",
      "Epoch 192/500\n",
      "16/16 [==============================] - 0s 19ms/step - loss: 0.4814 - accuracy: 0.8331 - auc: 0.9868 - val_loss: 0.6093 - val_accuracy: 0.8043 - val_auc: 0.9752\n",
      "Epoch 193/500\n",
      "16/16 [==============================] - 0s 21ms/step - loss: 0.4785 - accuracy: 0.8333 - auc: 0.9869 - val_loss: 0.5943 - val_accuracy: 0.8083 - val_auc: 0.9759\n",
      "Epoch 194/500\n",
      "16/16 [==============================] - 0s 18ms/step - loss: 0.4710 - accuracy: 0.8376 - auc: 0.9875 - val_loss: 0.5851 - val_accuracy: 0.8118 - val_auc: 0.9772\n",
      "Epoch 195/500\n",
      "16/16 [==============================] - 0s 17ms/step - loss: 0.4796 - accuracy: 0.8352 - auc: 0.9869 - val_loss: 0.5986 - val_accuracy: 0.8068 - val_auc: 0.9769\n",
      "Epoch 196/500\n",
      "16/16 [==============================] - 0s 17ms/step - loss: 0.4804 - accuracy: 0.8337 - auc: 0.9867 - val_loss: 0.5899 - val_accuracy: 0.8203 - val_auc: 0.9771\n",
      "Epoch 197/500\n",
      "16/16 [==============================] - 0s 18ms/step - loss: 0.4645 - accuracy: 0.8388 - auc: 0.9877 - val_loss: 0.5837 - val_accuracy: 0.8203 - val_auc: 0.9777\n",
      "Epoch 198/500\n",
      "16/16 [==============================] - 0s 19ms/step - loss: 0.4712 - accuracy: 0.8406 - auc: 0.9872 - val_loss: 0.5756 - val_accuracy: 0.8193 - val_auc: 0.9778\n",
      "Epoch 199/500\n",
      "16/16 [==============================] - 0s 18ms/step - loss: 0.4686 - accuracy: 0.8362 - auc: 0.9876 - val_loss: 0.5737 - val_accuracy: 0.8228 - val_auc: 0.9786\n",
      "Epoch 200/500\n",
      "16/16 [==============================] - 0s 23ms/step - loss: 0.4737 - accuracy: 0.8378 - auc: 0.9871 - val_loss: 0.5888 - val_accuracy: 0.8173 - val_auc: 0.9768\n",
      "Epoch 201/500\n",
      "16/16 [==============================] - 1s 32ms/step - loss: 0.4680 - accuracy: 0.8395 - auc: 0.9876 - val_loss: 0.6036 - val_accuracy: 0.8013 - val_auc: 0.9757\n",
      "Epoch 202/500\n",
      "16/16 [==============================] - 0s 17ms/step - loss: 0.4699 - accuracy: 0.8366 - auc: 0.9872 - val_loss: 0.5649 - val_accuracy: 0.8148 - val_auc: 0.9775\n",
      "Epoch 203/500\n",
      "16/16 [==============================] - 0s 19ms/step - loss: 0.4835 - accuracy: 0.8327 - auc: 0.9864 - val_loss: 0.5835 - val_accuracy: 0.8223 - val_auc: 0.9777\n",
      "Epoch 204/500\n",
      "16/16 [==============================] - 0s 17ms/step - loss: 0.4755 - accuracy: 0.8288 - auc: 0.9870 - val_loss: 0.5696 - val_accuracy: 0.8208 - val_auc: 0.9774\n",
      "Epoch 205/500\n",
      "16/16 [==============================] - 0s 18ms/step - loss: 0.4706 - accuracy: 0.8380 - auc: 0.9871 - val_loss: 0.5963 - val_accuracy: 0.8098 - val_auc: 0.9769\n",
      "Epoch 206/500\n",
      "16/16 [==============================] - 0s 16ms/step - loss: 0.4633 - accuracy: 0.8372 - auc: 0.9877 - val_loss: 0.5775 - val_accuracy: 0.8158 - val_auc: 0.9786\n",
      "Epoch 207/500\n",
      "16/16 [==============================] - 0s 19ms/step - loss: 0.4701 - accuracy: 0.8361 - auc: 0.9872 - val_loss: 0.5825 - val_accuracy: 0.8143 - val_auc: 0.9774\n",
      "Epoch 208/500\n",
      "16/16 [==============================] - 0s 17ms/step - loss: 0.4706 - accuracy: 0.8371 - auc: 0.9869 - val_loss: 0.6005 - val_accuracy: 0.8158 - val_auc: 0.9757\n",
      "Epoch 209/500\n",
      "16/16 [==============================] - 0s 18ms/step - loss: 0.4565 - accuracy: 0.8442 - auc: 0.9882 - val_loss: 0.5741 - val_accuracy: 0.8213 - val_auc: 0.9775\n",
      "Epoch 210/500\n",
      "16/16 [==============================] - 0s 18ms/step - loss: 0.4577 - accuracy: 0.8418 - auc: 0.9882 - val_loss: 0.5837 - val_accuracy: 0.8198 - val_auc: 0.9764\n",
      "Epoch 211/500\n",
      "16/16 [==============================] - 0s 17ms/step - loss: 0.4551 - accuracy: 0.8467 - auc: 0.9882 - val_loss: 0.5972 - val_accuracy: 0.8103 - val_auc: 0.9772\n",
      "Epoch 212/500\n",
      "16/16 [==============================] - 0s 17ms/step - loss: 0.4532 - accuracy: 0.8410 - auc: 0.9884 - val_loss: 0.5772 - val_accuracy: 0.8173 - val_auc: 0.9775\n",
      "Epoch 213/500\n",
      "16/16 [==============================] - 0s 16ms/step - loss: 0.4660 - accuracy: 0.8370 - auc: 0.9877 - val_loss: 0.5883 - val_accuracy: 0.8158 - val_auc: 0.9760\n",
      "Epoch 214/500\n",
      "16/16 [==============================] - 0s 19ms/step - loss: 0.4531 - accuracy: 0.8405 - auc: 0.9881 - val_loss: 0.5759 - val_accuracy: 0.8178 - val_auc: 0.9772\n",
      "Epoch 215/500\n",
      "16/16 [==============================] - 0s 16ms/step - loss: 0.4560 - accuracy: 0.8443 - auc: 0.9881 - val_loss: 0.5847 - val_accuracy: 0.8138 - val_auc: 0.9778\n",
      "Epoch 216/500\n",
      "16/16 [==============================] - 0s 17ms/step - loss: 0.4613 - accuracy: 0.8378 - auc: 0.9879 - val_loss: 0.6094 - val_accuracy: 0.8063 - val_auc: 0.9752\n",
      "Epoch 217/500\n",
      "16/16 [==============================] - 0s 16ms/step - loss: 0.4656 - accuracy: 0.8387 - auc: 0.9874 - val_loss: 0.5542 - val_accuracy: 0.8208 - val_auc: 0.9789\n",
      "Epoch 218/500\n",
      "16/16 [==============================] - 0s 18ms/step - loss: 0.4547 - accuracy: 0.8438 - auc: 0.9879 - val_loss: 0.5582 - val_accuracy: 0.8243 - val_auc: 0.9787\n",
      "Epoch 219/500\n",
      "16/16 [==============================] - 0s 17ms/step - loss: 0.4571 - accuracy: 0.8412 - auc: 0.9880 - val_loss: 0.5670 - val_accuracy: 0.8233 - val_auc: 0.9779\n",
      "Epoch 220/500\n",
      "16/16 [==============================] - 0s 17ms/step - loss: 0.4451 - accuracy: 0.8478 - auc: 0.9888 - val_loss: 0.5810 - val_accuracy: 0.8123 - val_auc: 0.9773\n",
      "Epoch 221/500\n",
      "16/16 [==============================] - 0s 18ms/step - loss: 0.4578 - accuracy: 0.8428 - auc: 0.9877 - val_loss: 0.6240 - val_accuracy: 0.7983 - val_auc: 0.9752\n",
      "Epoch 222/500\n",
      "16/16 [==============================] - 0s 18ms/step - loss: 0.4517 - accuracy: 0.8401 - auc: 0.9883 - val_loss: 0.6151 - val_accuracy: 0.8088 - val_auc: 0.9757\n",
      "Epoch 223/500\n",
      "16/16 [==============================] - 0s 18ms/step - loss: 0.4536 - accuracy: 0.8407 - auc: 0.9883 - val_loss: 0.5720 - val_accuracy: 0.8163 - val_auc: 0.9781\n",
      "Epoch 224/500\n",
      "16/16 [==============================] - 0s 17ms/step - loss: 0.4527 - accuracy: 0.8412 - auc: 0.9885 - val_loss: 0.5534 - val_accuracy: 0.8243 - val_auc: 0.9791\n",
      "Epoch 225/500\n",
      "16/16 [==============================] - 0s 18ms/step - loss: 0.4460 - accuracy: 0.8457 - auc: 0.9887 - val_loss: 0.5682 - val_accuracy: 0.8268 - val_auc: 0.9781\n",
      "Epoch 226/500\n",
      "16/16 [==============================] - 0s 18ms/step - loss: 0.4459 - accuracy: 0.8456 - auc: 0.9886 - val_loss: 0.5922 - val_accuracy: 0.8218 - val_auc: 0.9774\n",
      "Epoch 227/500\n",
      "16/16 [==============================] - 0s 18ms/step - loss: 0.4372 - accuracy: 0.8515 - auc: 0.9893 - val_loss: 0.5701 - val_accuracy: 0.8223 - val_auc: 0.9787\n",
      "Epoch 228/500\n",
      "16/16 [==============================] - 0s 17ms/step - loss: 0.4494 - accuracy: 0.8436 - auc: 0.9882 - val_loss: 0.5725 - val_accuracy: 0.8243 - val_auc: 0.9779\n",
      "Epoch 229/500\n",
      "16/16 [==============================] - 0s 19ms/step - loss: 0.4508 - accuracy: 0.8436 - auc: 0.9883 - val_loss: 0.5798 - val_accuracy: 0.8178 - val_auc: 0.9786\n",
      "Epoch 230/500\n",
      "16/16 [==============================] - 0s 17ms/step - loss: 0.4535 - accuracy: 0.8425 - auc: 0.9884 - val_loss: 0.6075 - val_accuracy: 0.7998 - val_auc: 0.9757\n",
      "Epoch 231/500\n",
      "16/16 [==============================] - 0s 16ms/step - loss: 0.4472 - accuracy: 0.8446 - auc: 0.9887 - val_loss: 0.5922 - val_accuracy: 0.8118 - val_auc: 0.9772\n",
      "Epoch 232/500\n",
      "16/16 [==============================] - 0s 18ms/step - loss: 0.4494 - accuracy: 0.8401 - auc: 0.9885 - val_loss: 0.5786 - val_accuracy: 0.8263 - val_auc: 0.9767\n",
      "Epoch 233/500\n",
      "16/16 [==============================] - 0s 16ms/step - loss: 0.4556 - accuracy: 0.8396 - auc: 0.9879 - val_loss: 0.5742 - val_accuracy: 0.8233 - val_auc: 0.9780\n",
      "Epoch 234/500\n",
      "16/16 [==============================] - 0s 17ms/step - loss: 0.4400 - accuracy: 0.8496 - auc: 0.9887 - val_loss: 0.5651 - val_accuracy: 0.8188 - val_auc: 0.9781\n",
      "Epoch 235/500\n",
      "16/16 [==============================] - 0s 16ms/step - loss: 0.4428 - accuracy: 0.8440 - auc: 0.9888 - val_loss: 0.5783 - val_accuracy: 0.8188 - val_auc: 0.9775\n",
      "Epoch 236/500\n",
      "16/16 [==============================] - 0s 17ms/step - loss: 0.4394 - accuracy: 0.8488 - auc: 0.9890 - val_loss: 0.5671 - val_accuracy: 0.8248 - val_auc: 0.9780\n",
      "Epoch 237/500\n",
      "16/16 [==============================] - 0s 16ms/step - loss: 0.4365 - accuracy: 0.8495 - auc: 0.9890 - val_loss: 0.5794 - val_accuracy: 0.8138 - val_auc: 0.9774\n",
      "Epoch 238/500\n",
      "16/16 [==============================] - 0s 31ms/step - loss: 0.4382 - accuracy: 0.8488 - auc: 0.9891 - val_loss: 0.5603 - val_accuracy: 0.8248 - val_auc: 0.9793\n",
      "Epoch 239/500\n",
      "16/16 [==============================] - 0s 25ms/step - loss: 0.4441 - accuracy: 0.8462 - auc: 0.9887 - val_loss: 0.5595 - val_accuracy: 0.8298 - val_auc: 0.9778\n",
      "Epoch 240/500\n",
      "16/16 [==============================] - 0s 18ms/step - loss: 0.4380 - accuracy: 0.8530 - auc: 0.9886 - val_loss: 0.5817 - val_accuracy: 0.8148 - val_auc: 0.9779\n",
      "Epoch 241/500\n",
      "16/16 [==============================] - 0s 18ms/step - loss: 0.4407 - accuracy: 0.8476 - auc: 0.9887 - val_loss: 0.5795 - val_accuracy: 0.8168 - val_auc: 0.9777\n",
      "Epoch 242/500\n",
      "16/16 [==============================] - 0s 19ms/step - loss: 0.4475 - accuracy: 0.8423 - auc: 0.9886 - val_loss: 0.5893 - val_accuracy: 0.8098 - val_auc: 0.9776\n",
      "Epoch 243/500\n",
      "16/16 [==============================] - 0s 18ms/step - loss: 0.4323 - accuracy: 0.8504 - auc: 0.9892 - val_loss: 0.5693 - val_accuracy: 0.8198 - val_auc: 0.9789\n",
      "Epoch 244/500\n",
      "16/16 [==============================] - 0s 17ms/step - loss: 0.4289 - accuracy: 0.8535 - auc: 0.9896 - val_loss: 0.5666 - val_accuracy: 0.8283 - val_auc: 0.9787\n",
      "Epoch 245/500\n",
      "16/16 [==============================] - 0s 18ms/step - loss: 0.4330 - accuracy: 0.8519 - auc: 0.9891 - val_loss: 0.5651 - val_accuracy: 0.8223 - val_auc: 0.9780\n",
      "Epoch 246/500\n",
      "16/16 [==============================] - 0s 18ms/step - loss: 0.4462 - accuracy: 0.8450 - auc: 0.9883 - val_loss: 0.5976 - val_accuracy: 0.8118 - val_auc: 0.9768\n",
      "Epoch 247/500\n",
      "16/16 [==============================] - 0s 18ms/step - loss: 0.4389 - accuracy: 0.8487 - auc: 0.9888 - val_loss: 0.5885 - val_accuracy: 0.8148 - val_auc: 0.9765\n",
      "Epoch 248/500\n",
      "16/16 [==============================] - 0s 19ms/step - loss: 0.4527 - accuracy: 0.8440 - auc: 0.9880 - val_loss: 0.5788 - val_accuracy: 0.8208 - val_auc: 0.9777\n",
      "Epoch 249/500\n",
      "16/16 [==============================] - 0s 16ms/step - loss: 0.4430 - accuracy: 0.8456 - auc: 0.9885 - val_loss: 0.5536 - val_accuracy: 0.8233 - val_auc: 0.9789\n",
      "Epoch 250/500\n",
      "16/16 [==============================] - 0s 16ms/step - loss: 0.4220 - accuracy: 0.8546 - auc: 0.9898 - val_loss: 0.5850 - val_accuracy: 0.8118 - val_auc: 0.9777\n",
      "Epoch 251/500\n",
      "16/16 [==============================] - 0s 16ms/step - loss: 0.4229 - accuracy: 0.8562 - auc: 0.9898 - val_loss: 0.5834 - val_accuracy: 0.8173 - val_auc: 0.9766\n",
      "Epoch 252/500\n",
      "16/16 [==============================] - 0s 18ms/step - loss: 0.4349 - accuracy: 0.8463 - auc: 0.9891 - val_loss: 0.5820 - val_accuracy: 0.8183 - val_auc: 0.9770\n",
      "Epoch 253/500\n",
      "16/16 [==============================] - 0s 16ms/step - loss: 0.4246 - accuracy: 0.8485 - auc: 0.9897 - val_loss: 0.5938 - val_accuracy: 0.8253 - val_auc: 0.9756\n",
      "Epoch 254/500\n",
      "16/16 [==============================] - 0s 16ms/step - loss: 0.4387 - accuracy: 0.8481 - auc: 0.9889 - val_loss: 0.5662 - val_accuracy: 0.8278 - val_auc: 0.9777\n",
      "Epoch 255/500\n",
      "16/16 [==============================] - 0s 17ms/step - loss: 0.4389 - accuracy: 0.8466 - auc: 0.9887 - val_loss: 0.5563 - val_accuracy: 0.8218 - val_auc: 0.9778\n",
      "Epoch 256/500\n",
      "16/16 [==============================] - 0s 17ms/step - loss: 0.4162 - accuracy: 0.8525 - auc: 0.9901 - val_loss: 0.5690 - val_accuracy: 0.8273 - val_auc: 0.9778\n",
      "Epoch 257/500\n",
      "16/16 [==============================] - 0s 18ms/step - loss: 0.4476 - accuracy: 0.8445 - auc: 0.9882 - val_loss: 0.5810 - val_accuracy: 0.8273 - val_auc: 0.9767\n",
      "Epoch 258/500\n",
      "16/16 [==============================] - 0s 17ms/step - loss: 0.4260 - accuracy: 0.8507 - auc: 0.9893 - val_loss: 0.5728 - val_accuracy: 0.8268 - val_auc: 0.9769\n",
      "Epoch 259/500\n",
      "16/16 [==============================] - 0s 20ms/step - loss: 0.4325 - accuracy: 0.8505 - auc: 0.9890 - val_loss: 0.5780 - val_accuracy: 0.8198 - val_auc: 0.9773\n"
     ]
    },
    {
     "name": "stderr",
     "output_type": "stream",
     "text": [
      "2022-12-03 23:00:34.038538: W tensorflow/python/util/util.cc:348] Sets are not currently considered sequences, but this may change in the future, so consider avoiding using them.\n"
     ]
    }
   ],
   "source": [
    "es = EarlyStopping(\n",
    "    monitor='val_accuracy', restore_best_weights=True, patience=20, min_delta = 0.001\n",
    ")\n",
    "\n",
    "history = model.fit(\n",
    "    np.array(X_train).reshape(7992, 1, 20),\n",
    "    np.array(y_train),\n",
    "    epochs=500,\n",
    "    callbacks = [es],\n",
    "    shuffle = True,\n",
    "    batch_size = 512,\n",
    "    validation_data = (\n",
    "        np.array(X_test).reshape(1998,1,20),\n",
    "        np.array(y_test)\n",
    "    )\n",
    ")\n",
    "model.save('LSTM')"
   ]
  },
  {
   "cell_type": "code",
   "execution_count": 16,
   "id": "5d114e3a",
   "metadata": {
    "execution": {
     "iopub.execute_input": "2022-12-03T23:00:39.401327Z",
     "iopub.status.busy": "2022-12-03T23:00:39.400947Z",
     "iopub.status.idle": "2022-12-03T23:00:39.936096Z",
     "shell.execute_reply": "2022-12-03T23:00:39.935127Z"
    },
    "papermill": {
     "duration": 0.626627,
     "end_time": "2022-12-03T23:00:39.938425",
     "exception": false,
     "start_time": "2022-12-03T23:00:39.311798",
     "status": "completed"
    },
    "tags": []
   },
   "outputs": [
    {
     "data": {
      "image/png": "[encoded data removed]",
      "text/plain": [
       "<Figure size 864x432 with 3 Axes>"
      ]
     },
     "metadata": {
      "needs_background": "light"
     },
     "output_type": "display_data"
    }
   ],
   "source": [
    "fig, (ax1, ax2, ax3) = plt.subplots(3,1, figsize=(12,6))\n",
    "ax2.plot(history.history['loss'], color='orange', label='Loss')\n",
    "ax2.plot(history.history['val_loss'], color='blue', label='val_loss')\n",
    "ax2.legend(loc='upper right')\n",
    "ax1.plot(history.history['accuracy'], label='Accuracy', color='orange')\n",
    "ax1.plot(history.history['val_accuracy'], label='val_accuracy', color='blue')\n",
    "ax1.legend(loc=\"upper right\")\n",
    "ax1.set_title(\"Model-Accuracy w.r.t Epochs\", loc='center')\n",
    "plt.xlabel(\"Epochs\")\n",
    "plt.ylabel(\"Loss\")\n",
    "ax1.set_xlabel(\"Epoch\")\n",
    "ax1.set_ylabel(\"Accuracy\")\n",
    "ax3.plot(history.history['auc'], color='orange', label='AUC')\n",
    "ax3.plot(history.history['val_auc'], color='blue', label='val_auc')\n",
    "ax3.set_xlabel(\"Epoch\")\n",
    "ax3.set_ylabel(\"AUC\")\n",
    "ax3.legend(loc='upper right')\n",
    "plt.savefig('model_acc_LSTM_GTZAN.png')\n",
    "# ax3.set_title(\"AUC of model w.r.t Epochs\", loc='center')"
   ]
  },
  {
   "cell_type": "code",
   "execution_count": 17,
   "id": "88b348a7",
   "metadata": {
    "execution": {
     "iopub.execute_input": "2022-12-03T23:00:40.119086Z",
     "iopub.status.busy": "2022-12-03T23:00:40.118709Z",
     "iopub.status.idle": "2022-12-03T23:00:41.220180Z",
     "shell.execute_reply": "2022-12-03T23:00:41.219161Z"
    },
    "papermill": {
     "duration": 1.196385,
     "end_time": "2022-12-03T23:00:41.222872",
     "exception": false,
     "start_time": "2022-12-03T23:00:40.026487",
     "status": "completed"
    },
    "tags": []
   },
   "outputs": [
    {
     "data": {
      "text/plain": [
       "(9990, 10)"
      ]
     },
     "execution_count": 17,
     "metadata": {},
     "output_type": "execute_result"
    }
   ],
   "source": [
    "y_pred = model.predict(np.array(x).reshape(9990, 1,20))\n",
    "\n",
    "y_pred_classes = np.argmax(y_pred, axis=1)\n",
    "\n",
    "y_pred.shape"
   ]
  },
  {
   "cell_type": "code",
   "execution_count": 18,
   "id": "8a058491",
   "metadata": {
    "execution": {
     "iopub.execute_input": "2022-12-03T23:00:41.494056Z",
     "iopub.status.busy": "2022-12-03T23:00:41.493548Z",
     "iopub.status.idle": "2022-12-03T23:00:41.504428Z",
     "shell.execute_reply": "2022-12-03T23:00:41.503599Z"
    },
    "papermill": {
     "duration": 0.149359,
     "end_time": "2022-12-03T23:00:41.507015",
     "exception": false,
     "start_time": "2022-12-03T23:00:41.357656",
     "status": "completed"
    },
    "tags": []
   },
   "outputs": [
    {
     "data": {
      "text/plain": [
       "array([0, 0, 0, ..., 9, 9, 9])"
      ]
     },
     "execution_count": 18,
     "metadata": {},
     "output_type": "execute_result"
    }
   ],
   "source": [
    "y_true = np.argmax(np.array(y_new), axis=1)\n",
    "\n",
    "y_true"
   ]
  },
  {
   "cell_type": "code",
   "execution_count": 19,
   "id": "c5c8b87f",
   "metadata": {
    "execution": {
     "iopub.execute_input": "2022-12-03T23:00:41.778507Z",
     "iopub.status.busy": "2022-12-03T23:00:41.778073Z",
     "iopub.status.idle": "2022-12-03T23:00:41.803049Z",
     "shell.execute_reply": "2022-12-03T23:00:41.801931Z"
    },
    "papermill": {
     "duration": 0.164822,
     "end_time": "2022-12-03T23:00:41.806143",
     "exception": false,
     "start_time": "2022-12-03T23:00:41.641321",
     "status": "completed"
    },
    "tags": []
   },
   "outputs": [
    {
     "name": "stdout",
     "output_type": "stream",
     "text": [
      "0.9214214214214215\n",
      "tf.Tensor(0.99428946, shape=(), dtype=float32)\n"
     ]
    }
   ],
   "source": [
    "print(np.mean(y_pred_classes == y_true))\n",
    "m = AUC()\n",
    "m.update_state(y_new, y_pred)\n",
    "print(m.result())"
   ]
  },
  {
   "cell_type": "code",
   "execution_count": 20,
   "id": "bd1bc693",
   "metadata": {
    "execution": {
     "iopub.execute_input": "2022-12-03T23:00:41.985201Z",
     "iopub.status.busy": "2022-12-03T23:00:41.984847Z",
     "iopub.status.idle": "2022-12-03T23:00:42.911819Z",
     "shell.execute_reply": "2022-12-03T23:00:42.910800Z"
    },
    "papermill": {
     "duration": 1.018133,
     "end_time": "2022-12-03T23:00:42.913910",
     "exception": false,
     "start_time": "2022-12-03T23:00:41.895777",
     "status": "completed"
    },
    "tags": []
   },
   "outputs": [
    {
     "data": {
      "text/plain": [
       "<Figure size 432x288 with 0 Axes>"
      ]
     },
     "metadata": {},
     "output_type": "display_data"
    },
    {
     "data": {
      "image/png": "[encoded data removed]",
      "text/plain": [
       "<Figure size 864x864 with 2 Axes>"
      ]
     },
     "metadata": {
      "needs_background": "light"
     },
     "output_type": "display_data"
    }
   ],
   "source": [
    "from sklearn.metrics import confusion_matrix\n",
    "cm = confusion_matrix(y_pred_classes, y_true,)\n",
    "import itertools\n",
    "plt.clf()\n",
    "fig = plt.figure(figsize = (12,12)) \n",
    "ax = fig.add_subplot(111)\n",
    "ax.set_aspect(1)\n",
    "plt.imshow(cm, cmap = plt.cm.Blues, interpolation='nearest')\n",
    "\n",
    "plt.title(\"Confusion Matrix\")\n",
    "plt.colorbar()\n",
    "tick_marks = np.arange(len(range(10)))\n",
    "plt.xticks(tick_marks, range(10), rotation=45)\n",
    "plt.yticks(tick_marks, range(10))\n",
    "thresh = cm.max()/2\n",
    "for i, j in itertools.product(range(cm.shape[0]), range(cm.shape[1])):\n",
    "    plt.text(j, i , cm[i,j], horizontalalignment=\"center\", color=\"white\" if cm[i,j]>thresh else \"black\")\n",
    "\n",
    "plt.tight_layout()\n",
    "plt.ylabel(\"True Label\")\n",
    "plt.xlabel(\"Predicted Label\")\n",
    "plt.savefig('con_matrix_LSTM_GTZAN.png')"
   ]
  }
 ],
 "metadata": {
  "kernelspec": {
   "display_name": "Python 3",
   "language": "python",
   "name": "python3"
  },
  "language_info": {
   "codemirror_mode": {
    "name": "ipython",
    "version": 3
   },
   "file_extension": ".py",
   "mimetype": "text/x-python",
   "name": "python",
   "nbconvert_exporter": "python",
   "pygments_lexer": "ipython3",
   "version": "3.7.12"
  },
  "papermill": {
   "default_parameters": {},
   "duration": 120.400165,
   "end_time": "2022-12-03T23:00:46.825434",
   "environment_variables": {},
   "exception": null,
   "input_path": "__notebook__.ipynb",
   "output_path": "__notebook__.ipynb",
   "parameters": {},
   "start_time": "2022-12-03T22:58:46.425269",
   "version": "2.3.4"
  }
 },
 "nbformat": 4,
 "nbformat_minor": 5
}
