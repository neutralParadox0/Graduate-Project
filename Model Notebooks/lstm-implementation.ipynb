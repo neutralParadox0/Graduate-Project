{
 "cells": [
  {
   "cell_type": "code",
   "execution_count": 1,
   "id": "0ce8a107",
   "metadata": {
    "_cell_guid": "b1076dfc-b9ad-4769-8c92-a6c4dae69d19",
    "_uuid": "8f2839f25d086af736a60e9eeb907d3b93b6e0e5",
    "execution": {
     "iopub.execute_input": "2022-11-23T18:56:01.023666Z",
     "iopub.status.busy": "2022-11-23T18:56:01.022541Z",
     "iopub.status.idle": "2022-11-23T18:56:14.651310Z",
     "shell.execute_reply": "2022-11-23T18:56:14.650195Z"
    },
    "papermill": {
     "duration": 13.639047,
     "end_time": "2022-11-23T18:56:14.654190",
     "exception": false,
     "start_time": "2022-11-23T18:56:01.015143",
     "status": "completed"
    },
    "tags": []
   },
   "outputs": [],
   "source": [
    "import matplotlib.pyplot as plt\n",
    "\n",
    "#for loading and visualizing audio files\n",
    "import librosa\n",
    "import librosa.display\n",
    "from tqdm import tqdm\n",
    "#to play audio\n",
    "import IPython.display as ipd\n",
    "import pandas as pd # data processing, CSV file I/O (e.g. pd.read_csv)\n",
    "import tensorflow as tf\n",
    "import cv2\n",
    "from keras.preprocessing.image import ImageDataGenerator\n",
    "from keras import backend as K\n",
    "import keras\n",
    "from keras.models import Sequential, Model,load_model\n",
    "from tensorflow.keras.optimizers import SGD, Adam\n",
    "from keras.callbacks import EarlyStopping,ModelCheckpoint\n",
    "from keras.layers import Input, Dense, Dropout, LSTM, Embedding, Flatten, Bidirectional, BatchNormalization\n",
    "from keras.preprocessing import image\n",
    "from keras.initializers import glorot_uniform\n",
    "from tensorflow.keras.applications import inception_v3\n",
    "from tensorflow.keras.models import Sequential\n",
    "from tensorflow.keras.preprocessing.image import ImageDataGenerator\n",
    "import numpy as np\n",
    "from sklearn.model_selection import train_test_split\n",
    "from keras.callbacks import ReduceLROnPlateau\n",
    "from tensorflow.keras.metrics import AUC\n",
    "import os\n",
    "import shutil\n",
    "if os.path.exists('./prep/'):\n",
    "    shutil.rmtree('./prep/')\n",
    "label_csv = '../input/environmental-sound-classification-50/esc50.csv'\n",
    "audio_fpath = \"../input/environmental-sound-classification-50/audio/audio/44100/\""
   ]
  },
  {
   "cell_type": "code",
   "execution_count": 2,
   "id": "eb5b3e7b",
   "metadata": {
    "execution": {
     "iopub.execute_input": "2022-11-23T18:56:14.666383Z",
     "iopub.status.busy": "2022-11-23T18:56:14.665845Z",
     "iopub.status.idle": "2022-11-23T18:56:14.675074Z",
     "shell.execute_reply": "2022-11-23T18:56:14.674220Z"
    },
    "papermill": {
     "duration": 0.017508,
     "end_time": "2022-11-23T18:56:14.677112",
     "exception": false,
     "start_time": "2022-11-23T18:56:14.659604",
     "status": "completed"
    },
    "tags": []
   },
   "outputs": [],
   "source": [
    "class AudioAugmentation:\n",
    "    \n",
    "    def read_audio_file(self, file_path):\n",
    "        input_length = 220500\n",
    "        data = librosa.load(file_path)[0]\n",
    "        if len(data) > input_length:\n",
    "            data = data[:input_length]\n",
    "        else:\n",
    "            data = np.pad(data, (0, max(0, input_length - len(data))), \"constant\")\n",
    "        return data\n",
    "    \n",
    "    def add_noise(self, data):\n",
    "        noise = np.random.randn(len(data))\n",
    "        data_noise = data + 0.005 * noise\n",
    "        return data_noise\n",
    "    \n",
    "    def shift(self, data):\n",
    "        return np.roll(data, 22050)\n",
    "    \n",
    "    def stretch(self, data, rate=1):\n",
    "        input_length = 220500\n",
    "        data = librosa.effects.time_stretch(data, rate)\n",
    "        if len(data) > input_length:\n",
    "            data = data[:input_length]\n",
    "        else:\n",
    "            data = np.pad(data, (0, max(0, input_length - len(data))), \"constant\")\n",
    "        return data\n",
    "    def write_audio_file(self, file, data, sample_rate=44100):\n",
    "        librosa.output.write_wav(file, data, sample_rate)"
   ]
  },
  {
   "cell_type": "code",
   "execution_count": 3,
   "id": "37f1515a",
   "metadata": {
    "execution": {
     "iopub.execute_input": "2022-11-23T18:56:14.688698Z",
     "iopub.status.busy": "2022-11-23T18:56:14.687872Z",
     "iopub.status.idle": "2022-11-23T18:56:14.695079Z",
     "shell.execute_reply": "2022-11-23T18:56:14.694212Z"
    },
    "papermill": {
     "duration": 0.015426,
     "end_time": "2022-11-23T18:56:14.697375",
     "exception": false,
     "start_time": "2022-11-23T18:56:14.681949",
     "status": "completed"
    },
    "tags": []
   },
   "outputs": [],
   "source": [
    "def create_dir(dirname):\n",
    "    if os.path.exists(dirname):\n",
    "        pass\n",
    "    else:\n",
    "        os.makedirs(dirname)\n",
    "        \n",
    "def wav2mel(path, clip, output, sample_rate=44100):\n",
    "    x, sr = librosa.load(path+clip, sr=sample_rate)\n",
    "    sgram=librosa.stft(x)\n",
    "    sgram_mag, _ = librosa.magphase(sgram)\n",
    "    \n",
    "    mel_scale_sgram = librosa.feature.melspectrogram(S=sgram_mag, sr=sr)\n",
    "    mel_sgram = librosa.amplitude_to_db(mel_scale_sgram, ref=np.min)\n",
    "    librosa.display.specshow(mel_sgram, sr=sr, x_axis='time', y_axis='mel')\n",
    "    plt.colorbar(format='%+2.0f dB')\n",
    "    plt.savefig(output)\n",
    "    plt.clf()"
   ]
  },
  {
   "cell_type": "code",
   "execution_count": 4,
   "id": "4ccf307a",
   "metadata": {
    "execution": {
     "iopub.execute_input": "2022-11-23T18:56:14.709002Z",
     "iopub.status.busy": "2022-11-23T18:56:14.708151Z",
     "iopub.status.idle": "2022-11-23T18:56:14.839743Z",
     "shell.execute_reply": "2022-11-23T18:56:14.838628Z"
    },
    "papermill": {
     "duration": 0.14151,
     "end_time": "2022-11-23T18:56:14.844052",
     "exception": false,
     "start_time": "2022-11-23T18:56:14.702542",
     "status": "completed"
    },
    "tags": []
   },
   "outputs": [
    {
     "name": "stdout",
     "output_type": "stream",
     "text": [
      "No. of .wav files in audio folder =  2000\n",
      "            filename  fold  target        category  esc10  src_file take\n",
      "0   1-100032-A-0.wav     1       0             dog   True    100032    A\n",
      "1  1-100038-A-14.wav     1      14  chirping_birds  False    100038    A\n",
      "2  1-100210-A-36.wav     1      36  vacuum_cleaner  False    100210    A\n",
      "3  1-100210-B-36.wav     1      36  vacuum_cleaner  False    100210    B\n",
      "4  1-101296-A-19.wav     1      19    thunderstorm  False    101296    A\n"
     ]
    },
    {
     "data": {
      "text/plain": [
       "(2000, 7)"
      ]
     },
     "execution_count": 4,
     "metadata": {},
     "output_type": "execute_result"
    }
   ],
   "source": [
    "\n",
    "audio_clips = os.listdir(audio_fpath)\n",
    "print(\"No. of .wav files in audio folder = \",len(audio_clips))\n",
    "df = pd.read_csv(label_csv, \n",
    "#                  usecols=['filename', 'target', 'category']\n",
    "#                  , index_col=['filename']\n",
    "                )\n",
    "\n",
    "print(df.head())\n",
    "df.shape"
   ]
  },
  {
   "cell_type": "code",
   "execution_count": 5,
   "id": "299bf721",
   "metadata": {
    "execution": {
     "iopub.execute_input": "2022-11-23T18:56:14.857063Z",
     "iopub.status.busy": "2022-11-23T18:56:14.855625Z",
     "iopub.status.idle": "2022-11-23T18:56:16.088708Z",
     "shell.execute_reply": "2022-11-23T18:56:16.086983Z"
    },
    "papermill": {
     "duration": 1.242221,
     "end_time": "2022-11-23T18:56:16.091857",
     "exception": false,
     "start_time": "2022-11-23T18:56:14.849636",
     "status": "completed"
    },
    "tags": []
   },
   "outputs": [
    {
     "name": "stdout",
     "output_type": "stream",
     "text": [
      "<class 'numpy.ndarray'> <class 'int'>\n",
      "(220500,) 44100\n"
     ]
    }
   ],
   "source": [
    "x, sr = librosa.load(audio_fpath+audio_clips[0], sr=44100)\n",
    "\n",
    "print(type(x), type(sr))\n",
    "print(x.shape, sr)"
   ]
  },
  {
   "cell_type": "code",
   "execution_count": 6,
   "id": "d61018bd",
   "metadata": {
    "execution": {
     "iopub.execute_input": "2022-11-23T18:56:16.106394Z",
     "iopub.status.busy": "2022-11-23T18:56:16.106026Z",
     "iopub.status.idle": "2022-11-23T18:56:16.147446Z",
     "shell.execute_reply": "2022-11-23T18:56:16.145767Z"
    },
    "papermill": {
     "duration": 0.051912,
     "end_time": "2022-11-23T18:56:16.150883",
     "exception": false,
     "start_time": "2022-11-23T18:56:16.098971",
     "status": "completed"
    },
    "tags": []
   },
   "outputs": [
    {
     "name": "stdout",
     "output_type": "stream",
     "text": [
      "(20, 431)\n"
     ]
    }
   ],
   "source": [
    "feature = librosa.feature.mfcc(y=x, sr = 44100)\n",
    "print(feature.shape)"
   ]
  },
  {
   "cell_type": "code",
   "execution_count": 7,
   "id": "670c366f",
   "metadata": {
    "execution": {
     "iopub.execute_input": "2022-11-23T18:56:16.180425Z",
     "iopub.status.busy": "2022-11-23T18:56:16.179906Z",
     "iopub.status.idle": "2022-11-23T19:25:41.861305Z",
     "shell.execute_reply": "2022-11-23T19:25:41.859958Z"
    },
    "papermill": {
     "duration": 1765.700544,
     "end_time": "2022-11-23T19:25:41.865574",
     "exception": false,
     "start_time": "2022-11-23T18:56:16.165030",
     "status": "completed"
    },
    "tags": []
   },
   "outputs": [
    {
     "name": "stderr",
     "output_type": "stream",
     "text": [
      "0it [00:00, ?it/s]/opt/conda/lib/python3.7/site-packages/ipykernel_launcher.py:22: FutureWarning: Pass rate=1.25 as keyword args. From version 0.10 passing these as positional arguments will result in an error\n",
      "/opt/conda/lib/python3.7/site-packages/ipykernel_launcher.py:22: FutureWarning: Pass rate=1.25 as keyword args. From version 0.10 passing these as positional arguments will result in an error\n",
      "2000it [29:25,  1.13it/s]\n",
      "/opt/conda/lib/python3.7/site-packages/ipykernel_launcher.py:17: VisibleDeprecationWarning: Creating an ndarray from ragged nested sequences (which is a list-or-tuple of lists-or-tuples-or ndarrays with different lengths or shapes) is deprecated. If you meant to do this, you must specify 'dtype=object' when creating the ndarray.\n",
      "  app.launch_new_instance()\n"
     ]
    },
    {
     "data": {
      "text/plain": [
       "(16000, 2)"
      ]
     },
     "execution_count": 7,
     "metadata": {},
     "output_type": "execute_result"
    }
   ],
   "source": [
    "aa = AudioAugmentation()\n",
    "extracted_data = []\n",
    "for index, row in tqdm(df.iterrows()):\n",
    "    file_name = os.path.join(os.path.abspath(audio_fpath),str(row[\"filename\"]))\n",
    "    class_labels = row['category']\n",
    "    y, sr = librosa.load(file_name, sr=44100)\n",
    "    for i in range(8):\n",
    "        if i == 1 or i >3:\n",
    "            data = aa.add_noise(y)\n",
    "        if i%3 == 2 or i == 7:\n",
    "            data = aa.shift(y)\n",
    "        if i%3 == 0 or i == 7:\n",
    "            data = aa.stretch(y, rate=1.25)\n",
    "        feature = librosa.feature.mfcc(y=data, sr=sr)\n",
    "        scaled_feature = np.mean(feature.T,axis=0)\n",
    "        extracted_data.append([scaled_feature, class_labels])\n",
    "np.array(extracted_data).shape"
   ]
  },
  {
   "cell_type": "code",
   "execution_count": 8,
   "id": "922b1e3b",
   "metadata": {
    "execution": {
     "iopub.execute_input": "2022-11-23T19:25:42.132737Z",
     "iopub.status.busy": "2022-11-23T19:25:42.131746Z",
     "iopub.status.idle": "2022-11-23T19:25:42.146617Z",
     "shell.execute_reply": "2022-11-23T19:25:42.145356Z"
    },
    "papermill": {
     "duration": 0.128292,
     "end_time": "2022-11-23T19:25:42.149235",
     "exception": false,
     "start_time": "2022-11-23T19:25:42.020943",
     "status": "completed"
    },
    "tags": []
   },
   "outputs": [
    {
     "name": "stdout",
     "output_type": "stream",
     "text": [
      "                                             feature class\n",
      "0  [-632.056, 6.9280477, -5.63157, -3.518161, -2....   dog\n",
      "1  [-344.3114372288344, -1.2214077543874142, -4.6...   dog\n",
      "2  [-580.6255, 8.185607, -6.650708, -4.2932887, -...   dog\n",
      "3  [-632.056, 6.9280477, -5.63157, -3.518161, -2....   dog\n",
      "4  [-344.21888820572485, -0.9060080861102093, -4....   dog\n"
     ]
    }
   ],
   "source": [
    "feature_df = pd.DataFrame(extracted_data, columns=['feature','class'])\n",
    "\n",
    "print(feature_df.head())"
   ]
  },
  {
   "cell_type": "code",
   "execution_count": 9,
   "id": "908f14da",
   "metadata": {
    "execution": {
     "iopub.execute_input": "2022-11-23T19:25:42.352539Z",
     "iopub.status.busy": "2022-11-23T19:25:42.351834Z",
     "iopub.status.idle": "2022-11-23T19:25:42.366493Z",
     "shell.execute_reply": "2022-11-23T19:25:42.365563Z"
    },
    "papermill": {
     "duration": 0.11875,
     "end_time": "2022-11-23T19:25:42.368670",
     "exception": false,
     "start_time": "2022-11-23T19:25:42.249920",
     "status": "completed"
    },
    "tags": []
   },
   "outputs": [
    {
     "data": {
      "text/plain": [
       "(16000, 20)"
      ]
     },
     "execution_count": 9,
     "metadata": {},
     "output_type": "execute_result"
    }
   ],
   "source": [
    "x = np.array(feature_df['feature'].tolist())\n",
    "\n",
    "x.shape"
   ]
  },
  {
   "cell_type": "code",
   "execution_count": 10,
   "id": "95da2521",
   "metadata": {
    "execution": {
     "iopub.execute_input": "2022-11-23T19:25:42.574071Z",
     "iopub.status.busy": "2022-11-23T19:25:42.573765Z",
     "iopub.status.idle": "2022-11-23T19:25:42.581173Z",
     "shell.execute_reply": "2022-11-23T19:25:42.580313Z"
    },
    "papermill": {
     "duration": 0.111831,
     "end_time": "2022-11-23T19:25:42.583339",
     "exception": false,
     "start_time": "2022-11-23T19:25:42.471508",
     "status": "completed"
    },
    "tags": []
   },
   "outputs": [],
   "source": [
    "target = np.array(feature_df['class'].tolist())"
   ]
  },
  {
   "cell_type": "code",
   "execution_count": 11,
   "id": "a54d2300",
   "metadata": {
    "execution": {
     "iopub.execute_input": "2022-11-23T19:25:42.824708Z",
     "iopub.status.busy": "2022-11-23T19:25:42.824370Z",
     "iopub.status.idle": "2022-11-23T19:25:42.878112Z",
     "shell.execute_reply": "2022-11-23T19:25:42.877113Z"
    },
    "papermill": {
     "duration": 0.196731,
     "end_time": "2022-11-23T19:25:42.880356",
     "exception": false,
     "start_time": "2022-11-23T19:25:42.683625",
     "status": "completed"
    },
    "tags": []
   },
   "outputs": [
    {
     "name": "stdout",
     "output_type": "stream",
     "text": [
      "(16000, 50)\n"
     ]
    },
    {
     "data": {
      "text/html": [
       "<div>\n",
       "<style scoped>\n",
       "    .dataframe tbody tr th:only-of-type {\n",
       "        vertical-align: middle;\n",
       "    }\n",
       "\n",
       "    .dataframe tbody tr th {\n",
       "        vertical-align: top;\n",
       "    }\n",
       "\n",
       "    .dataframe thead th {\n",
       "        text-align: right;\n",
       "    }\n",
       "</style>\n",
       "<table border=\"1\" class=\"dataframe\">\n",
       "  <thead>\n",
       "    <tr style=\"text-align: right;\">\n",
       "      <th></th>\n",
       "      <th>airplane</th>\n",
       "      <th>breathing</th>\n",
       "      <th>brushing_teeth</th>\n",
       "      <th>can_opening</th>\n",
       "      <th>car_horn</th>\n",
       "      <th>cat</th>\n",
       "      <th>chainsaw</th>\n",
       "      <th>chirping_birds</th>\n",
       "      <th>church_bells</th>\n",
       "      <th>clapping</th>\n",
       "      <th>...</th>\n",
       "      <th>siren</th>\n",
       "      <th>sneezing</th>\n",
       "      <th>snoring</th>\n",
       "      <th>thunderstorm</th>\n",
       "      <th>toilet_flush</th>\n",
       "      <th>train</th>\n",
       "      <th>vacuum_cleaner</th>\n",
       "      <th>washing_machine</th>\n",
       "      <th>water_drops</th>\n",
       "      <th>wind</th>\n",
       "    </tr>\n",
       "  </thead>\n",
       "  <tbody>\n",
       "    <tr>\n",
       "      <th>0</th>\n",
       "      <td>0</td>\n",
       "      <td>0</td>\n",
       "      <td>0</td>\n",
       "      <td>0</td>\n",
       "      <td>0</td>\n",
       "      <td>0</td>\n",
       "      <td>0</td>\n",
       "      <td>0</td>\n",
       "      <td>0</td>\n",
       "      <td>0</td>\n",
       "      <td>...</td>\n",
       "      <td>0</td>\n",
       "      <td>0</td>\n",
       "      <td>0</td>\n",
       "      <td>0</td>\n",
       "      <td>0</td>\n",
       "      <td>0</td>\n",
       "      <td>0</td>\n",
       "      <td>0</td>\n",
       "      <td>0</td>\n",
       "      <td>0</td>\n",
       "    </tr>\n",
       "    <tr>\n",
       "      <th>1</th>\n",
       "      <td>0</td>\n",
       "      <td>0</td>\n",
       "      <td>0</td>\n",
       "      <td>0</td>\n",
       "      <td>0</td>\n",
       "      <td>0</td>\n",
       "      <td>0</td>\n",
       "      <td>0</td>\n",
       "      <td>0</td>\n",
       "      <td>0</td>\n",
       "      <td>...</td>\n",
       "      <td>0</td>\n",
       "      <td>0</td>\n",
       "      <td>0</td>\n",
       "      <td>0</td>\n",
       "      <td>0</td>\n",
       "      <td>0</td>\n",
       "      <td>0</td>\n",
       "      <td>0</td>\n",
       "      <td>0</td>\n",
       "      <td>0</td>\n",
       "    </tr>\n",
       "    <tr>\n",
       "      <th>2</th>\n",
       "      <td>0</td>\n",
       "      <td>0</td>\n",
       "      <td>0</td>\n",
       "      <td>0</td>\n",
       "      <td>0</td>\n",
       "      <td>0</td>\n",
       "      <td>0</td>\n",
       "      <td>0</td>\n",
       "      <td>0</td>\n",
       "      <td>0</td>\n",
       "      <td>...</td>\n",
       "      <td>0</td>\n",
       "      <td>0</td>\n",
       "      <td>0</td>\n",
       "      <td>0</td>\n",
       "      <td>0</td>\n",
       "      <td>0</td>\n",
       "      <td>0</td>\n",
       "      <td>0</td>\n",
       "      <td>0</td>\n",
       "      <td>0</td>\n",
       "    </tr>\n",
       "    <tr>\n",
       "      <th>3</th>\n",
       "      <td>0</td>\n",
       "      <td>0</td>\n",
       "      <td>0</td>\n",
       "      <td>0</td>\n",
       "      <td>0</td>\n",
       "      <td>0</td>\n",
       "      <td>0</td>\n",
       "      <td>0</td>\n",
       "      <td>0</td>\n",
       "      <td>0</td>\n",
       "      <td>...</td>\n",
       "      <td>0</td>\n",
       "      <td>0</td>\n",
       "      <td>0</td>\n",
       "      <td>0</td>\n",
       "      <td>0</td>\n",
       "      <td>0</td>\n",
       "      <td>0</td>\n",
       "      <td>0</td>\n",
       "      <td>0</td>\n",
       "      <td>0</td>\n",
       "    </tr>\n",
       "    <tr>\n",
       "      <th>4</th>\n",
       "      <td>0</td>\n",
       "      <td>0</td>\n",
       "      <td>0</td>\n",
       "      <td>0</td>\n",
       "      <td>0</td>\n",
       "      <td>0</td>\n",
       "      <td>0</td>\n",
       "      <td>0</td>\n",
       "      <td>0</td>\n",
       "      <td>0</td>\n",
       "      <td>...</td>\n",
       "      <td>0</td>\n",
       "      <td>0</td>\n",
       "      <td>0</td>\n",
       "      <td>0</td>\n",
       "      <td>0</td>\n",
       "      <td>0</td>\n",
       "      <td>0</td>\n",
       "      <td>0</td>\n",
       "      <td>0</td>\n",
       "      <td>0</td>\n",
       "    </tr>\n",
       "  </tbody>\n",
       "</table>\n",
       "<p>5 rows × 50 columns</p>\n",
       "</div>"
      ],
      "text/plain": [
       "   airplane  breathing  brushing_teeth  can_opening  car_horn  cat  chainsaw  \\\n",
       "0         0          0               0            0         0    0         0   \n",
       "1         0          0               0            0         0    0         0   \n",
       "2         0          0               0            0         0    0         0   \n",
       "3         0          0               0            0         0    0         0   \n",
       "4         0          0               0            0         0    0         0   \n",
       "\n",
       "   chirping_birds  church_bells  clapping  ...  siren  sneezing  snoring  \\\n",
       "0               0             0         0  ...      0         0        0   \n",
       "1               0             0         0  ...      0         0        0   \n",
       "2               0             0         0  ...      0         0        0   \n",
       "3               0             0         0  ...      0         0        0   \n",
       "4               0             0         0  ...      0         0        0   \n",
       "\n",
       "   thunderstorm  toilet_flush  train  vacuum_cleaner  washing_machine  \\\n",
       "0             0             0      0               0                0   \n",
       "1             0             0      0               0                0   \n",
       "2             0             0      0               0                0   \n",
       "3             0             0      0               0                0   \n",
       "4             0             0      0               0                0   \n",
       "\n",
       "   water_drops  wind  \n",
       "0            0     0  \n",
       "1            0     0  \n",
       "2            0     0  \n",
       "3            0     0  \n",
       "4            0     0  \n",
       "\n",
       "[5 rows x 50 columns]"
      ]
     },
     "execution_count": 11,
     "metadata": {},
     "output_type": "execute_result"
    }
   ],
   "source": [
    "y_new = pd.get_dummies(target)\n",
    "print(y_new.shape)\n",
    "y_new.head()"
   ]
  },
  {
   "cell_type": "code",
   "execution_count": 12,
   "id": "806dec23",
   "metadata": {
    "execution": {
     "iopub.execute_input": "2022-11-23T19:25:43.090562Z",
     "iopub.status.busy": "2022-11-23T19:25:43.089566Z",
     "iopub.status.idle": "2022-11-23T19:25:43.106579Z",
     "shell.execute_reply": "2022-11-23T19:25:43.105513Z"
    },
    "papermill": {
     "duration": 0.123269,
     "end_time": "2022-11-23T19:25:43.108740",
     "exception": false,
     "start_time": "2022-11-23T19:25:42.985471",
     "status": "completed"
    },
    "tags": []
   },
   "outputs": [
    {
     "name": "stdout",
     "output_type": "stream",
     "text": [
      "(12800, 20), (3200, 20)\n"
     ]
    },
    {
     "data": {
      "text/plain": [
       "array([[[-2.56953125e+02,  1.75271988e+02,  1.08140059e+01, ...,\n",
       "          1.53361666e+00,  2.38381433e+00,  2.63143301e+00]],\n",
       "\n",
       "       [[-3.24316193e+02,  1.42650101e+02, -2.64048901e+01, ...,\n",
       "         -9.42429733e+00, -3.82170701e+00, -2.99110353e-01]],\n",
       "\n",
       "       [[-2.76818492e+02,  4.14031341e+01, -1.54109035e+00, ...,\n",
       "         -3.11843927e+00, -2.90833749e+00, -4.26182460e+00]],\n",
       "\n",
       "       ...,\n",
       "\n",
       "       [[-2.62841217e+02,  3.96252529e+01, -2.70781752e+01, ...,\n",
       "          1.12197840e+01,  1.48662740e+01,  9.92638984e+00]],\n",
       "\n",
       "       [[-4.10132599e+02,  7.92368927e+01,  2.64401722e+00, ...,\n",
       "         -8.99709165e-01,  3.35300016e+00,  7.97791386e+00]],\n",
       "\n",
       "       [[-6.11707520e+02,  7.95707092e+01,  1.47201419e+00, ...,\n",
       "          1.43796846e-01,  6.47247171e+00, -3.14024955e-01]]])"
      ]
     },
     "execution_count": 12,
     "metadata": {},
     "output_type": "execute_result"
    }
   ],
   "source": [
    "X_train, X_test, y_train, y_test = train_test_split(x, \n",
    "                                                    y_new, \n",
    "                                                    test_size=0.2, \n",
    "                                                    random_state=15)\n",
    "\n",
    "print(str(X_train.shape)+ ', ' + str(X_test.shape))\n",
    "inp = (1, 20)\n",
    "np.array(X_train).reshape(12800, 1, 20)"
   ]
  },
  {
   "cell_type": "code",
   "execution_count": 13,
   "id": "3f8e73b0",
   "metadata": {
    "execution": {
     "iopub.execute_input": "2022-11-23T19:25:43.318671Z",
     "iopub.status.busy": "2022-11-23T19:25:43.318367Z",
     "iopub.status.idle": "2022-11-23T19:25:43.326271Z",
     "shell.execute_reply": "2022-11-23T19:25:43.325198Z"
    },
    "papermill": {
     "duration": 0.114027,
     "end_time": "2022-11-23T19:25:43.328416",
     "exception": false,
     "start_time": "2022-11-23T19:25:43.214389",
     "status": "completed"
    },
    "tags": []
   },
   "outputs": [
    {
     "data": {
      "text/plain": [
       "array([[[-2.56953125e+02,  1.75271988e+02,  1.08140059e+01, ...,\n",
       "          1.53361666e+00,  2.38381433e+00,  2.63143301e+00]],\n",
       "\n",
       "       [[-3.24316193e+02,  1.42650101e+02, -2.64048901e+01, ...,\n",
       "         -9.42429733e+00, -3.82170701e+00, -2.99110353e-01]],\n",
       "\n",
       "       [[-2.76818492e+02,  4.14031341e+01, -1.54109035e+00, ...,\n",
       "         -3.11843927e+00, -2.90833749e+00, -4.26182460e+00]],\n",
       "\n",
       "       ...,\n",
       "\n",
       "       [[-2.62841217e+02,  3.96252529e+01, -2.70781752e+01, ...,\n",
       "          1.12197840e+01,  1.48662740e+01,  9.92638984e+00]],\n",
       "\n",
       "       [[-4.10132599e+02,  7.92368927e+01,  2.64401722e+00, ...,\n",
       "         -8.99709165e-01,  3.35300016e+00,  7.97791386e+00]],\n",
       "\n",
       "       [[-6.11707520e+02,  7.95707092e+01,  1.47201419e+00, ...,\n",
       "          1.43796846e-01,  6.47247171e+00, -3.14024955e-01]]])"
      ]
     },
     "execution_count": 13,
     "metadata": {},
     "output_type": "execute_result"
    }
   ],
   "source": [
    "np.array(X_train).reshape(12800,1,20)"
   ]
  },
  {
   "cell_type": "code",
   "execution_count": 14,
   "id": "cd7bac47",
   "metadata": {
    "execution": {
     "iopub.execute_input": "2022-11-23T19:25:43.534129Z",
     "iopub.status.busy": "2022-11-23T19:25:43.533484Z",
     "iopub.status.idle": "2022-11-23T19:25:51.616255Z",
     "shell.execute_reply": "2022-11-23T19:25:51.615287Z"
    },
    "papermill": {
     "duration": 8.186891,
     "end_time": "2022-11-23T19:25:51.618622",
     "exception": false,
     "start_time": "2022-11-23T19:25:43.431731",
     "status": "completed"
    },
    "tags": []
   },
   "outputs": [
    {
     "name": "stderr",
     "output_type": "stream",
     "text": [
      "2022-11-23 19:25:43.745040: I tensorflow/stream_executor/cuda/cuda_gpu_executor.cc:937] successful NUMA node read from SysFS had negative value (-1), but there must be at least one NUMA node, so returning NUMA node zero\n",
      "2022-11-23 19:25:43.745993: I tensorflow/stream_executor/cuda/cuda_gpu_executor.cc:937] successful NUMA node read from SysFS had negative value (-1), but there must be at least one NUMA node, so returning NUMA node zero\n",
      "2022-11-23 19:25:44.171441: I tensorflow/stream_executor/cuda/cuda_gpu_executor.cc:937] successful NUMA node read from SysFS had negative value (-1), but there must be at least one NUMA node, so returning NUMA node zero\n",
      "2022-11-23 19:25:44.172348: I tensorflow/stream_executor/cuda/cuda_gpu_executor.cc:937] successful NUMA node read from SysFS had negative value (-1), but there must be at least one NUMA node, so returning NUMA node zero\n",
      "2022-11-23 19:25:44.173175: I tensorflow/stream_executor/cuda/cuda_gpu_executor.cc:937] successful NUMA node read from SysFS had negative value (-1), but there must be at least one NUMA node, so returning NUMA node zero\n",
      "2022-11-23 19:25:44.173963: I tensorflow/stream_executor/cuda/cuda_gpu_executor.cc:937] successful NUMA node read from SysFS had negative value (-1), but there must be at least one NUMA node, so returning NUMA node zero\n",
      "2022-11-23 19:25:44.175621: I tensorflow/core/platform/cpu_feature_guard.cc:142] This TensorFlow binary is optimized with oneAPI Deep Neural Network Library (oneDNN) to use the following CPU instructions in performance-critical operations:  AVX2 AVX512F FMA\n",
      "To enable them in other operations, rebuild TensorFlow with the appropriate compiler flags.\n",
      "2022-11-23 19:25:44.427118: I tensorflow/stream_executor/cuda/cuda_gpu_executor.cc:937] successful NUMA node read from SysFS had negative value (-1), but there must be at least one NUMA node, so returning NUMA node zero\n",
      "2022-11-23 19:25:44.427986: I tensorflow/stream_executor/cuda/cuda_gpu_executor.cc:937] successful NUMA node read from SysFS had negative value (-1), but there must be at least one NUMA node, so returning NUMA node zero\n",
      "2022-11-23 19:25:44.428725: I tensorflow/stream_executor/cuda/cuda_gpu_executor.cc:937] successful NUMA node read from SysFS had negative value (-1), but there must be at least one NUMA node, so returning NUMA node zero\n",
      "2022-11-23 19:25:44.429436: I tensorflow/stream_executor/cuda/cuda_gpu_executor.cc:937] successful NUMA node read from SysFS had negative value (-1), but there must be at least one NUMA node, so returning NUMA node zero\n",
      "2022-11-23 19:25:44.430108: I tensorflow/stream_executor/cuda/cuda_gpu_executor.cc:937] successful NUMA node read from SysFS had negative value (-1), but there must be at least one NUMA node, so returning NUMA node zero\n",
      "2022-11-23 19:25:44.430853: I tensorflow/stream_executor/cuda/cuda_gpu_executor.cc:937] successful NUMA node read from SysFS had negative value (-1), but there must be at least one NUMA node, so returning NUMA node zero\n",
      "2022-11-23 19:25:48.765792: I tensorflow/stream_executor/cuda/cuda_gpu_executor.cc:937] successful NUMA node read from SysFS had negative value (-1), but there must be at least one NUMA node, so returning NUMA node zero\n",
      "2022-11-23 19:25:48.766700: I tensorflow/stream_executor/cuda/cuda_gpu_executor.cc:937] successful NUMA node read from SysFS had negative value (-1), but there must be at least one NUMA node, so returning NUMA node zero\n",
      "2022-11-23 19:25:48.767853: I tensorflow/stream_executor/cuda/cuda_gpu_executor.cc:937] successful NUMA node read from SysFS had negative value (-1), but there must be at least one NUMA node, so returning NUMA node zero\n",
      "2022-11-23 19:25:48.768590: I tensorflow/stream_executor/cuda/cuda_gpu_executor.cc:937] successful NUMA node read from SysFS had negative value (-1), but there must be at least one NUMA node, so returning NUMA node zero\n",
      "2022-11-23 19:25:48.769296: I tensorflow/stream_executor/cuda/cuda_gpu_executor.cc:937] successful NUMA node read from SysFS had negative value (-1), but there must be at least one NUMA node, so returning NUMA node zero\n",
      "2022-11-23 19:25:48.769963: I tensorflow/core/common_runtime/gpu/gpu_device.cc:1510] Created device /job:localhost/replica:0/task:0/device:GPU:0 with 13789 MB memory:  -> device: 0, name: Tesla T4, pci bus id: 0000:00:04.0, compute capability: 7.5\n",
      "2022-11-23 19:25:48.781236: I tensorflow/stream_executor/cuda/cuda_gpu_executor.cc:937] successful NUMA node read from SysFS had negative value (-1), but there must be at least one NUMA node, so returning NUMA node zero\n",
      "2022-11-23 19:25:48.781935: I tensorflow/core/common_runtime/gpu/gpu_device.cc:1510] Created device /job:localhost/replica:0/task:0/device:GPU:1 with 13789 MB memory:  -> device: 1, name: Tesla T4, pci bus id: 0000:00:05.0, compute capability: 7.5\n"
     ]
    },
    {
     "name": "stdout",
     "output_type": "stream",
     "text": [
      "Model: \"sequential\"\n",
      "_________________________________________________________________\n",
      "Layer (type)                 Output Shape              Param #   \n",
      "=================================================================\n",
      "bidirectional (Bidirectional (None, 1, 2048)           8560640   \n",
      "_________________________________________________________________\n",
      "flatten (Flatten)            (None, 2048)              0         \n",
      "_________________________________________________________________\n",
      "dense (Dense)                (None, 50)                102450    \n",
      "=================================================================\n",
      "Total params: 8,663,090\n",
      "Trainable params: 8,663,090\n",
      "Non-trainable params: 0\n",
      "_________________________________________________________________\n",
      "None\n"
     ]
    }
   ],
   "source": [
    "model = Sequential()\n",
    "#new_model.add(Embedding(2000, 256))\n",
    "model.add(Input(shape = (1,20)))\n",
    "model.add(Bidirectional(LSTM(1024, return_sequences = True, recurrent_dropout = 0.1)))\n",
    "\n",
    "# model.add(LSTM(256, return_sequences = True))\n",
    "# model.add(Flatten())\n",
    "# model.add(LSTM(256,dropout = 0.2, recurrent_dropout=0.2))\n",
    "model.add(Flatten())\n",
    "# model.add(BatchNormalization())\n",
    "# new_model.add(BatchNormalization())\n",
    "# new_model.add(Dense(256, activation='relu'))\n",
    "# new_model.add(Dropout(0.5))\n",
    "# new_model.add(BatchNormalization())\n",
    "# new_model.add(Dense(128, activation='relu'))\n",
    "# new_model.add(Dropout(0.5))\n",
    "# new_model.add(BatchNormalization())\n",
    "# new_model.add(Dense(64, activation='relu'))\n",
    "# new_model.add(Dropout(0.5))\n",
    "# new_model.add(Dense(128, activation='relu'))\n",
    "model.add(Dense(50, activation='softmax'))\n",
    "adam = tf.keras.optimizers.Adam(learning_rate=0.002)\n",
    "model.compile(loss = 'categorical_crossentropy',\n",
    "                  optimizer=adam,\n",
    "                  metrics=['accuracy', AUC()])\n",
    "print(model.summary())"
   ]
  },
  {
   "cell_type": "code",
   "execution_count": 15,
   "id": "66392d30",
   "metadata": {
    "execution": {
     "iopub.execute_input": "2022-11-23T19:25:51.823207Z",
     "iopub.status.busy": "2022-11-23T19:25:51.822898Z",
     "iopub.status.idle": "2022-11-23T19:29:46.335471Z",
     "shell.execute_reply": "2022-11-23T19:29:46.334437Z"
    },
    "papermill": {
     "duration": 234.617571,
     "end_time": "2022-11-23T19:29:46.337769",
     "exception": false,
     "start_time": "2022-11-23T19:25:51.720198",
     "status": "completed"
    },
    "tags": []
   },
   "outputs": [
    {
     "name": "stderr",
     "output_type": "stream",
     "text": [
      "2022-11-23 19:25:51.899597: I tensorflow/compiler/mlir/mlir_graph_optimization_pass.cc:185] None of the MLIR Optimization Passes are enabled (registered 2)\n"
     ]
    },
    {
     "name": "stdout",
     "output_type": "stream",
     "text": [
      "Epoch 1/500\n",
      "128/128 [==============================] - 6s 15ms/step - loss: 2.4901 - accuracy: 0.3120 - auc: 0.9020 - val_loss: 2.0545 - val_accuracy: 0.4266 - val_auc: 0.9342\n",
      "Epoch 2/500\n",
      "128/128 [==============================] - 1s 11ms/step - loss: 1.8154 - accuracy: 0.4777 - auc: 0.9535 - val_loss: 1.7121 - val_accuracy: 0.4931 - val_auc: 0.9582\n",
      "Epoch 3/500\n",
      "128/128 [==============================] - 1s 12ms/step - loss: 1.4878 - accuracy: 0.5684 - auc: 0.9689 - val_loss: 1.4419 - val_accuracy: 0.5803 - val_auc: 0.9700\n",
      "Epoch 4/500\n",
      "128/128 [==============================] - 1s 11ms/step - loss: 1.2263 - accuracy: 0.6530 - auc: 0.9793 - val_loss: 1.2460 - val_accuracy: 0.6375 - val_auc: 0.9773\n",
      "Epoch 5/500\n",
      "128/128 [==============================] - 2s 12ms/step - loss: 1.0329 - accuracy: 0.7069 - auc: 0.9859 - val_loss: 1.0759 - val_accuracy: 0.6891 - val_auc: 0.9811\n",
      "Epoch 6/500\n",
      "128/128 [==============================] - 1s 10ms/step - loss: 0.8972 - accuracy: 0.7535 - auc: 0.9890 - val_loss: 0.9931 - val_accuracy: 0.7059 - val_auc: 0.9858\n",
      "Epoch 7/500\n",
      "128/128 [==============================] - 1s 10ms/step - loss: 0.7662 - accuracy: 0.7902 - auc: 0.9923 - val_loss: 0.8512 - val_accuracy: 0.7519 - val_auc: 0.9885\n",
      "Epoch 8/500\n",
      "128/128 [==============================] - 1s 10ms/step - loss: 0.6590 - accuracy: 0.8234 - auc: 0.9943 - val_loss: 0.7694 - val_accuracy: 0.7831 - val_auc: 0.9916\n",
      "Epoch 9/500\n",
      "128/128 [==============================] - 1s 10ms/step - loss: 0.5699 - accuracy: 0.8516 - auc: 0.9956 - val_loss: 0.6611 - val_accuracy: 0.8175 - val_auc: 0.9951\n",
      "Epoch 10/500\n",
      "128/128 [==============================] - 2s 12ms/step - loss: 0.5117 - accuracy: 0.8670 - auc: 0.9965 - val_loss: 0.6030 - val_accuracy: 0.8294 - val_auc: 0.9951\n",
      "Epoch 11/500\n",
      "128/128 [==============================] - 1s 11ms/step - loss: 0.4387 - accuracy: 0.8880 - auc: 0.9975 - val_loss: 0.5081 - val_accuracy: 0.8609 - val_auc: 0.9955\n",
      "Epoch 12/500\n",
      "128/128 [==============================] - 1s 10ms/step - loss: 0.3882 - accuracy: 0.9031 - auc: 0.9980 - val_loss: 0.5000 - val_accuracy: 0.8603 - val_auc: 0.9961\n",
      "Epoch 13/500\n",
      "128/128 [==============================] - 1s 10ms/step - loss: 0.3519 - accuracy: 0.9135 - auc: 0.9984 - val_loss: 0.4451 - val_accuracy: 0.8859 - val_auc: 0.9966\n",
      "Epoch 14/500\n",
      "128/128 [==============================] - 1s 10ms/step - loss: 0.3212 - accuracy: 0.9205 - auc: 0.9985 - val_loss: 0.3849 - val_accuracy: 0.9000 - val_auc: 0.9979\n",
      "Epoch 15/500\n",
      "128/128 [==============================] - 1s 10ms/step - loss: 0.2904 - accuracy: 0.9302 - auc: 0.9986 - val_loss: 0.3705 - val_accuracy: 0.9044 - val_auc: 0.9981\n",
      "Epoch 16/500\n",
      "128/128 [==============================] - 1s 10ms/step - loss: 0.2709 - accuracy: 0.9331 - auc: 0.9988 - val_loss: 0.3342 - val_accuracy: 0.9106 - val_auc: 0.9981\n",
      "Epoch 17/500\n",
      "128/128 [==============================] - 1s 11ms/step - loss: 0.2635 - accuracy: 0.9329 - auc: 0.9989 - val_loss: 0.3281 - val_accuracy: 0.9194 - val_auc: 0.9985\n",
      "Epoch 18/500\n",
      "128/128 [==============================] - 2s 12ms/step - loss: 0.2259 - accuracy: 0.9460 - auc: 0.9991 - val_loss: 0.3256 - val_accuracy: 0.9112 - val_auc: 0.9985\n",
      "Epoch 19/500\n",
      "128/128 [==============================] - 1s 11ms/step - loss: 0.2069 - accuracy: 0.9489 - auc: 0.9993 - val_loss: 0.2941 - val_accuracy: 0.9241 - val_auc: 0.9988\n",
      "Epoch 20/500\n",
      "128/128 [==============================] - 1s 11ms/step - loss: 0.1922 - accuracy: 0.9538 - auc: 0.9994 - val_loss: 0.2573 - val_accuracy: 0.9350 - val_auc: 0.9987\n",
      "Epoch 21/500\n",
      "128/128 [==============================] - 1s 10ms/step - loss: 0.1842 - accuracy: 0.9555 - auc: 0.9996 - val_loss: 0.2414 - val_accuracy: 0.9356 - val_auc: 0.9991\n",
      "Epoch 22/500\n",
      "128/128 [==============================] - 1s 10ms/step - loss: 0.1763 - accuracy: 0.9552 - auc: 0.9994 - val_loss: 0.2570 - val_accuracy: 0.9334 - val_auc: 0.9989\n",
      "Epoch 23/500\n",
      "128/128 [==============================] - 1s 10ms/step - loss: 0.1761 - accuracy: 0.9547 - auc: 0.9996 - val_loss: 0.2356 - val_accuracy: 0.9384 - val_auc: 0.9989\n",
      "Epoch 24/500\n",
      "128/128 [==============================] - 1s 10ms/step - loss: 0.1495 - accuracy: 0.9643 - auc: 0.9998 - val_loss: 0.2534 - val_accuracy: 0.9303 - val_auc: 0.9987\n",
      "Epoch 25/500\n",
      "128/128 [==============================] - 1s 10ms/step - loss: 0.1585 - accuracy: 0.9617 - auc: 0.9996 - val_loss: 0.2501 - val_accuracy: 0.9344 - val_auc: 0.9992\n",
      "Epoch 26/500\n",
      "128/128 [==============================] - 1s 12ms/step - loss: 0.1479 - accuracy: 0.9623 - auc: 0.9997 - val_loss: 0.2344 - val_accuracy: 0.9347 - val_auc: 0.9993\n",
      "Epoch 27/500\n",
      "128/128 [==============================] - 2s 13ms/step - loss: 0.1377 - accuracy: 0.9673 - auc: 0.9997 - val_loss: 0.1932 - val_accuracy: 0.9522 - val_auc: 0.9993\n",
      "Epoch 28/500\n",
      "128/128 [==============================] - 1s 11ms/step - loss: 0.1257 - accuracy: 0.9691 - auc: 0.9998 - val_loss: 0.2487 - val_accuracy: 0.9297 - val_auc: 0.9980\n",
      "Epoch 29/500\n",
      "128/128 [==============================] - 1s 11ms/step - loss: 0.1343 - accuracy: 0.9655 - auc: 0.9997 - val_loss: 0.1740 - val_accuracy: 0.9550 - val_auc: 0.9997\n",
      "Epoch 30/500\n",
      "128/128 [==============================] - 1s 10ms/step - loss: 0.1252 - accuracy: 0.9689 - auc: 0.9997 - val_loss: 0.1954 - val_accuracy: 0.9456 - val_auc: 0.9992\n",
      "Epoch 31/500\n",
      "128/128 [==============================] - 1s 10ms/step - loss: 0.1091 - accuracy: 0.9750 - auc: 0.9999 - val_loss: 0.1547 - val_accuracy: 0.9581 - val_auc: 0.9993\n",
      "Epoch 32/500\n",
      "128/128 [==============================] - 1s 10ms/step - loss: 0.0986 - accuracy: 0.9769 - auc: 0.9998 - val_loss: 0.1794 - val_accuracy: 0.9472 - val_auc: 0.9990\n",
      "Epoch 33/500\n",
      "128/128 [==============================] - 1s 11ms/step - loss: 0.1270 - accuracy: 0.9673 - auc: 0.9997 - val_loss: 0.2248 - val_accuracy: 0.9312 - val_auc: 0.9989\n",
      "Epoch 34/500\n",
      "128/128 [==============================] - 2s 12ms/step - loss: 0.1248 - accuracy: 0.9695 - auc: 0.9997 - val_loss: 0.1962 - val_accuracy: 0.9472 - val_auc: 0.9990\n",
      "Epoch 35/500\n",
      "128/128 [==============================] - 1s 10ms/step - loss: 0.1843 - accuracy: 0.9522 - auc: 0.9995 - val_loss: 0.2737 - val_accuracy: 0.9234 - val_auc: 0.9979\n",
      "Epoch 36/500\n",
      "128/128 [==============================] - 1s 10ms/step - loss: 0.1652 - accuracy: 0.9566 - auc: 0.9997 - val_loss: 0.2093 - val_accuracy: 0.9481 - val_auc: 0.9985\n",
      "Epoch 37/500\n",
      "128/128 [==============================] - 1s 10ms/step - loss: 0.1220 - accuracy: 0.9694 - auc: 0.9998 - val_loss: 0.1939 - val_accuracy: 0.9559 - val_auc: 0.9982\n",
      "Epoch 38/500\n",
      "128/128 [==============================] - 1s 10ms/step - loss: 0.1030 - accuracy: 0.9739 - auc: 0.9998 - val_loss: 0.1650 - val_accuracy: 0.9578 - val_auc: 0.9985\n",
      "Epoch 39/500\n",
      "128/128 [==============================] - 1s 10ms/step - loss: 0.0825 - accuracy: 0.9792 - auc: 0.9999 - val_loss: 0.1360 - val_accuracy: 0.9650 - val_auc: 0.9989\n",
      "Epoch 40/500\n",
      "128/128 [==============================] - 1s 11ms/step - loss: 0.0883 - accuracy: 0.9780 - auc: 0.9998 - val_loss: 0.1465 - val_accuracy: 0.9591 - val_auc: 0.9995\n",
      "Epoch 41/500\n",
      "128/128 [==============================] - 1s 10ms/step - loss: 0.0862 - accuracy: 0.9765 - auc: 0.9999 - val_loss: 0.1675 - val_accuracy: 0.9594 - val_auc: 0.9984\n",
      "Epoch 42/500\n",
      "128/128 [==============================] - 2s 12ms/step - loss: 0.0751 - accuracy: 0.9827 - auc: 0.9999 - val_loss: 0.1376 - val_accuracy: 0.9634 - val_auc: 0.9987\n",
      "Epoch 43/500\n",
      "128/128 [==============================] - 1s 11ms/step - loss: 0.0664 - accuracy: 0.9837 - auc: 0.9999 - val_loss: 0.1343 - val_accuracy: 0.9659 - val_auc: 0.9990\n",
      "Epoch 44/500\n",
      "128/128 [==============================] - 1s 10ms/step - loss: 0.0577 - accuracy: 0.9861 - auc: 0.9999 - val_loss: 0.1273 - val_accuracy: 0.9634 - val_auc: 0.9990\n",
      "Epoch 45/500\n",
      "128/128 [==============================] - 1s 10ms/step - loss: 0.0588 - accuracy: 0.9864 - auc: 1.0000 - val_loss: 0.1220 - val_accuracy: 0.9700 - val_auc: 0.9983\n",
      "Epoch 46/500\n",
      "128/128 [==============================] - 1s 10ms/step - loss: 0.0787 - accuracy: 0.9784 - auc: 0.9999 - val_loss: 0.1580 - val_accuracy: 0.9594 - val_auc: 0.9988\n",
      "Epoch 47/500\n",
      "128/128 [==============================] - 1s 10ms/step - loss: 0.0902 - accuracy: 0.9789 - auc: 0.9999 - val_loss: 0.1760 - val_accuracy: 0.9534 - val_auc: 0.9980\n",
      "Epoch 48/500\n",
      "128/128 [==============================] - 1s 10ms/step - loss: 0.1056 - accuracy: 0.9728 - auc: 0.9998 - val_loss: 0.2154 - val_accuracy: 0.9434 - val_auc: 0.9970\n",
      "Epoch 49/500\n",
      "128/128 [==============================] - 1s 10ms/step - loss: 0.1449 - accuracy: 0.9624 - auc: 0.9997 - val_loss: 0.2304 - val_accuracy: 0.9331 - val_auc: 0.9976\n",
      "Epoch 50/500\n",
      "128/128 [==============================] - 2s 15ms/step - loss: 0.1322 - accuracy: 0.9641 - auc: 0.9997 - val_loss: 0.1871 - val_accuracy: 0.9422 - val_auc: 0.9990\n",
      "Epoch 51/500\n",
      "128/128 [==============================] - 1s 10ms/step - loss: 0.0758 - accuracy: 0.9826 - auc: 1.0000 - val_loss: 0.1428 - val_accuracy: 0.9622 - val_auc: 0.9990\n",
      "Epoch 52/500\n",
      "128/128 [==============================] - 1s 10ms/step - loss: 0.0645 - accuracy: 0.9842 - auc: 0.9999 - val_loss: 0.1624 - val_accuracy: 0.9534 - val_auc: 0.9980\n",
      "Epoch 53/500\n",
      "128/128 [==============================] - 1s 10ms/step - loss: 0.0581 - accuracy: 0.9862 - auc: 0.9999 - val_loss: 0.1154 - val_accuracy: 0.9684 - val_auc: 0.9985\n",
      "Epoch 54/500\n",
      "128/128 [==============================] - 1s 11ms/step - loss: 0.0497 - accuracy: 0.9887 - auc: 0.9999 - val_loss: 0.1131 - val_accuracy: 0.9678 - val_auc: 0.9981\n",
      "Epoch 55/500\n",
      "128/128 [==============================] - 1s 11ms/step - loss: 0.0519 - accuracy: 0.9871 - auc: 0.9999 - val_loss: 0.1096 - val_accuracy: 0.9706 - val_auc: 0.9983\n",
      "Epoch 56/500\n",
      "128/128 [==============================] - 1s 10ms/step - loss: 0.0466 - accuracy: 0.9891 - auc: 0.9999 - val_loss: 0.1138 - val_accuracy: 0.9737 - val_auc: 0.9981\n",
      "Epoch 57/500\n",
      "128/128 [==============================] - 1s 10ms/step - loss: 0.0454 - accuracy: 0.9887 - auc: 0.9999 - val_loss: 0.1480 - val_accuracy: 0.9594 - val_auc: 0.9979\n",
      "Epoch 58/500\n",
      "128/128 [==============================] - 1s 12ms/step - loss: 0.0604 - accuracy: 0.9850 - auc: 0.9999 - val_loss: 0.1396 - val_accuracy: 0.9659 - val_auc: 0.9982\n",
      "Epoch 59/500\n",
      "128/128 [==============================] - 1s 10ms/step - loss: 0.0695 - accuracy: 0.9820 - auc: 0.9999 - val_loss: 0.1699 - val_accuracy: 0.9513 - val_auc: 0.9985\n",
      "Epoch 60/500\n",
      "128/128 [==============================] - 1s 11ms/step - loss: 0.0949 - accuracy: 0.9741 - auc: 0.9999 - val_loss: 0.1940 - val_accuracy: 0.9438 - val_auc: 0.9981\n",
      "Epoch 61/500\n",
      "128/128 [==============================] - 1s 11ms/step - loss: 0.1567 - accuracy: 0.9522 - auc: 0.9995 - val_loss: 0.3302 - val_accuracy: 0.8966 - val_auc: 0.9969\n",
      "Epoch 62/500\n",
      "128/128 [==============================] - 1s 11ms/step - loss: 0.1333 - accuracy: 0.9611 - auc: 0.9997 - val_loss: 0.1528 - val_accuracy: 0.9603 - val_auc: 0.9982\n",
      "Epoch 63/500\n",
      "128/128 [==============================] - 1s 10ms/step - loss: 0.0541 - accuracy: 0.9882 - auc: 0.9999 - val_loss: 0.1109 - val_accuracy: 0.9709 - val_auc: 0.9988\n",
      "Epoch 64/500\n",
      "128/128 [==============================] - 1s 10ms/step - loss: 0.0435 - accuracy: 0.9887 - auc: 1.0000 - val_loss: 0.1116 - val_accuracy: 0.9706 - val_auc: 0.9985\n",
      "Epoch 65/500\n",
      "128/128 [==============================] - 1s 10ms/step - loss: 0.0435 - accuracy: 0.9895 - auc: 0.9999 - val_loss: 0.1078 - val_accuracy: 0.9753 - val_auc: 0.9982\n",
      "Epoch 66/500\n",
      "128/128 [==============================] - 1s 12ms/step - loss: 0.0458 - accuracy: 0.9885 - auc: 0.9998 - val_loss: 0.1205 - val_accuracy: 0.9697 - val_auc: 0.9983\n",
      "Epoch 67/500\n",
      "128/128 [==============================] - 1s 10ms/step - loss: 0.0340 - accuracy: 0.9923 - auc: 1.0000 - val_loss: 0.1095 - val_accuracy: 0.9697 - val_auc: 0.9982\n",
      "Epoch 68/500\n",
      "128/128 [==============================] - 1s 10ms/step - loss: 0.0356 - accuracy: 0.9921 - auc: 1.0000 - val_loss: 0.1088 - val_accuracy: 0.9656 - val_auc: 0.9983\n",
      "Epoch 69/500\n",
      "128/128 [==============================] - 1s 10ms/step - loss: 0.0337 - accuracy: 0.9927 - auc: 1.0000 - val_loss: 0.0957 - val_accuracy: 0.9753 - val_auc: 0.9983\n",
      "Epoch 70/500\n",
      "128/128 [==============================] - 1s 10ms/step - loss: 0.0350 - accuracy: 0.9916 - auc: 0.9999 - val_loss: 0.1419 - val_accuracy: 0.9572 - val_auc: 0.9986\n",
      "Epoch 71/500\n",
      "128/128 [==============================] - 1s 10ms/step - loss: 0.0447 - accuracy: 0.9887 - auc: 0.9999 - val_loss: 0.1133 - val_accuracy: 0.9675 - val_auc: 0.9986\n",
      "Epoch 72/500\n",
      "128/128 [==============================] - 2s 12ms/step - loss: 0.0541 - accuracy: 0.9863 - auc: 1.0000 - val_loss: 0.1322 - val_accuracy: 0.9613 - val_auc: 0.9989\n",
      "Epoch 73/500\n",
      "128/128 [==============================] - 1s 11ms/step - loss: 0.0785 - accuracy: 0.9802 - auc: 1.0000 - val_loss: 0.1777 - val_accuracy: 0.9488 - val_auc: 0.9972\n",
      "Epoch 74/500\n",
      "128/128 [==============================] - 1s 12ms/step - loss: 0.0979 - accuracy: 0.9736 - auc: 0.9998 - val_loss: 0.1930 - val_accuracy: 0.9466 - val_auc: 0.9974\n",
      "Epoch 75/500\n",
      "128/128 [==============================] - 1s 10ms/step - loss: 0.1016 - accuracy: 0.9737 - auc: 0.9999 - val_loss: 0.1845 - val_accuracy: 0.9463 - val_auc: 0.9973\n",
      "Epoch 76/500\n",
      "128/128 [==============================] - 1s 10ms/step - loss: 0.0722 - accuracy: 0.9820 - auc: 0.9998 - val_loss: 0.1439 - val_accuracy: 0.9597 - val_auc: 0.9985\n",
      "Epoch 77/500\n",
      "128/128 [==============================] - 1s 11ms/step - loss: 0.0466 - accuracy: 0.9884 - auc: 1.0000 - val_loss: 0.1174 - val_accuracy: 0.9700 - val_auc: 0.9974\n",
      "Epoch 78/500\n",
      "128/128 [==============================] - 1s 11ms/step - loss: 0.0388 - accuracy: 0.9891 - auc: 1.0000 - val_loss: 0.1181 - val_accuracy: 0.9650 - val_auc: 0.9988\n",
      "Epoch 79/500\n",
      "128/128 [==============================] - 1s 10ms/step - loss: 0.0373 - accuracy: 0.9912 - auc: 0.9999 - val_loss: 0.1133 - val_accuracy: 0.9700 - val_auc: 0.9982\n",
      "Epoch 80/500\n",
      "128/128 [==============================] - 1s 10ms/step - loss: 0.0275 - accuracy: 0.9934 - auc: 1.0000 - val_loss: 0.0965 - val_accuracy: 0.9762 - val_auc: 0.9980\n",
      "Epoch 81/500\n",
      "128/128 [==============================] - 1s 10ms/step - loss: 0.0247 - accuracy: 0.9943 - auc: 1.0000 - val_loss: 0.0883 - val_accuracy: 0.9781 - val_auc: 0.9980\n",
      "Epoch 82/500\n",
      "128/128 [==============================] - 1s 12ms/step - loss: 0.0285 - accuracy: 0.9926 - auc: 0.9998 - val_loss: 0.1160 - val_accuracy: 0.9675 - val_auc: 0.9981\n",
      "Epoch 83/500\n",
      "128/128 [==============================] - 1s 10ms/step - loss: 0.0370 - accuracy: 0.9912 - auc: 1.0000 - val_loss: 0.1484 - val_accuracy: 0.9575 - val_auc: 0.9972\n",
      "Epoch 84/500\n",
      "128/128 [==============================] - 1s 11ms/step - loss: 0.0651 - accuracy: 0.9821 - auc: 0.9999 - val_loss: 0.1978 - val_accuracy: 0.9425 - val_auc: 0.9979\n",
      "Epoch 85/500\n",
      "128/128 [==============================] - 1s 11ms/step - loss: 0.1416 - accuracy: 0.9562 - auc: 0.9994 - val_loss: 0.2320 - val_accuracy: 0.9319 - val_auc: 0.9974\n",
      "Epoch 86/500\n",
      "128/128 [==============================] - 1s 10ms/step - loss: 0.1192 - accuracy: 0.9645 - auc: 0.9998 - val_loss: 0.1510 - val_accuracy: 0.9563 - val_auc: 0.9990\n",
      "Epoch 87/500\n",
      "128/128 [==============================] - 1s 10ms/step - loss: 0.0474 - accuracy: 0.9898 - auc: 1.0000 - val_loss: 0.0963 - val_accuracy: 0.9744 - val_auc: 0.9982\n",
      "Epoch 88/500\n",
      "128/128 [==============================] - 1s 10ms/step - loss: 0.0240 - accuracy: 0.9951 - auc: 1.0000 - val_loss: 0.1002 - val_accuracy: 0.9712 - val_auc: 0.9982\n",
      "Epoch 89/500\n",
      "128/128 [==============================] - 1s 11ms/step - loss: 0.0301 - accuracy: 0.9923 - auc: 0.9999 - val_loss: 0.0943 - val_accuracy: 0.9744 - val_auc: 0.9976\n",
      "Epoch 90/500\n",
      "128/128 [==============================] - 2s 12ms/step - loss: 0.0289 - accuracy: 0.9927 - auc: 1.0000 - val_loss: 0.1067 - val_accuracy: 0.9734 - val_auc: 0.9975\n",
      "Epoch 91/500\n",
      "128/128 [==============================] - 1s 10ms/step - loss: 0.0379 - accuracy: 0.9902 - auc: 0.9999 - val_loss: 0.1355 - val_accuracy: 0.9638 - val_auc: 0.9973\n",
      "Epoch 92/500\n",
      "128/128 [==============================] - 1s 10ms/step - loss: 0.0300 - accuracy: 0.9925 - auc: 1.0000 - val_loss: 0.1067 - val_accuracy: 0.9737 - val_auc: 0.9975\n",
      "Epoch 93/500\n",
      "128/128 [==============================] - 1s 11ms/step - loss: 0.0251 - accuracy: 0.9951 - auc: 1.0000 - val_loss: 0.1010 - val_accuracy: 0.9791 - val_auc: 0.9972\n",
      "Epoch 94/500\n",
      "128/128 [==============================] - 1s 10ms/step - loss: 0.0232 - accuracy: 0.9945 - auc: 1.0000 - val_loss: 0.1088 - val_accuracy: 0.9731 - val_auc: 0.9980\n",
      "Epoch 95/500\n",
      "128/128 [==============================] - 2s 13ms/step - loss: 0.0233 - accuracy: 0.9948 - auc: 1.0000 - val_loss: 0.0962 - val_accuracy: 0.9775 - val_auc: 0.9979\n",
      "Epoch 96/500\n",
      "128/128 [==============================] - 1s 11ms/step - loss: 0.0237 - accuracy: 0.9952 - auc: 1.0000 - val_loss: 0.1024 - val_accuracy: 0.9719 - val_auc: 0.9977\n",
      "Epoch 97/500\n",
      "128/128 [==============================] - 1s 11ms/step - loss: 0.0390 - accuracy: 0.9898 - auc: 0.9999 - val_loss: 0.1470 - val_accuracy: 0.9619 - val_auc: 0.9965\n",
      "Epoch 98/500\n",
      "128/128 [==============================] - 1s 11ms/step - loss: 0.0785 - accuracy: 0.9776 - auc: 0.9998 - val_loss: 0.2469 - val_accuracy: 0.9250 - val_auc: 0.9970\n",
      "Epoch 99/500\n",
      "128/128 [==============================] - 1s 11ms/step - loss: 0.1869 - accuracy: 0.9395 - auc: 0.9990 - val_loss: 0.3513 - val_accuracy: 0.8859 - val_auc: 0.9955\n",
      "Epoch 100/500\n",
      "128/128 [==============================] - 1s 11ms/step - loss: 0.1219 - accuracy: 0.9632 - auc: 0.9996 - val_loss: 0.1622 - val_accuracy: 0.9584 - val_auc: 0.9969\n",
      "Epoch 101/500\n",
      "128/128 [==============================] - 1s 10ms/step - loss: 0.0493 - accuracy: 0.9888 - auc: 0.9999 - val_loss: 0.1108 - val_accuracy: 0.9722 - val_auc: 0.9975\n",
      "Epoch 102/500\n",
      "128/128 [==============================] - 1s 10ms/step - loss: 0.0271 - accuracy: 0.9941 - auc: 1.0000 - val_loss: 0.1028 - val_accuracy: 0.9762 - val_auc: 0.9977\n",
      "Epoch 103/500\n",
      "128/128 [==============================] - 1s 10ms/step - loss: 0.0229 - accuracy: 0.9943 - auc: 0.9999 - val_loss: 0.1017 - val_accuracy: 0.9747 - val_auc: 0.9976\n",
      "Epoch 104/500\n",
      "128/128 [==============================] - 1s 11ms/step - loss: 0.0243 - accuracy: 0.9945 - auc: 1.0000 - val_loss: 0.1040 - val_accuracy: 0.9737 - val_auc: 0.9976\n",
      "Epoch 105/500\n",
      "128/128 [==============================] - 1s 11ms/step - loss: 0.0203 - accuracy: 0.9950 - auc: 1.0000 - val_loss: 0.0983 - val_accuracy: 0.9731 - val_auc: 0.9976\n",
      "Epoch 106/500\n",
      "128/128 [==============================] - 2s 12ms/step - loss: 0.0203 - accuracy: 0.9945 - auc: 1.0000 - val_loss: 0.1013 - val_accuracy: 0.9734 - val_auc: 0.9976\n",
      "Epoch 107/500\n",
      "128/128 [==============================] - 1s 10ms/step - loss: 0.0217 - accuracy: 0.9947 - auc: 1.0000 - val_loss: 0.1007 - val_accuracy: 0.9800 - val_auc: 0.9971\n",
      "Epoch 108/500\n",
      "128/128 [==============================] - 1s 10ms/step - loss: 0.0274 - accuracy: 0.9926 - auc: 1.0000 - val_loss: 0.1516 - val_accuracy: 0.9606 - val_auc: 0.9967\n",
      "Epoch 109/500\n",
      "128/128 [==============================] - 1s 10ms/step - loss: 0.0524 - accuracy: 0.9858 - auc: 1.0000 - val_loss: 0.1496 - val_accuracy: 0.9600 - val_auc: 0.9970\n",
      "Epoch 110/500\n",
      "128/128 [==============================] - 1s 10ms/step - loss: 0.0394 - accuracy: 0.9897 - auc: 1.0000 - val_loss: 0.1238 - val_accuracy: 0.9659 - val_auc: 0.9980\n",
      "Epoch 111/500\n",
      "128/128 [==============================] - 1s 10ms/step - loss: 0.0513 - accuracy: 0.9859 - auc: 0.9999 - val_loss: 0.1724 - val_accuracy: 0.9469 - val_auc: 0.9971\n",
      "Epoch 112/500\n",
      "128/128 [==============================] - 1s 10ms/step - loss: 0.0576 - accuracy: 0.9842 - auc: 0.9999 - val_loss: 0.1468 - val_accuracy: 0.9663 - val_auc: 0.9956\n",
      "Epoch 113/500\n",
      "128/128 [==============================] - 1s 11ms/step - loss: 0.0298 - accuracy: 0.9929 - auc: 1.0000 - val_loss: 0.1126 - val_accuracy: 0.9709 - val_auc: 0.9977\n",
      "Epoch 114/500\n",
      "128/128 [==============================] - 1s 11ms/step - loss: 0.0322 - accuracy: 0.9925 - auc: 0.9999 - val_loss: 0.1308 - val_accuracy: 0.9706 - val_auc: 0.9964\n",
      "Epoch 115/500\n",
      "128/128 [==============================] - 1s 10ms/step - loss: 0.0215 - accuracy: 0.9953 - auc: 0.9999 - val_loss: 0.0985 - val_accuracy: 0.9800 - val_auc: 0.9976\n",
      "Epoch 116/500\n",
      "128/128 [==============================] - 1s 11ms/step - loss: 0.0277 - accuracy: 0.9924 - auc: 1.0000 - val_loss: 0.1234 - val_accuracy: 0.9675 - val_auc: 0.9971\n",
      "Epoch 117/500\n",
      "128/128 [==============================] - 1s 11ms/step - loss: 0.0358 - accuracy: 0.9905 - auc: 0.9999 - val_loss: 0.1245 - val_accuracy: 0.9728 - val_auc: 0.9970\n",
      "Epoch 118/500\n",
      "128/128 [==============================] - 2s 12ms/step - loss: 0.0321 - accuracy: 0.9923 - auc: 1.0000 - val_loss: 0.1318 - val_accuracy: 0.9678 - val_auc: 0.9966\n",
      "Epoch 119/500\n",
      "128/128 [==============================] - 1s 11ms/step - loss: 0.0202 - accuracy: 0.9957 - auc: 1.0000 - val_loss: 0.0989 - val_accuracy: 0.9744 - val_auc: 0.9976\n",
      "Epoch 120/500\n",
      "128/128 [==============================] - 1s 11ms/step - loss: 0.0192 - accuracy: 0.9954 - auc: 1.0000 - val_loss: 0.1003 - val_accuracy: 0.9753 - val_auc: 0.9983\n",
      "Epoch 121/500\n",
      "128/128 [==============================] - 2s 12ms/step - loss: 0.0270 - accuracy: 0.9935 - auc: 1.0000 - val_loss: 0.1239 - val_accuracy: 0.9703 - val_auc: 0.9969\n",
      "Epoch 122/500\n",
      "128/128 [==============================] - 1s 11ms/step - loss: 0.0291 - accuracy: 0.9939 - auc: 1.0000 - val_loss: 0.1318 - val_accuracy: 0.9703 - val_auc: 0.9967\n",
      "Epoch 123/500\n",
      "128/128 [==============================] - 1s 11ms/step - loss: 0.0810 - accuracy: 0.9737 - auc: 0.9997 - val_loss: 0.3601 - val_accuracy: 0.8928 - val_auc: 0.9934\n",
      "Epoch 124/500\n",
      "128/128 [==============================] - 1s 10ms/step - loss: 0.2104 - accuracy: 0.9273 - auc: 0.9985 - val_loss: 0.2134 - val_accuracy: 0.9337 - val_auc: 0.9971\n",
      "Epoch 125/500\n",
      "128/128 [==============================] - 1s 10ms/step - loss: 0.0755 - accuracy: 0.9784 - auc: 0.9998 - val_loss: 0.1271 - val_accuracy: 0.9628 - val_auc: 0.9980\n",
      "Epoch 126/500\n",
      "128/128 [==============================] - 1s 11ms/step - loss: 0.0294 - accuracy: 0.9937 - auc: 0.9999 - val_loss: 0.1018 - val_accuracy: 0.9734 - val_auc: 0.9979\n",
      "Epoch 127/500\n",
      "128/128 [==============================] - 1s 10ms/step - loss: 0.0147 - accuracy: 0.9973 - auc: 1.0000 - val_loss: 0.0828 - val_accuracy: 0.9809 - val_auc: 0.9985\n",
      "Epoch 128/500\n",
      "128/128 [==============================] - 1s 11ms/step - loss: 0.0134 - accuracy: 0.9965 - auc: 1.0000 - val_loss: 0.0799 - val_accuracy: 0.9781 - val_auc: 0.9984\n",
      "Epoch 129/500\n",
      "128/128 [==============================] - 2s 12ms/step - loss: 0.0112 - accuracy: 0.9977 - auc: 1.0000 - val_loss: 0.0832 - val_accuracy: 0.9794 - val_auc: 0.9981\n",
      "Epoch 130/500\n",
      "128/128 [==============================] - 1s 10ms/step - loss: 0.0138 - accuracy: 0.9965 - auc: 1.0000 - val_loss: 0.0845 - val_accuracy: 0.9775 - val_auc: 0.9984\n",
      "Epoch 131/500\n",
      "128/128 [==============================] - 1s 10ms/step - loss: 0.0306 - accuracy: 0.9917 - auc: 0.9999 - val_loss: 0.1156 - val_accuracy: 0.9725 - val_auc: 0.9978\n",
      "Epoch 132/500\n",
      "128/128 [==============================] - 1s 10ms/step - loss: 0.0321 - accuracy: 0.9919 - auc: 0.9999 - val_loss: 0.0955 - val_accuracy: 0.9769 - val_auc: 0.9973\n",
      "Epoch 133/500\n",
      "128/128 [==============================] - 1s 10ms/step - loss: 0.0157 - accuracy: 0.9970 - auc: 1.0000 - val_loss: 0.1067 - val_accuracy: 0.9769 - val_auc: 0.9971\n",
      "Epoch 134/500\n",
      "128/128 [==============================] - 1s 11ms/step - loss: 0.0160 - accuracy: 0.9962 - auc: 1.0000 - val_loss: 0.0913 - val_accuracy: 0.9759 - val_auc: 0.9974\n",
      "Epoch 135/500\n",
      "128/128 [==============================] - 1s 10ms/step - loss: 0.0172 - accuracy: 0.9958 - auc: 1.0000 - val_loss: 0.0936 - val_accuracy: 0.9819 - val_auc: 0.9968\n",
      "Epoch 136/500\n",
      "128/128 [==============================] - 1s 10ms/step - loss: 0.0170 - accuracy: 0.9959 - auc: 1.0000 - val_loss: 0.0885 - val_accuracy: 0.9825 - val_auc: 0.9974\n",
      "Epoch 137/500\n",
      "128/128 [==============================] - 1s 12ms/step - loss: 0.0094 - accuracy: 0.9987 - auc: 1.0000 - val_loss: 0.0888 - val_accuracy: 0.9772 - val_auc: 0.9978\n",
      "Epoch 138/500\n",
      "128/128 [==============================] - 1s 10ms/step - loss: 0.0099 - accuracy: 0.9980 - auc: 1.0000 - val_loss: 0.1161 - val_accuracy: 0.9697 - val_auc: 0.9972\n",
      "Epoch 139/500\n",
      "128/128 [==============================] - 1s 10ms/step - loss: 0.0226 - accuracy: 0.9949 - auc: 1.0000 - val_loss: 0.1029 - val_accuracy: 0.9762 - val_auc: 0.9974\n",
      "Epoch 140/500\n",
      "128/128 [==============================] - 2s 13ms/step - loss: 0.0940 - accuracy: 0.9714 - auc: 0.9996 - val_loss: 0.3457 - val_accuracy: 0.8894 - val_auc: 0.9941\n",
      "Epoch 141/500\n",
      "128/128 [==============================] - 1s 11ms/step - loss: 0.2641 - accuracy: 0.9125 - auc: 0.9975 - val_loss: 0.2688 - val_accuracy: 0.9131 - val_auc: 0.9965\n",
      "Epoch 142/500\n",
      "128/128 [==============================] - 1s 10ms/step - loss: 0.0886 - accuracy: 0.9735 - auc: 0.9998 - val_loss: 0.1406 - val_accuracy: 0.9597 - val_auc: 0.9982\n",
      "Epoch 143/500\n",
      "128/128 [==============================] - 1s 11ms/step - loss: 0.0320 - accuracy: 0.9930 - auc: 1.0000 - val_loss: 0.1255 - val_accuracy: 0.9638 - val_auc: 0.9972\n",
      "Epoch 144/500\n",
      "128/128 [==============================] - 1s 10ms/step - loss: 0.0196 - accuracy: 0.9953 - auc: 1.0000 - val_loss: 0.0884 - val_accuracy: 0.9775 - val_auc: 0.9979\n",
      "Epoch 145/500\n",
      "128/128 [==============================] - 1s 12ms/step - loss: 0.0114 - accuracy: 0.9979 - auc: 1.0000 - val_loss: 0.0850 - val_accuracy: 0.9787 - val_auc: 0.9982\n",
      "Epoch 146/500\n",
      "128/128 [==============================] - 1s 10ms/step - loss: 0.0089 - accuracy: 0.9984 - auc: 1.0000 - val_loss: 0.0829 - val_accuracy: 0.9769 - val_auc: 0.9978\n",
      "Epoch 147/500\n",
      "128/128 [==============================] - 1s 10ms/step - loss: 0.0104 - accuracy: 0.9979 - auc: 1.0000 - val_loss: 0.1046 - val_accuracy: 0.9719 - val_auc: 0.9974\n",
      "Epoch 148/500\n",
      "128/128 [==============================] - 1s 10ms/step - loss: 0.0102 - accuracy: 0.9982 - auc: 1.0000 - val_loss: 0.0860 - val_accuracy: 0.9769 - val_auc: 0.9974\n",
      "Epoch 149/500\n",
      "128/128 [==============================] - 1s 10ms/step - loss: 0.0143 - accuracy: 0.9965 - auc: 1.0000 - val_loss: 0.0978 - val_accuracy: 0.9741 - val_auc: 0.9977\n",
      "Epoch 150/500\n",
      "128/128 [==============================] - 1s 11ms/step - loss: 0.0166 - accuracy: 0.9962 - auc: 1.0000 - val_loss: 0.1043 - val_accuracy: 0.9734 - val_auc: 0.9973\n",
      "Epoch 151/500\n",
      "128/128 [==============================] - 1s 10ms/step - loss: 0.0290 - accuracy: 0.9925 - auc: 1.0000 - val_loss: 0.1281 - val_accuracy: 0.9700 - val_auc: 0.9974\n",
      "Epoch 152/500\n",
      "128/128 [==============================] - 1s 10ms/step - loss: 0.0473 - accuracy: 0.9873 - auc: 0.9998 - val_loss: 0.1591 - val_accuracy: 0.9463 - val_auc: 0.9985\n",
      "Epoch 153/500\n",
      "128/128 [==============================] - 1s 12ms/step - loss: 0.1072 - accuracy: 0.9661 - auc: 0.9996 - val_loss: 0.2249 - val_accuracy: 0.9300 - val_auc: 0.9963\n",
      "Epoch 154/500\n",
      "128/128 [==============================] - 1s 10ms/step - loss: 0.0874 - accuracy: 0.9734 - auc: 0.9998 - val_loss: 0.1461 - val_accuracy: 0.9588 - val_auc: 0.9979\n",
      "Epoch 155/500\n",
      "128/128 [==============================] - 1s 10ms/step - loss: 0.0413 - accuracy: 0.9884 - auc: 0.9999 - val_loss: 0.1095 - val_accuracy: 0.9697 - val_auc: 0.9982\n",
      "Epoch 156/500\n",
      "128/128 [==============================] - 1s 10ms/step - loss: 0.0203 - accuracy: 0.9952 - auc: 1.0000 - val_loss: 0.0969 - val_accuracy: 0.9744 - val_auc: 0.9982\n",
      "Epoch 157/500\n",
      "128/128 [==============================] - 1s 10ms/step - loss: 0.0186 - accuracy: 0.9958 - auc: 1.0000 - val_loss: 0.0893 - val_accuracy: 0.9784 - val_auc: 0.9981\n",
      "Epoch 158/500\n",
      "128/128 [==============================] - 1s 10ms/step - loss: 0.0093 - accuracy: 0.9987 - auc: 1.0000 - val_loss: 0.0796 - val_accuracy: 0.9787 - val_auc: 0.9981\n",
      "Epoch 159/500\n",
      "128/128 [==============================] - 1s 10ms/step - loss: 0.0070 - accuracy: 0.9987 - auc: 1.0000 - val_loss: 0.0923 - val_accuracy: 0.9694 - val_auc: 0.9980\n",
      "Epoch 160/500\n",
      "128/128 [==============================] - 1s 10ms/step - loss: 0.0096 - accuracy: 0.9979 - auc: 1.0000 - val_loss: 0.0766 - val_accuracy: 0.9794 - val_auc: 0.9981\n",
      "Epoch 161/500\n",
      "128/128 [==============================] - 1s 11ms/step - loss: 0.0142 - accuracy: 0.9963 - auc: 1.0000 - val_loss: 0.0930 - val_accuracy: 0.9697 - val_auc: 0.9982\n",
      "Epoch 162/500\n",
      "128/128 [==============================] - 1s 11ms/step - loss: 0.0158 - accuracy: 0.9959 - auc: 1.0000 - val_loss: 0.0999 - val_accuracy: 0.9731 - val_auc: 0.9971\n",
      "Epoch 163/500\n",
      "128/128 [==============================] - 2s 13ms/step - loss: 0.0203 - accuracy: 0.9948 - auc: 1.0000 - val_loss: 0.0926 - val_accuracy: 0.9737 - val_auc: 0.9980\n",
      "Epoch 164/500\n",
      "128/128 [==============================] - 1s 11ms/step - loss: 0.0321 - accuracy: 0.9918 - auc: 0.9999 - val_loss: 0.1106 - val_accuracy: 0.9694 - val_auc: 0.9986\n",
      "Epoch 165/500\n",
      "128/128 [==============================] - 1s 10ms/step - loss: 0.0435 - accuracy: 0.9877 - auc: 0.9999 - val_loss: 0.2211 - val_accuracy: 0.9372 - val_auc: 0.9963\n"
     ]
    }
   ],
   "source": [
    "es = EarlyStopping(\n",
    "    monitor='val_accuracy', \n",
    "    restore_best_weights=True, \n",
    "    patience=30, min_delta = 0.001\n",
    ")\n",
    "lrr = ReduceLROnPlateau(monitor='val_accuracy', \n",
    "                        patience=3, \n",
    "                        verbose=1, \n",
    "                        factor=0.5,\n",
    "                        min_lr=0.00001)\n",
    "# new_model.fit(datagen.flow_from_dataframe(\n",
    "#     X_train,\n",
    "#     x_col=\"path\",\n",
    "#     y_col=\"category\",\n",
    "#     batch_size=100, \n",
    "#     directory = './prep'\n",
    "# ),\n",
    "#               validation_data=datagen.flow_from_dataframe(\n",
    "#             X_test,\n",
    "#             x_col=\"path\",\n",
    "#             y_col=\"category\",\n",
    "#                   batch_size=64, \n",
    "#                   directory = './prep'),\n",
    "#               epochs=500,\n",
    "#               callbacks=[es])\n",
    "history=model.fit(np.array(X_train).reshape(12800, 1, 20),\n",
    "        np.array(y_train),\n",
    "        epochs=500,\n",
    "        callbacks = [es],\n",
    "        batch_size = 100,\n",
    "#         steps_per_epoch = 4,\n",
    "#         shuffle = True,\n",
    "        validation_data = (np.array(X_test).reshape(3200,1,20),\n",
    "                            np.array(y_test))\n",
    "                           )"
   ]
  },
  {
   "cell_type": "code",
   "execution_count": 16,
   "id": "4a37c59a",
   "metadata": {
    "execution": {
     "iopub.execute_input": "2022-11-23T19:29:46.956799Z",
     "iopub.status.busy": "2022-11-23T19:29:46.956119Z",
     "iopub.status.idle": "2022-11-23T19:30:16.888309Z",
     "shell.execute_reply": "2022-11-23T19:30:16.887180Z"
    },
    "papermill": {
     "duration": 30.239609,
     "end_time": "2022-11-23T19:30:16.890904",
     "exception": false,
     "start_time": "2022-11-23T19:29:46.651295",
     "status": "completed"
    },
    "tags": []
   },
   "outputs": [
    {
     "data": {
      "image/png": "[encoded data removed]",
      "text/plain": [
       "<Figure size 864x432 with 3 Axes>"
      ]
     },
     "metadata": {
      "needs_background": "light"
     },
     "output_type": "display_data"
    }
   ],
   "source": [
    "fig, (ax1, ax2, ax3) = plt.subplots(3,1, figsize=(12,6))\n",
    "ax2.plot(history.history['loss'], color='orange', label='Loss')\n",
    "ax2.plot(history.history['val_loss'], color='blue', label='val_loss')\n",
    "ax2.legend(loc='upper right')\n",
    "ax1.plot(history.history['accuracy'], label='Accuracy', color='orange')\n",
    "ax1.plot(history.history['val_accuracy'], label='val_accuracy', color='blue')\n",
    "ax1.legend(loc=\"upper right\")\n",
    "ax1.set_title(\"Model-Accuracy w.r.t Epochs\", loc='center')\n",
    "plt.xlabel(\"Epochs\")\n",
    "plt.ylabel(\"Loss\")\n",
    "ax1.set_xlabel(\"Epoch\")\n",
    "ax1.set_ylabel(\"Accuracy\")\n",
    "ax3.plot(history.history['auc'], color='orange', label='AUC')\n",
    "ax3.plot(history.history['val_auc'], color='blue', label='val_auc')\n",
    "ax3.set_xlabel(\"Epoch\")\n",
    "ax3.set_ylabel(\"AUC\")\n",
    "ax3.legend(loc='upper right')\n",
    "plt.savefig('model_acc_LSTM_ESC50.png')"
   ]
  },
  {
   "cell_type": "code",
   "execution_count": 17,
   "id": "07ddc1c7",
   "metadata": {
    "execution": {
     "iopub.execute_input": "2022-11-23T19:30:17.587029Z",
     "iopub.status.busy": "2022-11-23T19:30:17.586069Z",
     "iopub.status.idle": "2022-11-23T19:30:18.269614Z",
     "shell.execute_reply": "2022-11-23T19:30:18.268499Z"
    },
    "papermill": {
     "duration": 1.008058,
     "end_time": "2022-11-23T19:30:18.272051",
     "exception": false,
     "start_time": "2022-11-23T19:30:17.263993",
     "status": "completed"
    },
    "tags": []
   },
   "outputs": [],
   "source": [
    "y_pred = model.predict(np.array(X_test).reshape(3200, 1,20))"
   ]
  },
  {
   "cell_type": "code",
   "execution_count": 18,
   "id": "44a49754",
   "metadata": {
    "execution": {
     "iopub.execute_input": "2022-11-23T19:30:18.903091Z",
     "iopub.status.busy": "2022-11-23T19:30:18.902623Z",
     "iopub.status.idle": "2022-11-23T19:30:18.907205Z",
     "shell.execute_reply": "2022-11-23T19:30:18.906288Z"
    },
    "papermill": {
     "duration": 0.321777,
     "end_time": "2022-11-23T19:30:18.909292",
     "exception": false,
     "start_time": "2022-11-23T19:30:18.587515",
     "status": "completed"
    },
    "tags": []
   },
   "outputs": [],
   "source": [
    "y_pred_classes = np.argmax(y_pred, axis=1)"
   ]
  },
  {
   "cell_type": "code",
   "execution_count": 19,
   "id": "e53e1426",
   "metadata": {
    "execution": {
     "iopub.execute_input": "2022-11-23T19:30:19.573155Z",
     "iopub.status.busy": "2022-11-23T19:30:19.572801Z",
     "iopub.status.idle": "2022-11-23T19:30:19.579489Z",
     "shell.execute_reply": "2022-11-23T19:30:19.578574Z"
    },
    "papermill": {
     "duration": 0.313989,
     "end_time": "2022-11-23T19:30:19.581729",
     "exception": false,
     "start_time": "2022-11-23T19:30:19.267740",
     "status": "completed"
    },
    "tags": []
   },
   "outputs": [
    {
     "data": {
      "text/plain": [
       "array([36, 39, 40, ...,  2, 23, 48])"
      ]
     },
     "execution_count": 19,
     "metadata": {},
     "output_type": "execute_result"
    }
   ],
   "source": [
    "y_pred_classes"
   ]
  },
  {
   "cell_type": "code",
   "execution_count": 20,
   "id": "ad6112ec",
   "metadata": {
    "execution": {
     "iopub.execute_input": "2022-11-23T19:30:20.211243Z",
     "iopub.status.busy": "2022-11-23T19:30:20.210886Z",
     "iopub.status.idle": "2022-11-23T19:30:20.216293Z",
     "shell.execute_reply": "2022-11-23T19:30:20.215145Z"
    },
    "papermill": {
     "duration": 0.321981,
     "end_time": "2022-11-23T19:30:20.218536",
     "exception": false,
     "start_time": "2022-11-23T19:30:19.896555",
     "status": "completed"
    },
    "tags": []
   },
   "outputs": [],
   "source": [
    "y_true = np.argmax(np.array(y_test), axis=1)"
   ]
  },
  {
   "cell_type": "code",
   "execution_count": 21,
   "id": "51e06d09",
   "metadata": {
    "execution": {
     "iopub.execute_input": "2022-11-23T19:30:20.884277Z",
     "iopub.status.busy": "2022-11-23T19:30:20.883914Z",
     "iopub.status.idle": "2022-11-23T19:30:20.890389Z",
     "shell.execute_reply": "2022-11-23T19:30:20.889473Z"
    },
    "papermill": {
     "duration": 0.371361,
     "end_time": "2022-11-23T19:30:20.892635",
     "exception": false,
     "start_time": "2022-11-23T19:30:20.521274",
     "status": "completed"
    },
    "tags": []
   },
   "outputs": [
    {
     "data": {
      "text/plain": [
       "array([36, 39, 40, ...,  2, 23, 41])"
      ]
     },
     "execution_count": 21,
     "metadata": {},
     "output_type": "execute_result"
    }
   ],
   "source": [
    "y_true"
   ]
  },
  {
   "cell_type": "code",
   "execution_count": 22,
   "id": "42fa0c0d",
   "metadata": {
    "execution": {
     "iopub.execute_input": "2022-11-23T19:30:21.501627Z",
     "iopub.status.busy": "2022-11-23T19:30:21.501273Z",
     "iopub.status.idle": "2022-11-23T19:30:21.508008Z",
     "shell.execute_reply": "2022-11-23T19:30:21.507099Z"
    },
    "papermill": {
     "duration": 0.313674,
     "end_time": "2022-11-23T19:30:21.510454",
     "exception": false,
     "start_time": "2022-11-23T19:30:21.196780",
     "status": "completed"
    },
    "tags": []
   },
   "outputs": [
    {
     "data": {
      "text/plain": [
       "0.981875"
      ]
     },
     "execution_count": 22,
     "metadata": {},
     "output_type": "execute_result"
    }
   ],
   "source": [
    "np.mean(y_pred_classes == y_true)"
   ]
  },
  {
   "cell_type": "code",
   "execution_count": 23,
   "id": "3d0a1af7",
   "metadata": {
    "execution": {
     "iopub.execute_input": "2022-11-23T19:30:22.170976Z",
     "iopub.status.busy": "2022-11-23T19:30:22.170616Z",
     "iopub.status.idle": "2022-11-23T19:30:33.603180Z",
     "shell.execute_reply": "2022-11-23T19:30:33.602321Z"
    },
    "papermill": {
     "duration": 11.79323,
     "end_time": "2022-11-23T19:30:33.605877",
     "exception": false,
     "start_time": "2022-11-23T19:30:21.812647",
     "status": "completed"
    },
    "tags": []
   },
   "outputs": [
    {
     "data": {
      "text/plain": [
       "<Figure size 432x288 with 0 Axes>"
      ]
     },
     "metadata": {},
     "output_type": "display_data"
    },
    {
     "data": {
      "image/png": "[encoded data removed]",
      "text/plain": [
       "<Figure size 864x864 with 2 Axes>"
      ]
     },
     "metadata": {
      "needs_background": "light"
     },
     "output_type": "display_data"
    }
   ],
   "source": [
    "from sklearn.metrics import confusion_matrix\n",
    "cm = confusion_matrix(y_pred_classes, y_true,)\n",
    "import itertools\n",
    "plt.clf()\n",
    "fig = plt.figure(figsize = (12,12)) \n",
    "ax = fig.add_subplot(111)\n",
    "ax.set_aspect(1)\n",
    "plt.imshow(cm, cmap = plt.cm.Blues, interpolation='nearest')\n",
    "\n",
    "plt.title(\"Confusion Matrix\")\n",
    "plt.colorbar()\n",
    "tick_marks = np.arange(len(range(50)))\n",
    "plt.xticks(tick_marks, range(50), rotation=45)\n",
    "plt.yticks(tick_marks, range(50))\n",
    "thresh = cm.max()/2\n",
    "for i, j in itertools.product(range(cm.shape[0]), range(cm.shape[1])):\n",
    "    plt.text(j, i , cm[i,j], horizontalalignment=\"center\", color=\"white\" if cm[i,j]>thresh else \"black\")\n",
    "\n",
    "plt.tight_layout()\n",
    "plt.ylabel(\"True Label\")\n",
    "plt.xlabel(\"Predicted Label\")\n",
    "plt.savefig('con_matrix_LSTM_ESC50.png')"
   ]
  }
 ],
 "metadata": {
  "kernelspec": {
   "display_name": "Python 3",
   "language": "python",
   "name": "python3"
  },
  "language_info": {
   "codemirror_mode": {
    "name": "ipython",
    "version": 3
   },
   "file_extension": ".py",
   "mimetype": "text/x-python",
   "name": "python",
   "nbconvert_exporter": "python",
   "pygments_lexer": "ipython3",
   "version": "3.7.12"
  },
  "papermill": {
   "default_parameters": {},
   "duration": 2087.266304,
   "end_time": "2022-11-23T19:30:37.302104",
   "environment_variables": {},
   "exception": null,
   "input_path": "__notebook__.ipynb",
   "output_path": "__notebook__.ipynb",
   "parameters": {},
   "start_time": "2022-11-23T18:55:50.035800",
   "version": "2.3.4"
  }
 },
 "nbformat": 4,
 "nbformat_minor": 5
}
